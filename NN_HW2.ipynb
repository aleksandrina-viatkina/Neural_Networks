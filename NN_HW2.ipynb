{
 "cells": [
  {
   "cell_type": "markdown",
   "metadata": {
    "id": "h3K-MpRwYJmN"
   },
   "source": [
    "<h1>Домашнее задание к вебинару 2<h1>"
   ]
  },
  {
   "cell_type": "markdown",
   "metadata": {
    "id": "Br6WX_TMYRmu"
   },
   "source": [
    "#### Задание 1. Опишите - какой результат нейросети получен в зависимости от:\n",
    "* числа нейронов в слое (для 2-х слойной сети),  \n",
    "* числа слоев (2, 3, 5, 10) при близких размерах сети (близкое число тренируемых параметров).  \n",
    "* фиксируйте для тренировочного и тестового набора метрики accuracy."
   ]
  },
  {
   "cell_type": "code",
   "execution_count": 38,
   "metadata": {
    "id": "jnIOVmB6YMwh"
   },
   "outputs": [],
   "source": [
    "import matplotlib.pyplot as plt\n",
    "\n",
    "from keras.datasets import fashion_mnist\n",
    "import numpy as np"
   ]
  },
  {
   "cell_type": "code",
   "execution_count": 39,
   "metadata": {
    "id": "A4R-_PEfdKRu"
   },
   "outputs": [],
   "source": [
    "from sklearn.metrics import confusion_matrix, recall_score, precision_score, f1_score\n",
    "from keras.models import Sequential\n",
    "from keras.layers import Dense\n",
    "from keras.losses import CategoricalCrossentropy\n",
    "from keras.datasets import fashion_mnist\n",
    "from tensorflow.keras.utils import to_categorical"
   ]
  },
  {
   "cell_type": "code",
   "execution_count": 40,
   "metadata": {
    "colab": {
     "base_uri": "https://localhost:8080/"
    },
    "id": "gggDMHAMYMyE",
    "outputId": "bb102eeb-707d-416b-f8c9-0f7e6e3db6ef"
   },
   "outputs": [
    {
     "name": "stdout",
     "output_type": "stream",
     "text": [
      "(60000, 28, 28) (10000, 28, 28)\n",
      "(60000,)\n"
     ]
    }
   ],
   "source": [
    "(X_train, y_train_labels), (X_test, y_test_labels) = fashion_mnist.load_data()\n",
    "\n",
    "print(X_train.shape, X_test.shape)\n",
    "print(y_train_labels.shape)"
   ]
  },
  {
   "cell_type": "code",
   "execution_count": 41,
   "metadata": {
    "colab": {
     "base_uri": "https://localhost:8080/",
     "height": 282
    },
    "id": "5NijVGdbYM1M",
    "outputId": "858f1be5-36d3-4f6d-f3ca-7919c1600b10"
   },
   "outputs": [
    {
     "name": "stdout",
     "output_type": "stream",
     "text": [
      "Label is 9\n"
     ]
    },
    {
     "data": {
      "image/png": "[encoded data removed]",
      "text/plain": [
       "<Figure size 576x288 with 1 Axes>"
      ]
     },
     "metadata": {
      "needs_background": "light"
     },
     "output_type": "display_data"
    }
   ],
   "source": [
    "ind = np.random.randint(0, X_train.shape[0])\n",
    "plt.figure(figsize = (8,4))\n",
    "plt.imshow(X_train[ind].reshape([28,28]), cmap='gray')\n",
    "print(f'Label is {y_train_labels[ind]}')"
   ]
  },
  {
   "cell_type": "code",
   "execution_count": 42,
   "metadata": {
    "colab": {
     "base_uri": "https://localhost:8080/"
    },
    "id": "f6bc5dUsY1e9",
    "outputId": "0c11d7b2-1950-45b4-9b6f-21a7be98a88c"
   },
   "outputs": [
    {
     "data": {
      "text/plain": [
       "(0, 255)"
      ]
     },
     "execution_count": 42,
     "metadata": {},
     "output_type": "execute_result"
    }
   ],
   "source": [
    "X_train.min(), X_train.max()"
   ]
  },
  {
   "cell_type": "markdown",
   "metadata": {
    "id": "QkgWq3KgaJ8a"
   },
   "source": [
    "Т. к. нейронные сети работают на линейных моделях, произведем нормирование данных"
   ]
  },
  {
   "cell_type": "code",
   "execution_count": 43,
   "metadata": {
    "colab": {
     "base_uri": "https://localhost:8080/"
    },
    "id": "Uadk_LyXZk9O",
    "outputId": "9f957c92-f734-4444-a18d-e8d1f49497ff"
   },
   "outputs": [
    {
     "data": {
      "text/plain": [
       "(0.0, 1.0)"
      ]
     },
     "execution_count": 43,
     "metadata": {},
     "output_type": "execute_result"
    }
   ],
   "source": [
    "# Нормирование\n",
    "X_train = X_train / 255.0\n",
    "X_test = X_test / 255.0\n",
    "X_train.min(), X_train.max()"
   ]
  },
  {
   "cell_type": "markdown",
   "metadata": {
    "id": "ijTOsv_NaWps"
   },
   "source": [
    "Вытянем двухмерный массив характеристик изображений в длинный вектор значений"
   ]
  },
  {
   "cell_type": "code",
   "execution_count": 44,
   "metadata": {
    "colab": {
     "base_uri": "https://localhost:8080/"
    },
    "id": "lRpGBnLLaP3e",
    "outputId": "52790889-6bf7-483d-b217-272a9416cc47"
   },
   "outputs": [
    {
     "data": {
      "text/plain": [
       "((60000, 784), (10000, 784))"
      ]
     },
     "execution_count": 44,
     "metadata": {},
     "output_type": "execute_result"
    }
   ],
   "source": [
    "# Вытягивание признаков\n",
    "X_train = X_train.reshape((-1, 28 * 28))\n",
    "X_test = X_test.reshape((-1, 28 * 28))\n",
    "\n",
    "X_train.shape, X_test.shape"
   ]
  },
  {
   "cell_type": "markdown",
   "metadata": {
    "id": "tcNVSTqQf6pH"
   },
   "source": [
    "Подготовка меток классов"
   ]
  },
  {
   "cell_type": "code",
   "execution_count": 45,
   "metadata": {
    "colab": {
     "base_uri": "https://localhost:8080/"
    },
    "id": "Of7861tyfPJA",
    "outputId": "2d583649-b163-4098-ba88-ae426be28bfe"
   },
   "outputs": [
    {
     "data": {
      "text/plain": [
       "array([9, 0, 0, 3, 0], dtype=uint8)"
      ]
     },
     "execution_count": 45,
     "metadata": {},
     "output_type": "execute_result"
    }
   ],
   "source": [
    "y_train_labels[:5]"
   ]
  },
  {
   "cell_type": "code",
   "execution_count": 46,
   "metadata": {
    "colab": {
     "base_uri": "https://localhost:8080/"
    },
    "id": "yyuhkFRXfPRD",
    "outputId": "428359b2-dc98-48cb-8921-a3266b4b6eaf"
   },
   "outputs": [
    {
     "data": {
      "text/plain": [
       "array([[0., 0., 0., 0., 0., 0., 0., 0., 0., 1.]], dtype=float32)"
      ]
     },
     "execution_count": 46,
     "metadata": {},
     "output_type": "execute_result"
    }
   ],
   "source": [
    "from keras.utils.np_utils import to_categorical\n",
    "\n",
    "\n",
    "y_train = to_categorical(y_train_labels)\n",
    "y_test = to_categorical(y_test_labels)\n",
    "\n",
    "y_train[:1]"
   ]
  },
  {
   "cell_type": "markdown",
   "metadata": {
    "id": "ncJz4u0napyw"
   },
   "source": [
    "**Создадим нейронную сеть и изучим зависимость результата от параметров**"
   ]
  },
  {
   "cell_type": "code",
   "execution_count": 49,
   "metadata": {
    "colab": {
     "base_uri": "https://localhost:8080/"
    },
    "id": "baCPUr5OdFNE",
    "outputId": "7e2b177f-ffc7-4446-be90-0e53a97555a9"
   },
   "outputs": [
    {
     "name": "stdout",
     "output_type": "stream",
     "text": [
      "313/313 [==============================] - 1s 2ms/step - loss: 0.3955 - accuracy: 0.8654\n",
      "Количество нейронов во внутреннем слое двухслойной сети 5: Accuracy на трейне - 0.8975; Accuracy на тесте - 0.8654\n",
      "313/313 [==============================] - 1s 2ms/step - loss: 0.3861 - accuracy: 0.8677\n",
      "Количество нейронов во внутреннем слое двухслойной сети 7: Accuracy на трейне - 0.9037; Accuracy на тесте - 0.8677\n",
      "313/313 [==============================] - 1s 2ms/step - loss: 0.3728 - accuracy: 0.8739\n",
      "Количество нейронов во внутреннем слое двухслойной сети 10: Accuracy на трейне - 0.9040; Accuracy на тесте - 0.8739\n",
      "313/313 [==============================] - 1s 2ms/step - loss: 0.3743 - accuracy: 0.8730\n",
      "Количество нейронов во внутреннем слое двухслойной сети 12: Accuracy на трейне - 0.9030; Accuracy на тесте - 0.8730\n",
      "313/313 [==============================] - 1s 2ms/step - loss: 0.3542 - accuracy: 0.8778\n",
      "Количество нейронов во внутреннем слое двухслойной сети 15: Accuracy на трейне - 0.9037; Accuracy на тесте - 0.8778\n",
      "313/313 [==============================] - 1s 2ms/step - loss: 0.4018 - accuracy: 0.8621\n",
      "Количество нейронов во внутреннем слое двухслойной сети 20: Accuracy на трейне - 0.9044; Accuracy на тесте - 0.8621\n",
      "313/313 [==============================] - 1s 2ms/step - loss: 0.3769 - accuracy: 0.8739\n",
      "Количество нейронов во внутреннем слое двухслойной сети 25: Accuracy на трейне - 0.9045; Accuracy на тесте - 0.8739\n",
      "313/313 [==============================] - 1s 2ms/step - loss: 0.3748 - accuracy: 0.8773\n",
      "Количество нейронов во внутреннем слое двухслойной сети 50: Accuracy на трейне - 0.9074; Accuracy на тесте - 0.8773\n",
      "313/313 [==============================] - 1s 2ms/step - loss: 0.3774 - accuracy: 0.8760\n",
      "Количество нейронов во внутреннем слое двухслойной сети 70: Accuracy на трейне - 0.9055; Accuracy на тесте - 0.8760\n",
      "313/313 [==============================] - 1s 2ms/step - loss: 0.3805 - accuracy: 0.8784\n",
      "Количество нейронов во внутреннем слое двухслойной сети 100: Accuracy на трейне - 0.9061; Accuracy на тесте - 0.8784\n"
     ]
    }
   ],
   "source": [
    "n = [5, 7, 10, 12, 15, 20, 25, 50, 70, 100]\n",
    "\n",
    "for inner in n:\n",
    "  \n",
    "    model = Sequential(name='my_model')\n",
    "    model.add(Dense(100, input_shape=(28 * 28,), activation='relu'))\n",
    "    model.add(Dense(inner, activation='relu'))\n",
    "    model.add(Dense(10, activation='sigmoid'))\n",
    "\n",
    "  # Компилируем сеть с оптимизатором , функцией потерь и метрикой\n",
    "\n",
    "    model.compile(\n",
    "    optimizer='adam', # оптимизатор\n",
    "    loss=CategoricalCrossentropy(), # функция потерь\n",
    "    metrics=['accuracy'], # метрика\n",
    "  ) \n",
    "\n",
    "  # Обучаем сеть\n",
    "\n",
    "    history = model.fit(  \n",
    "      X_train,\n",
    "      y_train,\n",
    "      epochs=10,\n",
    "      batch_size=10, \n",
    "      validation_split=0.2,\n",
    "      verbose=0\n",
    "  )\n",
    "\n",
    "\n",
    "    # Оцениваем качество\n",
    "\n",
    "    test_loss, test_acc = model.evaluate(X_test, y_test)\n",
    "\n",
    "    print(f'Количество нейронов во внутреннем слое двухслойной сети {inner}: '\n",
    "         f'Accuracy на трейне - {history.history.get(\"accuracy\")[-1]:.4f}; '\n",
    "        f'Accuracy на тесте - {test_acc:.4f}')"
   ]
  },
  {
   "cell_type": "markdown",
   "metadata": {
    "id": "sGzuTh68rKbC"
   },
   "source": [
    "**Вывод**: с увеличением количества нейронов на внутреннем слое двухслойной сети мерика accuracy растет незначительно, однако на трейне она растет быстрее, чем на тесте, из-за чего можно отметить наличие небольшого переобучения и допустить , что оно усилится при дальнейшем увеличении количества нейронов. Так же периодически набдлюдается небольшое переобучение. Однако с количеством слоев = 100 получается наилучший результат, остановимся на этом количестве нейронов скрытого слоя."
   ]
  },
  {
   "cell_type": "markdown",
   "metadata": {
    "id": "gaPvJdqf1LB3"
   },
   "source": [
    "Теперь изучим зависимост метрики accuracy от количества слоев"
   ]
  },
  {
   "cell_type": "code",
   "execution_count": 60,
   "metadata": {
    "id": "w_2la4i3dFQT"
   },
   "outputs": [],
   "source": [
    "# Создадим (для удобства) функцию для компиляции, обучения нейронной сети и вывода значения метрики accuracy\n",
    "\n",
    "def evaluate_model(model, X_train=X_train, y_train=y_train, X_test=X_test, y_test=y_test, epochs = 12):\n",
    "    #Компиляция\n",
    "    model.compile(optimizer = 'adam',\n",
    "                    loss = 'categorical_crossentropy',\n",
    "                    metrics = ['accuracy'])\n",
    "\n",
    "    history = model.fit(X_train, y_train, \n",
    "                          batch_size = 100,\n",
    "                          epochs = epochs, \n",
    "                          verbose = 0,\n",
    "                          validation_split = 0.2)\n",
    "    test_loss, test_acc = model.evaluate(X_test, y_test, verbose = 0)\n",
    "\n",
    "    print(f'Model {model} -  Accuracy train: {history.history[\"accuracy\"][-1]:.4f}, accuracy test: {test_acc:.4f}')\n",
    "\n",
    "    return history.history[\"accuracy\"][-1], test_acc"
   ]
  },
  {
   "cell_type": "code",
   "execution_count": 61,
   "metadata": {
    "id": "6xkAFTLj7z_d"
   },
   "outputs": [],
   "source": [
    "result = {'n_layers': [],\n",
    "          'train_acc': [],\n",
    "          'test_acc': []}"
   ]
  },
  {
   "cell_type": "code",
   "execution_count": 62,
   "metadata": {
    "colab": {
     "base_uri": "https://localhost:8080/"
    },
    "id": "Fv5A9nFm6BX8",
    "outputId": "9e11f1a0-8f23-432f-8e69-6f48ddc665ca"
   },
   "outputs": [
    {
     "name": "stdout",
     "output_type": "stream",
     "text": [
      "Model <keras.engine.sequential.Sequential object at 0x7f746c09f310> -  Accuracy train: 0.9107, accuracy test: 0.8822\n",
      "Model <keras.engine.sequential.Sequential object at 0x7f74744ae790> -  Accuracy train: 0.9121, accuracy test: 0.8798\n",
      "Model <keras.engine.sequential.Sequential object at 0x7f745ad883d0> -  Accuracy train: 0.9109, accuracy test: 0.8727\n",
      "Model <keras.engine.sequential.Sequential object at 0x7f745fd27c10> -  Accuracy train: 0.9023, accuracy test: 0.8739\n"
     ]
    }
   ],
   "source": [
    "# двухслойная модель (входной слой в данном случае не учитываем в подсчете количества слоев)\n",
    "model_2 = Sequential([\n",
    "    Dense(100, input_shape=(28 * 28,), activation='relu'),                  \n",
    "    Dense(80, activation='relu'),\n",
    "    Dense(10, activation='sigmoid')\n",
    "])\n",
    "train_acc2, test_acc2 = evaluate_model(model_2, X_train, y_train, X_test, y_test)\n",
    "\n",
    "#Занесем данные в словарь\n",
    "result['n_layers'].append(2)\n",
    "result['train_acc'].append(train_acc2)\n",
    "result['test_acc'].append(test_acc2)\n",
    "\n",
    "\n",
    "\n",
    "# трехслойная модель\n",
    "model_3 = Sequential([\n",
    "    Dense(100, input_shape=(28 * 28,), activation='relu'),                  \n",
    "    Dense(90, activation='relu'),\n",
    "    Dense(80, activation='relu'),\n",
    "    Dense(10, activation='sigmoid')\n",
    "])\n",
    "\n",
    "train_acc3, test_acc3 = evaluate_model(model_3, X_train, y_train, X_test, y_test)\n",
    "\n",
    "#Занесем данные в словарь\n",
    "result['n_layers'].append(3)\n",
    "result['train_acc'].append(train_acc2)\n",
    "result['test_acc'].append(test_acc2)\n",
    "\n",
    "\n",
    "# пятислойная модель\n",
    "model_5 = Sequential([\n",
    "    Dense(100, input_shape=(28 * 28,), activation='relu'),  \n",
    "    Dense(90, activation='relu'),                \n",
    "    Dense(80, activation='relu'),\n",
    "    Dense(70, activation='relu'),\n",
    "    Dense(60, activation='relu'),\n",
    "    Dense(10, activation='sigmoid')\n",
    "])\n",
    "\n",
    "train_acc5, test_acc5 = evaluate_model(model_5, X_train, y_train, X_test, y_test)\n",
    "\n",
    "#Занесем данные в словарь\n",
    "result['n_layers'].append(5)\n",
    "result['train_acc'].append(train_acc5)\n",
    "result['test_acc'].append(test_acc5)\n",
    "\n",
    "\n",
    "# десятислойная модель\n",
    "model_10 = Sequential([\n",
    "    Dense(100, input_shape=(28 * 28,), activation='relu'), \n",
    "    Dense(95, activation='relu'),                 \n",
    "    Dense(95, activation='relu'),\n",
    "    Dense(90, activation='relu'),\n",
    "    Dense(85, activation='relu'),\n",
    "    Dense(80, activation='relu'),\n",
    "    Dense(75, activation='relu'),\n",
    "    Dense(70, activation='relu'),\n",
    "    Dense(65, activation='relu'),\n",
    "    Dense(60, activation='relu'),\n",
    "    Dense(10, activation='sigmoid')\n",
    "])\n",
    "\n",
    "train_acc10, test_acc10 = evaluate_model(model_10, X_train, y_train, X_test, y_test)\n",
    "\n",
    "#Занесем данные в словарь\n",
    "result['n_layers'].append(10)\n",
    "result['train_acc'].append(train_acc10)\n",
    "result['test_acc'].append(test_acc10)\n",
    "\n"
   ]
  },
  {
   "cell_type": "code",
   "execution_count": 63,
   "metadata": {
    "colab": {
     "base_uri": "https://localhost:8080/"
    },
    "id": "fXq8lk0hDR5j",
    "outputId": "89fc58ff-de1e-4439-ad88-df91e995596f"
   },
   "outputs": [
    {
     "data": {
      "text/plain": [
       "{'n_layers': [2, 3, 5, 10],\n",
       " 'test_acc': [0.8822000026702881,\n",
       "  0.8822000026702881,\n",
       "  0.8726999759674072,\n",
       "  0.8738999962806702],\n",
       " 'train_acc': [0.9107499718666077,\n",
       "  0.9107499718666077,\n",
       "  0.910937488079071,\n",
       "  0.9023333191871643]}"
      ]
     },
     "execution_count": 63,
     "metadata": {},
     "output_type": "execute_result"
    }
   ],
   "source": [
    "result"
   ]
  },
  {
   "cell_type": "code",
   "execution_count": 64,
   "metadata": {
    "colab": {
     "base_uri": "https://localhost:8080/",
     "height": 351
    },
    "id": "iAzZhvaiBKpC",
    "outputId": "da612706-dcd8-47dc-e6b3-947b46d62694"
   },
   "outputs": [
    {
     "data": {
      "image/png": "[encoded data removed]",
      "text/plain": [
       "<Figure size 720x360 with 1 Axes>"
      ]
     },
     "metadata": {
      "needs_background": "light"
     },
     "output_type": "display_data"
    }
   ],
   "source": [
    "plt.figure(figsize=(10, 5))\n",
    "plt.plot(result['n_layers'], result['train_acc'], label='train_acc', c='#0CA4A5')\n",
    "plt.plot(result['n_layers'], result['test_acc'], label='test_acc', c='#F46036')\n",
    "\n",
    "plt.title('Зависимость accuracy от числа слоев')\n",
    "plt.xlabel('n_layers')\n",
    "plt.ylabel('accuracy')\n",
    "plt.legend()\n",
    "plt.show()"
   ]
  },
  {
   "cell_type": "markdown",
   "metadata": {
    "id": "EhD-mxLHFxPS"
   },
   "source": [
    "С увеличением количества слоев метрика имеет тенденцию снижаться."
   ]
  },
  {
   "cell_type": "markdown",
   "metadata": {
    "id": "TMUOETL2M91N"
   },
   "source": [
    "#### Задание 2. Проверьте работу разных оптимизаторов (SGD, Adam, RMSProp) для одной из моделей п.1. Фиксируйте для тренировочного и тестового набора метрики accuracy."
   ]
  },
  {
   "cell_type": "code",
   "execution_count": 68,
   "metadata": {
    "colab": {
     "base_uri": "https://localhost:8080/",
     "height": 526
    },
    "id": "_zRIWmfoCF6s",
    "outputId": "686ca04e-e2ba-4902-8113-8038b08b6df5"
   },
   "outputs": [
    {
     "name": "stdout",
     "output_type": "stream",
     "text": [
      "Оптимизатор - SGD: Accuracy на трейне - 0.859854; Accuracy на тесте - 0.841300.\n",
      "Оптимизатор - Adagrad: Accuracy на трейне - 0.818917; Accuracy на тесте - 0.807800.\n",
      "Оптимизатор - RMSProp: Accuracy на трейне - 0.917354; Accuracy на тесте - 0.876500.\n",
      "Оптимизатор - adam: Accuracy на трейне - 0.920042; Accuracy на тесте - 0.881100.\n"
     ]
    },
    {
     "data": {
      "image/png": "[encoded data removed]",
      "text/plain": [
       "<Figure size 1152x504 with 1 Axes>"
      ]
     },
     "metadata": {
      "needs_background": "light"
     },
     "output_type": "display_data"
    }
   ],
   "source": [
    "plt.figure(figsize=(16,7))\n",
    "\n",
    "# число рабочих эпох\n",
    "epochs = 15\n",
    "\n",
    "# вектор для вывода результатов\n",
    "epoch = np.arange(epochs+1)\n",
    "\n",
    "# будем изменять оптимизаторы\n",
    "\n",
    "for i_optim in ['SGD', 'Adagrad', 'RMSProp','adam']:\n",
    "    # зафиксируем random_state\n",
    "    import tensorflow as tf\n",
    "    tf.random.set_seed(1)\n",
    "\n",
    "    # создаем модель model\n",
    "    model_experiment = Sequential([\n",
    "        Dense(100, input_shape=(28 * 28,), activation='relu'),                  \n",
    "        Dense(80, activation='relu'),\n",
    "        Dense(10, activation='sigmoid')\n",
    "    ])\n",
    "\n",
    "    # компилируем modeli с одним из оптимизаторов\n",
    "    model_experiment.compile(\n",
    "          optimizer=i_optim,\n",
    "          loss='categorical_crossentropy',\n",
    "          metrics=['accuracy'],\n",
    "          )\n",
    "\n",
    "    # вычисляем ошибку для modeli без обучения\n",
    "    hh0_tr = model_experiment.evaluate(X_train[:48000,:], y_train[:48000,:], verbose = 0)\n",
    "    hh0_val = model_experiment.evaluate(X_train[48000:,:], y_train[48000:],verbose = 0)\n",
    "\n",
    "    # проводим обучение модели \n",
    "    hh = model_experiment.fit(\n",
    "                      X_train,\n",
    "                      y_train,\n",
    "                      epochs=epochs,\n",
    "                      batch_size=100, \n",
    "                      validation_split=0.2, \n",
    "                      verbose = 0\n",
    "                      )\n",
    "\n",
    "    test_loss, test_acc = model_experiment.evaluate(X_test, y_test, verbose=0)\n",
    "    print(f'Оптимизатор - {i_optim}: '\n",
    "            f'Accuracy на трейне - {hh.history.get(\"accuracy\")[-1]:.6f}; '\n",
    "            f'Accuracy на тесте - {test_acc:.6f}.')\n",
    "\n",
    "    # картинки\n",
    "    plt.plot(epoch,np.log([hh0_tr[0]]+hh.history['loss']),'-',label = model_experiment.optimizer.get_config()['name']+' train')\n",
    "    plt.plot(epoch,np.log([hh0_val[0]]+hh.history['val_loss']),'--',label = model_experiment.optimizer.get_config()['name']+' val')\n",
    "\n",
    "\n",
    "\n",
    "plt.legend()\n",
    "plt.grid('On')\n",
    "\n",
    "plt.title('нейросети от оптимизатора log(loss)')\n",
    "plt.xlabel('epoch')\n",
    "plt.ylabel('log(loss)')\n",
    "plt.show()"
   ]
  },
  {
   "cell_type": "markdown",
   "metadata": {
    "id": "J0KKyKWGWTE3"
   },
   "source": [
    "Очевидно, что наилучшая (наименьшая) метрика достигается при использовании оптимизатора Adam."
   ]
  },
  {
   "cell_type": "markdown",
   "metadata": {
    "id": "Wsv0Y6eLWpZz"
   },
   "source": [
    "#### Задание 3. Сделайте вывод - что помогло вам улучшить качество классификации в нейросети на тестовом наборе?"
   ]
  },
  {
   "cell_type": "markdown",
   "metadata": {
    "id": "pSgo1t7qaObX"
   },
   "source": [
    "Улучшению качества классификации поспособствовало:  \n",
    "Увеличение числа нейронов,   \n",
    "Увеличение числа эпох (аккуратное увеличение до 10, т.к. может начаться переобучение).   \n",
    "Калибровка количества слоев (в данной задаче оказалось, что 2х слойной нейронной сети достаточно, чтобы получить неплохой результат с наименьшим переобучением)  \n",
    "Увеличение размера batch_size"
   ]
  },
  {
   "cell_type": "code",
   "execution_count": 88,
   "metadata": {
    "colab": {
     "base_uri": "https://localhost:8080/"
    },
    "id": "wBwjth9JaOoG",
    "outputId": "e25d0240-bd83-4e33-d849-6587be73e495"
   },
   "outputs": [
    {
     "name": "stdout",
     "output_type": "stream",
     "text": [
      "Количество эпох - 7\n",
      "Model <keras.engine.sequential.Sequential object at 0x7f74600b86d0> -  Accuracy train: 0.8967, accuracy test: 0.8722\n",
      "\n",
      "Количество эпох - 10\n",
      "Model <keras.engine.sequential.Sequential object at 0x7f746eeb9e10> -  Accuracy train: 0.9061, accuracy test: 0.8771\n",
      "\n",
      "Количество эпох - 12\n",
      "Model <keras.engine.sequential.Sequential object at 0x7f746f39ef50> -  Accuracy train: 0.9120, accuracy test: 0.8794\n",
      "\n",
      "Количество эпох - 15\n",
      "Model <keras.engine.sequential.Sequential object at 0x7f746f32cd50> -  Accuracy train: 0.9193, accuracy test: 0.8775\n",
      "\n",
      "Количество эпох - 20\n",
      "Model <keras.engine.sequential.Sequential object at 0x7f746f1b2210> -  Accuracy train: 0.9305, accuracy test: 0.8830\n",
      "\n",
      "Количество эпох - 30\n",
      "Model <keras.engine.sequential.Sequential object at 0x7f745b352390> -  Accuracy train: 0.9467, accuracy test: 0.8773\n",
      "\n"
     ]
    }
   ],
   "source": [
    "#Дополнительно попробуем изучить влияние на величину метрики количества эпох\n",
    "\n",
    "epochs = [7, 10, 12, 15, 20, 30]\n",
    "for epoch in epochs:\n",
    "\n",
    "    model_exp_epochs = Sequential([\n",
    "        Dense(100, input_shape=(28 * 28,), activation='relu'),                  \n",
    "        Dense(80, activation='relu'),\n",
    "        Dense(10, activation='sigmoid')\n",
    "    ])\n",
    "    print(f'Количество эпох - {epoch}')\n",
    "    train_acc, test_acc = evaluate_model(model_exp_epochs, epochs=epoch)  \n",
    "    print()"
   ]
  },
  {
   "cell_type": "markdown",
   "metadata": {
    "id": "VZArRgfWnJT7"
   },
   "source": [
    "Вывод: с увеличением количества эпох существенно растет метрика на тренировочных данных и очень незначительно на тестовых -> увеличивается переобучение (на количестве 30 метрика на тренировочных данных достигает почти 100% , а на тесте 0.88.., налицо сильнейшее переобучение). Для данной задачи оптимально 10 эпох, сохраняя неплохую метрику и минимальное переобучение"
   ]
  },
  {
   "cell_type": "markdown",
   "metadata": {
    "id": "ISicWeFYktjU"
   },
   "source": [
    "#### Задание 4. Для одного варианта сети сформируйте матрицу ошибок по классам. Оцените качество модели по каждому классу отдельно (полнота, точность)."
   ]
  },
  {
   "cell_type": "code",
   "execution_count": 89,
   "metadata": {
    "colab": {
     "base_uri": "https://localhost:8080/"
    },
    "id": "CpIfYlDclren",
    "outputId": "64236f89-1cb4-40c1-ac8d-cde554519e12"
   },
   "outputs": [
    {
     "name": "stdout",
     "output_type": "stream",
     "text": [
      "Model <keras.engine.sequential.Sequential object at 0x7f745b12f310> -  Accuracy train: 0.9061, accuracy test: 0.8778\n"
     ]
    }
   ],
   "source": [
    "model_fin = Sequential([\n",
    "    Dense(100, input_shape=(28 * 28,), activation='relu'),                  \n",
    "    Dense(80, activation='relu'),\n",
    "    Dense(10, activation='sigmoid')\n",
    "])\n",
    "\n",
    "\n",
    "train_acc, test_acc = evaluate_model(model_fin, epochs=10) "
   ]
  },
  {
   "cell_type": "code",
   "execution_count": 90,
   "metadata": {
    "id": "pI2_3-DikrxH"
   },
   "outputs": [],
   "source": [
    "N = 5\n",
    "y_pred = model_fin.predict(X_test)\n",
    "y_pred_labels = np.argmax(y_pred, axis=1)"
   ]
  },
  {
   "cell_type": "code",
   "execution_count": 91,
   "metadata": {
    "colab": {
     "base_uri": "https://localhost:8080/"
    },
    "id": "zzefBvBRpx_t",
    "outputId": "bd1bb15f-3f0d-479d-b6aa-e75187441395"
   },
   "outputs": [
    {
     "data": {
      "text/plain": [
       "(array([8.8990092e-01, 1.3667345e-04, 9.9999404e-01, 7.4170828e-03,\n",
       "        9.9927098e-01, 5.8620483e-08, 9.9329716e-01, 9.6037991e-05,\n",
       "        2.3870766e-03, 2.2562137e-06], dtype=float32), 2)"
      ]
     },
     "execution_count": 91,
     "metadata": {},
     "output_type": "execute_result"
    }
   ],
   "source": [
    "y_pred[1], y_pred_labels[1]"
   ]
  },
  {
   "cell_type": "code",
   "execution_count": 92,
   "metadata": {
    "colab": {
     "base_uri": "https://localhost:8080/",
     "height": 217
    },
    "id": "ttFB4g0Nn1rJ",
    "outputId": "309f0f77-0576-4b49-f73f-ed637f82fd22"
   },
   "outputs": [
    {
     "data": {
      "image/png": "[encoded data removed]",
      "text/plain": [
       "<Figure size 1152x288 with 5 Axes>"
      ]
     },
     "metadata": {
      "needs_background": "light"
     },
     "output_type": "display_data"
    }
   ],
   "source": [
    "plt.figure(figsize=(16, 4))\n",
    "for i in range(N):\n",
    "    plt.subplot(1, N, i+1)\n",
    "    plt.imshow(X_test[i,:].reshape(28, 28))\n",
    "    plt.xlabel(str(y_pred_labels[i]))\n",
    "plt.show()"
   ]
  },
  {
   "cell_type": "code",
   "execution_count": 93,
   "metadata": {
    "colab": {
     "base_uri": "https://localhost:8080/"
    },
    "id": "F7X1oRlAqGvk",
    "outputId": "1be7b634-8b99-4c3b-8b3e-363d5a40f356"
   },
   "outputs": [
    {
     "data": {
      "text/plain": [
       "(array([9, 2, 1, 1, 6]), array([9, 2, 1, 1, 6], dtype=uint8))"
      ]
     },
     "execution_count": 93,
     "metadata": {},
     "output_type": "execute_result"
    }
   ],
   "source": [
    "y_pred_labels[:5], y_test_labels[:5]"
   ]
  },
  {
   "cell_type": "code",
   "execution_count": 94,
   "metadata": {
    "colab": {
     "base_uri": "https://localhost:8080/"
    },
    "id": "TK8bBbDZqG7D",
    "outputId": "fcf45cfa-4544-41ed-b6f1-380ee4341724"
   },
   "outputs": [
    {
     "data": {
      "text/plain": [
       "array([[832,   5,  28,  30,   8,   0,  86,   0,  11,   0],\n",
       "       [  1, 980,   0,  13,   3,   0,   2,   0,   1,   0],\n",
       "       [ 10,   2, 745,  10, 177,   0,  55,   0,   1,   0],\n",
       "       [ 15,  18,  16, 869,  57,   0,  21,   0,   4,   0],\n",
       "       [  0,   1,  58,  15, 877,   0,  46,   0,   3,   0],\n",
       "       [  0,   0,   0,   0,   0, 963,   0,  22,   2,  13],\n",
       "       [131,   3,  87,  29,  96,   0, 645,   0,   9,   0],\n",
       "       [  0,   0,   0,   0,   0,  26,   0, 948,   1,  25],\n",
       "       [  3,   0,   4,   4,  10,   2,   6,   3, 968,   0],\n",
       "       [  0,   0,   0,   0,   0,   6,   1,  42,   0, 951]])"
      ]
     },
     "execution_count": 94,
     "metadata": {},
     "output_type": "execute_result"
    }
   ],
   "source": [
    "confusion_matrix(y_test_labels, y_pred_labels)"
   ]
  },
  {
   "cell_type": "code",
   "execution_count": 95,
   "metadata": {
    "colab": {
     "base_uri": "https://localhost:8080/"
    },
    "id": "XiR0ublctcLt",
    "outputId": "a79eeb21-10dc-4722-906e-a21ffc83bd98"
   },
   "outputs": [
    {
     "data": {
      "text/plain": [
       "((10000,), (10000,))"
      ]
     },
     "execution_count": 95,
     "metadata": {},
     "output_type": "execute_result"
    }
   ],
   "source": [
    "y_test_labels.shape, y_pred_labels.shape"
   ]
  },
  {
   "cell_type": "markdown",
   "metadata": {
    "id": "dY6NPW3Jt4sU"
   },
   "source": [
    "Найдем precision, recall и f1 по классам"
   ]
  },
  {
   "cell_type": "code",
   "execution_count": 96,
   "metadata": {
    "colab": {
     "base_uri": "https://localhost:8080/"
    },
    "id": "V11p_l1gtv2A",
    "outputId": "51ff1f25-9ef4-490e-cd39-536b362cc0e9"
   },
   "outputs": [
    {
     "data": {
      "text/plain": [
       "array([0.83870968, 0.97125867, 0.79424307, 0.89587629, 0.71416938,\n",
       "       0.96589769, 0.74825986, 0.93399015, 0.968     , 0.96157735])"
      ]
     },
     "execution_count": 96,
     "metadata": {},
     "output_type": "execute_result"
    }
   ],
   "source": [
    "precision_score(y_test_labels, y_pred_labels, labels = np.unique(y_test_labels), average = None)"
   ]
  },
  {
   "cell_type": "code",
   "execution_count": 97,
   "metadata": {
    "colab": {
     "base_uri": "https://localhost:8080/"
    },
    "id": "c1Wez1Psp6KM",
    "outputId": "5a091225-83b1-4138-8cbe-279bd0503cbf"
   },
   "outputs": [
    {
     "data": {
      "text/plain": [
       "array([0.832, 0.98 , 0.745, 0.869, 0.877, 0.963, 0.645, 0.948, 0.968,\n",
       "       0.951])"
      ]
     },
     "execution_count": 97,
     "metadata": {},
     "output_type": "execute_result"
    }
   ],
   "source": [
    "recall_score(y_test_labels, y_pred_labels, labels = np.unique(y_test_labels), average = None)"
   ]
  },
  {
   "cell_type": "code",
   "execution_count": 98,
   "metadata": {
    "colab": {
     "base_uri": "https://localhost:8080/"
    },
    "id": "Y8T-1zY1sHl4",
    "outputId": "ee61823c-7685-4c51-928b-b9dfeb92ee58"
   },
   "outputs": [
    {
     "data": {
      "text/plain": [
       "array([0.83534137, 0.97560976, 0.76883385, 0.8822335 , 0.78725314,\n",
       "       0.96444667, 0.69280344, 0.94094293, 0.968     , 0.95625943])"
      ]
     },
     "execution_count": 98,
     "metadata": {},
     "output_type": "execute_result"
    }
   ],
   "source": [
    "f1_score(y_test_labels, y_pred_labels, labels=np.unique(y_test_labels), average=None)"
   ]
  },
  {
   "cell_type": "markdown",
   "metadata": {
    "id": "Tx5HPzvGuHqi"
   },
   "source": [
    "Метрики неплохие, но явно проседает класс 6, метрика f1 score 0.70, что мало относительно других классов"
   ]
  },
  {
   "cell_type": "code",
   "execution_count": null,
   "metadata": {
    "id": "ZzaoqipiuACJ"
   },
   "outputs": [],
   "source": []
  }
 ],
 "metadata": {
  "colab": {
   "collapsed_sections": [],
   "name": "NN_HW2",
   "provenance": []
  },
  "kernelspec": {
   "display_name": "Python 3",
   "language": "python",
   "name": "python3"
  },
  "language_info": {
   "codemirror_mode": {
    "name": "ipython",
    "version": 3
   },
   "file_extension": ".py",
   "mimetype": "text/x-python",
   "name": "python",
   "nbconvert_exporter": "python",
   "pygments_lexer": "ipython3",
   "version": "3.9.2"
  }
 },
 "nbformat": 4,
 "nbformat_minor": 1
}
