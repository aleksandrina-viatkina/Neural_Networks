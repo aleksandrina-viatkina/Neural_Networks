{
 "cells": [
  {
   "cell_type": "markdown",
   "metadata": {
    "id": "Qqcm3MfpOyP_"
   },
   "source": [
    "<h1>Домашнее задание к вебинару 1 <h1>"
   ]
  },
  {
   "cell_type": "code",
   "execution_count": 37,
   "metadata": {
    "id": "Pt9eda5yxpS1"
   },
   "outputs": [],
   "source": [
    "import numpy as np\n",
    "import pandas as pd\n",
    "import seaborn as sns\n",
    "import matplotlib.pyplot as plt\n",
    "\n",
    "import warnings\n",
    "warnings.filterwarnings('ignore')\n",
    "\n",
    "from sklearn.model_selection import train_test_split\n",
    "\n",
    "from math import tanh, cos"
   ]
  },
  {
   "cell_type": "markdown",
   "metadata": {
    "id": "lUS559cmfnFK"
   },
   "source": [
    "Запишем функции активации, которые пригодятся для экспериментов"
   ]
  },
  {
   "cell_type": "code",
   "execution_count": 38,
   "metadata": {
    "id": "1nxx7rKUxpS4"
   },
   "outputs": [],
   "source": [
    "# вычисление сигмоид функции\n",
    "def sigmoid(x):\n",
    "    x = np.clip(x, a_min=-500, a_max=500)\n",
    "    return 1 / (1 + np.exp(-x))\n",
    "\n",
    "# вычисление производной от сигмоид функции\n",
    "def sigmoid_deriv(x):\n",
    "    return sigmoid(x) * (1 - sigmoid(x))"
   ]
  },
  {
   "cell_type": "code",
   "execution_count": 39,
   "metadata": {
    "id": "5r2NvzpVxpS6"
   },
   "outputs": [],
   "source": [
    "# вычисление Relu функции\n",
    "\n",
    "def ReLU(x):\n",
    "    return x * (x > 0)"
   ]
  },
  {
   "cell_type": "code",
   "execution_count": 40,
   "metadata": {
    "id": "14r5RO-tZv5E"
   },
   "outputs": [],
   "source": [
    "def ReLU_deriv(x):\n",
    "    #return 1 if x > 0 else 0\n",
    "    return np.where(x>0, 1, 0)"
   ]
  },
  {
   "cell_type": "code",
   "execution_count": 41,
   "metadata": {
    "id": "uTNRtmFQfFiS"
   },
   "outputs": [],
   "source": [
    "def tahn(x):\n",
    "    return tanh(x)"
   ]
  },
  {
   "cell_type": "code",
   "execution_count": 42,
   "metadata": {
    "id": "EANI1aqFfFr4"
   },
   "outputs": [],
   "source": [
    "def tahn_deriv(x):\n",
    "    return 1/cos(x) ** 2 "
   ]
  },
  {
   "cell_type": "code",
   "execution_count": 43,
   "metadata": {
    "colab": {
     "base_uri": "https://localhost:8080/",
     "height": 391
    },
    "id": "8OKzhvA-Dkyq",
    "outputId": "b86cb714-5a54-4418-fd2b-987997d50d9c"
   },
   "outputs": [
    {
     "name": "stdout",
     "output_type": "stream",
     "text": [
      "(1797, 64)\n"
     ]
    },
    {
     "data": {
      "image/png": "[encoded data removed]",
      "text/plain": [
       "<Figure size 1152x432 with 10 Axes>"
      ]
     },
     "metadata": {
      "needs_background": "light"
     },
     "output_type": "display_data"
    }
   ],
   "source": [
    "# Загрузка датасета load_digits\n",
    "\n",
    "from sklearn.datasets import load_digits\n",
    "from sklearn.preprocessing import MinMaxScaler\n",
    "\n",
    "\n",
    "# Подготовка тренировочных данных\n",
    "X, y = load_digits(return_X_y=True)\n",
    "print(X.shape) # расскоментируйте, чтобы размер данных\n",
    "\n",
    "# репрезентация данных\n",
    "plt.figure(figsize=(16, 6))\n",
    "for i in range(10):\n",
    "    plt.subplot(2, 5, i + 1)\n",
    "    plt.imshow(X[i,:].reshape([8, 8]))"
   ]
  },
  {
   "cell_type": "code",
   "execution_count": 44,
   "metadata": {
    "colab": {
     "base_uri": "https://localhost:8080/"
    },
    "id": "_Z1QSqQ0H-C4",
    "outputId": "55007526-b8cf-4839-d189-68e56aaf6530"
   },
   "outputs": [
    {
     "data": {
      "text/plain": [
       "array([0, 1, 2, ..., 8, 9, 8])"
      ]
     },
     "execution_count": 44,
     "metadata": {},
     "output_type": "execute_result"
    }
   ],
   "source": [
    "y"
   ]
  },
  {
   "cell_type": "code",
   "execution_count": 45,
   "metadata": {
    "id": "B-KVdVdVxpTJ"
   },
   "outputs": [],
   "source": [
    "def to_one_hot(Y):\n",
    "    n_col = np.max(Y) + 1\n",
    "    binarized = np.zeros((len(Y), n_col))\n",
    "    for i in range(len(Y)):\n",
    "        binarized[i, Y[i]] = 1\n",
    "    return binarized"
   ]
  },
  {
   "cell_type": "code",
   "execution_count": 46,
   "metadata": {
    "colab": {
     "base_uri": "https://localhost:8080/",
     "height": 153
    },
    "id": "oNJY5ADWxpTK",
    "outputId": "b59e71f7-532b-406e-f14f-51d724f8403d"
   },
   "outputs": [
    {
     "data": {
      "text/plain": [
       "array([[1., 0., 0., ..., 0., 0., 0.],\n",
       "       [0., 1., 0., ..., 0., 0., 0.],\n",
       "       [0., 0., 1., ..., 0., 0., 0.],\n",
       "       ...,\n",
       "       [0., 0., 0., ..., 0., 1., 0.],\n",
       "       [0., 0., 0., ..., 0., 0., 1.],\n",
       "       [0., 0., 0., ..., 0., 1., 0.]])"
      ]
     },
     "metadata": {},
     "output_type": "display_data"
    },
    {
     "data": {
      "text/plain": [
       "(1797, 10)"
      ]
     },
     "metadata": {},
     "output_type": "display_data"
    }
   ],
   "source": [
    "# формирование входных данных\n",
    "scaler = MinMaxScaler()\n",
    "X = scaler.fit_transform(X)\n",
    "\n",
    "# формирование выходных данных(результатов)\n",
    "y = y.flatten()\n",
    "y = to_one_hot(y)\n",
    "display(y, y.shape)"
   ]
  },
  {
   "cell_type": "code",
   "execution_count": 47,
   "metadata": {
    "colab": {
     "base_uri": "https://localhost:8080/"
    },
    "id": "b3EfWOXVHIoG",
    "outputId": "2ce43b9a-3247-473d-cb76-02353fe01c7d"
   },
   "outputs": [
    {
     "data": {
      "text/plain": [
       "(1797, 10)"
      ]
     },
     "execution_count": 47,
     "metadata": {},
     "output_type": "execute_result"
    }
   ],
   "source": [
    "# Проверка. В y быть 10 столбцов, т к у нас 10 чисел\n",
    "y.shape"
   ]
  },
  {
   "cell_type": "code",
   "execution_count": 48,
   "metadata": {
    "colab": {
     "base_uri": "https://localhost:8080/"
    },
    "id": "bBJi_H1LxpTL",
    "outputId": "a785cb69-49fb-43f7-84c5-5807eb681cb1"
   },
   "outputs": [
    {
     "data": {
      "text/plain": [
       "((1203, 64), (594, 64))"
      ]
     },
     "execution_count": 48,
     "metadata": {},
     "output_type": "execute_result"
    }
   ],
   "source": [
    "from sklearn.model_selection import train_test_split\n",
    "\n",
    "# Разделение данных на тренировочные и тестовые\n",
    "X_train, X_test, y_train, y_test = train_test_split(X, y, test_size=0.33)\n",
    "X_train.shape, X_test.shape"
   ]
  },
  {
   "cell_type": "code",
   "execution_count": 49,
   "metadata": {
    "colab": {
     "base_uri": "https://localhost:8080/"
    },
    "id": "O9sOFLbcy2r5",
    "outputId": "22977e71-548b-44f2-aa0a-833d17c375f4"
   },
   "outputs": [
    {
     "data": {
      "text/plain": [
       "array([[0., 0., 0., 0., 1., 0., 0., 0., 0., 0.],\n",
       "       [0., 0., 0., 0., 0., 0., 0., 0., 0., 1.],\n",
       "       [0., 0., 1., 0., 0., 0., 0., 0., 0., 0.],\n",
       "       [0., 0., 0., 0., 1., 0., 0., 0., 0., 0.],\n",
       "       [0., 0., 0., 0., 0., 0., 0., 0., 0., 1.],\n",
       "       [1., 0., 0., 0., 0., 0., 0., 0., 0., 0.],\n",
       "       [0., 0., 0., 0., 0., 0., 0., 0., 0., 1.],\n",
       "       [0., 0., 0., 0., 0., 1., 0., 0., 0., 0.],\n",
       "       [0., 0., 0., 0., 0., 0., 0., 0., 0., 1.],\n",
       "       [0., 0., 0., 1., 0., 0., 0., 0., 0., 0.]])"
      ]
     },
     "execution_count": 49,
     "metadata": {},
     "output_type": "execute_result"
    }
   ],
   "source": [
    "y_train[:10]"
   ]
  },
  {
   "cell_type": "markdown",
   "metadata": {
    "id": "4j0g47JcxpTO"
   },
   "source": [
    "## Построение двухслойной нейронной сети на numpy <a class='anchor' id='example2'>"
   ]
  },
  {
   "cell_type": "markdown",
   "metadata": {
    "id": "AD64Yu7LMC0Z"
   },
   "source": [
    "<h3>Задание 1. Попробуйте видоизменить параметры разобранной на уроке двухслойной нейронной сети таким образом, чтобы улучшить ее точность.<h3>"
   ]
  },
  {
   "cell_type": "markdown",
   "metadata": {
    "id": "JWFS3Rriqv8X"
   },
   "source": [
    "Настроила параметры методом подбора"
   ]
  },
  {
   "cell_type": "code",
   "execution_count": 96,
   "metadata": {
    "id": "RIeYUSovxpTP"
   },
   "outputs": [],
   "source": [
    "# Обучение нейронной сети\n",
    "\n",
    "# определим число нейронов скрытого слоя\n",
    "# СКОРРЕКТИРОВАНО (ИСХОДНОЕ ЗНАЧЕНИЕ = 5)\n",
    "neuron_numb = 16\n",
    "\n",
    "# присваивание исходных случайных весов\n",
    "np.random.seed(1)\n",
    "w0 = np.random.random((64, neuron_numb))  # для входного первого слоя    - 64 входа, neuron_numb выходов\n",
    "w1 = np.random.random((neuron_numb, 10))  # для внутреннего слоя - neuron_numb входов, 10 выходов\n",
    "\n",
    "# скорость обучения (learning rate)\n",
    "# СКОРРЕКТИРОВАНО (ИСХОДНОЕ ЗНАЧЕНИЕ = 0.01)\n",
    "learning_rate = 0.04\n",
    "\n",
    "# количество итераций\n",
    "# СКОРРЕКТИРОВАНО (ИСХОДНОЕ ЗНАЧЕНИЕ = 100)\n",
    "num_epochs = 300\n",
    "\n",
    "# массив для ошибок, чтобы потом построить график\n",
    "errors = []\n",
    "metrics = []\n",
    "\n",
    "# процесс обучения\n",
    "for i in range(num_epochs):\n",
    "\n",
    "    # прямое распространение(feed forward)\n",
    "    layer0 = X_train\n",
    "    # получим матрицу значений 1 слоя\n",
    "    layer1 = sigmoid(np.dot(layer0, w0)) # Пробовала использовать ReLU, tahn\n",
    "    # получим значения выходного слоя\n",
    "    layer2 = sigmoid(np.dot(layer1, w1))\n",
    "\n",
    "    # обратное распространение (back propagation)\n",
    "    # с использованием градиентного спуска\n",
    "    layer2_error = layer2 - y_train  # производная функции потерь\n",
    "    layer2_grad = layer2_error * sigmoid_deriv(layer2)\n",
    "    \n",
    "    layer1_error = layer2_grad.dot(w1.T) # перешли на 1 слой\n",
    "    layer1_grad = layer1_error * sigmoid_deriv(layer1)\n",
    "    \n",
    "    w1 -= layer1.T.dot(layer2_grad) * learning_rate\n",
    "    w0 -= layer0.T.dot(layer1_grad) * learning_rate\n",
    "    \n",
    "    # ошибка модели\n",
    "    error = np.mean(np.abs(layer2_error))\n",
    "    errors.append(error)\n",
    "    \n",
    "    # метрики качества\n",
    "    preds = np.argmax(layer2, axis=1)\n",
    "    labels = np.argmax(y_train, axis=1)\n",
    "    accuracy = (preds == labels).sum() * 100 / len(labels)\n",
    "    metrics.append(accuracy)"
   ]
  },
  {
   "cell_type": "code",
   "execution_count": 97,
   "metadata": {
    "colab": {
     "base_uri": "https://localhost:8080/"
    },
    "id": "WhK5KpI8qjBL",
    "outputId": "921b490c-7b90-4d77-abe9-aedcbe033d52"
   },
   "outputs": [
    {
     "data": {
      "text/plain": [
       "((1203, 64), (64, 16))"
      ]
     },
     "execution_count": 97,
     "metadata": {},
     "output_type": "execute_result"
    }
   ],
   "source": [
    "X_train.shape, w0.shape"
   ]
  },
  {
   "cell_type": "code",
   "execution_count": 98,
   "metadata": {
    "colab": {
     "base_uri": "https://localhost:8080/",
     "height": 651
    },
    "id": "-RGS2X4FxpTQ",
    "outputId": "05889dd2-3824-48ac-ad84-b83903676766"
   },
   "outputs": [
    {
     "data": {
      "image/png": "[encoded data removed]",
      "text/plain": [
       "<Figure size 1152x360 with 1 Axes>"
      ]
     },
     "metadata": {
      "needs_background": "light"
     },
     "output_type": "display_data"
    },
    {
     "data": {
      "image/png": "[encoded data removed]",
      "text/plain": [
       "<Figure size 1152x360 with 1 Axes>"
      ]
     },
     "metadata": {
      "needs_background": "light"
     },
     "output_type": "display_data"
    }
   ],
   "source": [
    "# Визуализация полученных результатов\n",
    "# Диаграмма точности в зависимости от обучения\n",
    "plt.figure(figsize=(16, 5))\n",
    "plt.plot(errors)\n",
    "plt.xlabel('Обучение')\n",
    "plt.ylabel('Ошибка')\n",
    "plt.show()\n",
    "\n",
    "plt.figure(figsize=(16, 5))\n",
    "plt.plot(metrics)\n",
    "plt.xlabel('Количество итераций')\n",
    "plt.ylabel('Accuracy')\n",
    "plt.show()"
   ]
  },
  {
   "cell_type": "code",
   "execution_count": 99,
   "metadata": {
    "colab": {
     "base_uri": "https://localhost:8080/",
     "height": 351
    },
    "id": "buD3QL6dLhg8",
    "outputId": "cffb0f44-6838-4645-ea4d-f711922ff005"
   },
   "outputs": [
    {
     "data": {
      "image/png": "[encoded data removed]",
      "text/plain": [
       "<Figure size 1152x360 with 1 Axes>"
      ]
     },
     "metadata": {
      "needs_background": "light"
     },
     "output_type": "display_data"
    },
    {
     "name": "stdout",
     "output_type": "stream",
     "text": [
      "accuracy на обучении 95.01%\n"
     ]
    }
   ],
   "source": [
    "N = 10\n",
    "label = 2\n",
    "plt.figure(figsize=(16, 5))\n",
    "plt.plot(layer2[:N, label], 'r', label='y pred')\n",
    "plt.plot(y_train[:N, label],'g', label='y train')\n",
    "plt.xticks(np.arange(N))\n",
    "plt.xlabel('№ примера')\n",
    "plt.ylabel('выход сети и целевой')\n",
    "plt.legend()\n",
    "plt.show()\n",
    "        \n",
    "print(f\"accuracy на обучении {accuracy:.2f}%\")"
   ]
  },
  {
   "cell_type": "code",
   "execution_count": 100,
   "metadata": {
    "colab": {
     "base_uri": "https://localhost:8080/",
     "height": 351
    },
    "id": "lRmoi3hzxpTQ",
    "outputId": "4996b17b-a4c4-4e3f-996b-8ba71e28a2d1"
   },
   "outputs": [
    {
     "data": {
      "image/png": "[encoded data removed]",
      "text/plain": [
       "<Figure size 1152x360 with 1 Axes>"
      ]
     },
     "metadata": {
      "needs_background": "light"
     },
     "output_type": "display_data"
    },
    {
     "name": "stdout",
     "output_type": "stream",
     "text": [
      "accuracy на тесте 91.25%\n"
     ]
    }
   ],
   "source": [
    "# прямое распространение(feed forward)\n",
    "layer0_test = X_test\n",
    "layer1_test = sigmoid(np.dot(layer0_test, w0))\n",
    "layer2_test = sigmoid(np.dot(layer1_test, w1))\n",
    "    \n",
    "    \n",
    "N = 20\n",
    "plt.figure(figsize=(16, 5))\n",
    "plt.plot(layer2_test[:N, 1], 'r', label='y pred')\n",
    "plt.plot(y_test[:N, 1], 'g', label='y test')\n",
    "plt.xticks(np.arange(N))\n",
    "plt.xlabel('№ примера')\n",
    "plt.ylabel('выход сети и целевой')\n",
    "plt.legend()\n",
    "plt.show()\n",
    "\n",
    "# метрика модели\n",
    "preds_test = np.argmax(layer2_test, axis=1)\n",
    "labels_test = np.argmax(y_test, axis=1)\n",
    "accuracy_test = (preds_test == labels_test).sum() * 100 / len(labels_test)\n",
    "\n",
    "print(f\"accuracy на тесте {accuracy_test:.2f}%\")"
   ]
  },
  {
   "cell_type": "markdown",
   "metadata": {
    "id": "8InY5-8biFIT"
   },
   "source": [
    "<h3>Задание 2. Проведите анализ — что приводит к ухудшению точности нейронной сети?<h3>"
   ]
  },
  {
   "cell_type": "markdown",
   "metadata": {
    "id": "ZmSeoeJ1kot7"
   },
   "source": [
    "**Функция активации**.  \n",
    "При любой комбинации функций активации 1 и 2 слоя, отличной от sigmoid и sigmoid, результаты ухудшались. \n",
    "Были протестированы такие комбинации как:  \n",
    "ReLU-sigmoid   \n",
    "ReLU - tahn  \n",
    "sigmoid-tahn и наоборот \n",
    "tahn-tahn  \n",
    "  \n",
    "**Количество итераций**  \n",
    "Найдено оптимальное значения количества итераций - 300, значения ниже уменьшают метрику. \n",
    "\n",
    "**Скорость обучения**.   \n",
    "Увеличение скорости обучения существенно портит метрику \n",
    "  \n",
    "**Количество нейронов в скрытом слое**   \n",
    "Уменьшение нейронов понижением метрику. "
   ]
  },
  {
   "cell_type": "markdown",
   "metadata": {
    "id": "h9gqCu3vj7gU"
   },
   "source": [
    "<h3>Задание 3. Что приводит к увеличению точности?<h3>"
   ]
  },
  {
   "cell_type": "markdown",
   "metadata": {
    "id": "v8LZmegzmD2_"
   },
   "source": [
    "**Количество итераций**  \n",
    "Увеличение итераций повлияло на метрику в сторону роста. Найдено оптимальное значения количества итераций - 300, применяя бОльшее чисто итераций (например, 500), метрика остается примерно такой же (варьируется не существенно), то есть не имеет смысла использовать больше итераций и усложнять модель\n",
    "\n",
    "**Скорость обучения**.   \n",
    "Скорость обучения повлияла на рост метрики. Аккуратно подбирая значения методом перебора, я получила лучший результат при learning_rate = 0.04,  понижая или повышая скорость - метрика сразу падала. \n",
    "  \n",
    "**Количество нейронов в скрытом слое**   \n",
    "Увеличивая количество нейронов, метрика наиболее заметно росла"
   ]
  },
  {
   "cell_type": "markdown",
   "metadata": {
    "id": "5S8aG2KqxpTR"
   },
   "source": [
    "## Домашнее задание <a class='anchor' id='hw'>\n",
    "\n",
    "1. Попробуйте видоизменить параметры разобранной на уроке двухслойной нейронной сети таким образом, чтобы улучшить ее точность.\n",
    "2. Проведите анализ — что приводит к ухудшению точности нейронной сети?\n",
    "3. Что приводит к увеличению ее точности?"
   ]
  },
  {
   "cell_type": "markdown",
   "metadata": {
    "id": "TWX2iLhFxpTS"
   },
   "source": [
    "## Дополнительные материалы\n",
    "\n",
    "1. [Machine Learning News and Articles](https://medium.com/topic/machine-learning)\n",
    "2. [Neural Net from scratch](https://towardsai.net/p/machine-learning/nothing-but-numpy-understanding-creating-neural-networks-with-computational-graphs-from-scratch-6299901091b0)\n",
    "3. [Let’s code a Neural Network in plain NumPy](https://towardsdatascience.com/lets-code-a-neural-network-in-plain-numpy-ae7e74410795)"
   ]
  },
  {
   "cell_type": "code",
   "execution_count": null,
   "metadata": {},
   "outputs": [],
   "source": []
  }
 ],
 "metadata": {
  "colab": {
   "collapsed_sections": [
    "TWX2iLhFxpTS",
    "IADnOuFBxpTS"
   ],
   "name": "NN_HW1",
   "provenance": [],
   "toc_visible": true
  },
  "kernelspec": {
   "display_name": "Python 3",
   "language": "python",
   "name": "python3"
  },
  "language_info": {
   "codemirror_mode": {
    "name": "ipython",
    "version": 3
   },
   "file_extension": ".py",
   "mimetype": "text/x-python",
   "name": "python",
   "nbconvert_exporter": "python",
   "pygments_lexer": "ipython3",
   "version": "3.9.2"
  }
 },
 "nbformat": 4,
 "nbformat_minor": 1
}
