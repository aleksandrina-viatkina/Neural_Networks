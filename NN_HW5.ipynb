{
 "cells": [
  {
   "cell_type": "markdown",
   "metadata": {
    "id": "WQntwXMCnrlT"
   },
   "source": [
    "**Задание 1.** Попробуйте обучить нейронную сеть RNN/LSTM/GRU на любом другом датасете (любимый временной ряд, текст на русском (другом языке) как генератор или классификатор, или прилагаемый набор airline-passengers - пасажиропоток для авиалиний).  \n",
    "**Задание 2.** Опишите, какой результат вы получили? Что помогло вам улучшить ее точность?"
   ]
  },
  {
   "cell_type": "code",
   "execution_count": 203,
   "metadata": {
    "id": "4JnrNiY-np7D"
   },
   "outputs": [],
   "source": [
    "import numpy as np\n",
    "import pandas as pd\n",
    "\n",
    "import matplotlib.pyplot as plt\n",
    "\n",
    "import datetime as dt\n",
    "\n",
    "from sklearn.model_selection import train_test_split\n",
    "from sklearn.preprocessing import StandardScaler\n",
    "\n",
    "from tensorflow.keras.models import Sequential\n",
    "from tensorflow.keras.layers import Dense, SimpleRNN, LSTM, GRU, Attention, Bidirectional, BatchNormalization, Dropout, Conv1D, Flatten, GlobalMaxPooling1D\n",
    "from tensorflow.keras.preprocessing import timeseries_dataset_from_array\n",
    "from tensorflow.keras.utils import to_categorical\n",
    "from tensorflow.keras.preprocessing.text import Tokenizer\n",
    "from tensorflow.keras.preprocessing.sequence import pad_sequences\n",
    "from tensorflow.keras.callbacks import EarlyStopping\n",
    "\n",
    "import warnings\n",
    "warnings.filterwarnings(\"ignore\")"
   ]
  },
  {
   "cell_type": "code",
   "execution_count": 204,
   "metadata": {
    "colab": {
     "base_uri": "https://localhost:8080/"
    },
    "id": "RY8JyLrdnhOc",
    "outputId": "a1ce7bd7-0fcd-4cc4-e26d-f6ad69df5332"
   },
   "outputs": [
    {
     "name": "stdout",
     "output_type": "stream",
     "text": [
      "--2022-02-23 13:30:17--  https://drive.google.com/uc?export=download&id=1xwXieDVy1RKdfiJ6am_nNWp6XhAYdhNb\n",
      "Resolving drive.google.com (drive.google.com)... 74.125.132.113, 74.125.132.100, 74.125.132.138, ...\n",
      "Connecting to drive.google.com (drive.google.com)|74.125.132.113|:443... connected.\n",
      "HTTP request sent, awaiting response... 303 See Other\n",
      "Location: https://doc-08-c0-docs.googleusercontent.com/docs/securesc/ha0ro937gcuc7l7deffksulhg5h7mbp1/veohoco729v6kbal7f1blnnknns6s7aj/1645623000000/14904333240138417226/*/1xwXieDVy1RKdfiJ6am_nNWp6XhAYdhNb?e=download [following]\n",
      "Warning: wildcards not supported in HTTP.\n",
      "--2022-02-23 13:30:17--  https://doc-08-c0-docs.googleusercontent.com/docs/securesc/ha0ro937gcuc7l7deffksulhg5h7mbp1/veohoco729v6kbal7f1blnnknns6s7aj/1645623000000/14904333240138417226/*/1xwXieDVy1RKdfiJ6am_nNWp6XhAYdhNb?e=download\n",
      "Resolving doc-08-c0-docs.googleusercontent.com (doc-08-c0-docs.googleusercontent.com)... 209.85.200.132, 2607:f8b0:4001:c16::84\n",
      "Connecting to doc-08-c0-docs.googleusercontent.com (doc-08-c0-docs.googleusercontent.com)|209.85.200.132|:443... connected.\n",
      "HTTP request sent, awaiting response... 200 OK\n",
      "Length: 2037 (2.0K) [text/csv]\n",
      "Saving to: ‘airline-passengers.csv’\n",
      "\n",
      "airline-passengers. 100%[===================>]   1.99K  --.-KB/s    in 0s      \n",
      "\n",
      "2022-02-23 13:30:17 (86.7 MB/s) - ‘airline-passengers.csv’ saved [2037/2037]\n",
      "\n"
     ]
    }
   ],
   "source": [
    "!wget 'https://drive.google.com/uc?export=download&id=1xwXieDVy1RKdfiJ6am_nNWp6XhAYdhNb' -O airline-passengers.csv"
   ]
  },
  {
   "cell_type": "code",
   "execution_count": 205,
   "metadata": {
    "id": "Zc_yg8onnnY1"
   },
   "outputs": [],
   "source": [
    "data = pd.read_csv('/content/airline-passengers.csv')"
   ]
  },
  {
   "cell_type": "code",
   "execution_count": 206,
   "metadata": {
    "colab": {
     "base_uri": "https://localhost:8080/"
    },
    "id": "LR8vxB63nkHf",
    "outputId": "c6a52584-7c76-404e-f499-4d832f9503cd"
   },
   "outputs": [
    {
     "data": {
      "text/plain": [
       "3"
      ]
     },
     "execution_count": 206,
     "metadata": {},
     "output_type": "execute_result"
    }
   ],
   "source": [
    "a = np.array([1,2,3,4])\n",
    "a.take(2)"
   ]
  },
  {
   "cell_type": "code",
   "execution_count": 207,
   "metadata": {
    "colab": {
     "base_uri": "https://localhost:8080/",
     "height": 111
    },
    "id": "_7t5Ond2nn4o",
    "outputId": "4b53f1e8-6a8a-4407-d2e4-cdc7bcdad29a"
   },
   "outputs": [
    {
     "data": {
      "text/html": [
       "\n",
       "  <div id=\"df-08b270bd-e83b-4843-b9a0-63e82fd0cd67\">\n",
       "    <div class=\"colab-df-container\">\n",
       "      <div>\n",
       "<style scoped>\n",
       "    .dataframe tbody tr th:only-of-type {\n",
       "        vertical-align: middle;\n",
       "    }\n",
       "\n",
       "    .dataframe tbody tr th {\n",
       "        vertical-align: top;\n",
       "    }\n",
       "\n",
       "    .dataframe thead th {\n",
       "        text-align: right;\n",
       "    }\n",
       "</style>\n",
       "<table border=\"1\" class=\"dataframe\">\n",
       "  <thead>\n",
       "    <tr style=\"text-align: right;\">\n",
       "      <th></th>\n",
       "      <th>Month</th>\n",
       "      <th>Passengers</th>\n",
       "    </tr>\n",
       "  </thead>\n",
       "  <tbody>\n",
       "    <tr>\n",
       "      <th>0</th>\n",
       "      <td>1949-01</td>\n",
       "      <td>112</td>\n",
       "    </tr>\n",
       "    <tr>\n",
       "      <th>1</th>\n",
       "      <td>1949-02</td>\n",
       "      <td>118</td>\n",
       "    </tr>\n",
       "  </tbody>\n",
       "</table>\n",
       "</div>\n",
       "      <button class=\"colab-df-convert\" onclick=\"convertToInteractive('df-08b270bd-e83b-4843-b9a0-63e82fd0cd67')\"\n",
       "              title=\"Convert this dataframe to an interactive table.\"\n",
       "              style=\"display:none;\">\n",
       "        \n",
       "  <svg xmlns=\"http://www.w3.org/2000/svg\" height=\"24px\"viewBox=\"0 0 24 24\"\n",
       "       width=\"24px\">\n",
       "    <path d=\"M0 0h24v24H0V0z\" fill=\"none\"/>\n",
       "    <path d=\"M18.56 5.44l.94 2.06.94-2.06 2.06-.94-2.06-.94-.94-2.06-.94 2.06-2.06.94zm-11 1L8.5 8.5l.94-2.06 2.06-.94-2.06-.94L8.5 2.5l-.94 2.06-2.06.94zm10 10l.94 2.06.94-2.06 2.06-.94-2.06-.94-.94-2.06-.94 2.06-2.06.94z\"/><path d=\"M17.41 7.96l-1.37-1.37c-.4-.4-.92-.59-1.43-.59-.52 0-1.04.2-1.43.59L10.3 9.45l-7.72 7.72c-.78.78-.78 2.05 0 2.83L4 21.41c.39.39.9.59 1.41.59.51 0 1.02-.2 1.41-.59l7.78-7.78 2.81-2.81c.8-.78.8-2.07 0-2.86zM5.41 20L4 18.59l7.72-7.72 1.47 1.35L5.41 20z\"/>\n",
       "  </svg>\n",
       "      </button>\n",
       "      \n",
       "  <style>\n",
       "    .colab-df-container {\n",
       "      display:flex;\n",
       "      flex-wrap:wrap;\n",
       "      gap: 12px;\n",
       "    }\n",
       "\n",
       "    .colab-df-convert {\n",
       "      background-color: #E8F0FE;\n",
       "      border: none;\n",
       "      border-radius: 50%;\n",
       "      cursor: pointer;\n",
       "      display: none;\n",
       "      fill: #1967D2;\n",
       "      height: 32px;\n",
       "      padding: 0 0 0 0;\n",
       "      width: 32px;\n",
       "    }\n",
       "\n",
       "    .colab-df-convert:hover {\n",
       "      background-color: #E2EBFA;\n",
       "      box-shadow: 0px 1px 2px rgba(60, 64, 67, 0.3), 0px 1px 3px 1px rgba(60, 64, 67, 0.15);\n",
       "      fill: #174EA6;\n",
       "    }\n",
       "\n",
       "    [theme=dark] .colab-df-convert {\n",
       "      background-color: #3B4455;\n",
       "      fill: #D2E3FC;\n",
       "    }\n",
       "\n",
       "    [theme=dark] .colab-df-convert:hover {\n",
       "      background-color: #434B5C;\n",
       "      box-shadow: 0px 1px 3px 1px rgba(0, 0, 0, 0.15);\n",
       "      filter: drop-shadow(0px 1px 2px rgba(0, 0, 0, 0.3));\n",
       "      fill: #FFFFFF;\n",
       "    }\n",
       "  </style>\n",
       "\n",
       "      <script>\n",
       "        const buttonEl =\n",
       "          document.querySelector('#df-08b270bd-e83b-4843-b9a0-63e82fd0cd67 button.colab-df-convert');\n",
       "        buttonEl.style.display =\n",
       "          google.colab.kernel.accessAllowed ? 'block' : 'none';\n",
       "\n",
       "        async function convertToInteractive(key) {\n",
       "          const element = document.querySelector('#df-08b270bd-e83b-4843-b9a0-63e82fd0cd67');\n",
       "          const dataTable =\n",
       "            await google.colab.kernel.invokeFunction('convertToInteractive',\n",
       "                                                     [key], {});\n",
       "          if (!dataTable) return;\n",
       "\n",
       "          const docLinkHtml = 'Like what you see? Visit the ' +\n",
       "            '<a target=\"_blank\" href=https://colab.research.google.com/notebooks/data_table.ipynb>data table notebook</a>'\n",
       "            + ' to learn more about interactive tables.';\n",
       "          element.innerHTML = '';\n",
       "          dataTable['output_type'] = 'display_data';\n",
       "          await google.colab.output.renderOutput(dataTable, element);\n",
       "          const docLink = document.createElement('div');\n",
       "          docLink.innerHTML = docLinkHtml;\n",
       "          element.appendChild(docLink);\n",
       "        }\n",
       "      </script>\n",
       "    </div>\n",
       "  </div>\n",
       "  "
      ],
      "text/plain": [
       "     Month  Passengers\n",
       "0  1949-01         112\n",
       "1  1949-02         118"
      ]
     },
     "execution_count": 207,
     "metadata": {},
     "output_type": "execute_result"
    }
   ],
   "source": [
    "data.head(2)"
   ]
  },
  {
   "cell_type": "code",
   "execution_count": 208,
   "metadata": {
    "id": "VgRzVr8B33Tf"
   },
   "outputs": [],
   "source": [
    "data['Month'] = pd.to_datetime(data['Month'])"
   ]
  },
  {
   "cell_type": "code",
   "execution_count": 209,
   "metadata": {
    "id": "pnJWz7_0w63d"
   },
   "outputs": [],
   "source": [
    "data['month'] = data['Month'].dt.month\n",
    "data['year'] = data['Month'].dt.year\n",
    "data['day_of_week'] = data['Month'].dt.dayofweek\n",
    "data['quarter'] = data['Month'].dt.quarter\n",
    "data['day_of_year'] = data['Month'].dt.day_of_year\n",
    "# data['day'] = data['Month'].dt.day день везде первый"
   ]
  },
  {
   "cell_type": "code",
   "execution_count": 210,
   "metadata": {
    "colab": {
     "base_uri": "https://localhost:8080/"
    },
    "id": "17fNTcW5zgKp",
    "outputId": "f6a1102d-4d5c-422f-cd42-f4a65f221153"
   },
   "outputs": [
    {
     "data": {
      "text/plain": [
       "Index(['Month', 'Passengers', 'month', 'year', 'day_of_week', 'quarter',\n",
       "       'day_of_year'],\n",
       "      dtype='object')"
      ]
     },
     "execution_count": 210,
     "metadata": {},
     "output_type": "execute_result"
    }
   ],
   "source": [
    "data.columns"
   ]
  },
  {
   "cell_type": "code",
   "execution_count": 211,
   "metadata": {
    "colab": {
     "base_uri": "https://localhost:8080/"
    },
    "id": "ej5k4X2kmXjg",
    "outputId": "9db4ae5a-94a7-4ec4-f976-caa7a276adb6"
   },
   "outputs": [
    {
     "data": {
      "text/plain": [
       "['Month',\n",
       " 'Passengers',\n",
       " 'month',\n",
       " 'year',\n",
       " 'day_of_week',\n",
       " 'quarter',\n",
       " 'day_of_year']"
      ]
     },
     "execution_count": 211,
     "metadata": {},
     "output_type": "execute_result"
    }
   ],
   "source": [
    "# Сделаем стандартизацию\n",
    "\n",
    "cols = data.columns.tolist()\n",
    "cols"
   ]
  },
  {
   "cell_type": "code",
   "execution_count": 212,
   "metadata": {
    "id": "EM1R11vxzpO8"
   },
   "outputs": [],
   "source": [
    "features = cols[2:] # Первоначальный признак времени не берем в расчет\n",
    "target = cols[1]"
   ]
  },
  {
   "cell_type": "code",
   "execution_count": 213,
   "metadata": {
    "colab": {
     "base_uri": "https://localhost:8080/"
    },
    "id": "dWlz6zMD0Ulq",
    "outputId": "ddc920b6-1b1b-4820-f126-8d44522639b1"
   },
   "outputs": [
    {
     "data": {
      "text/plain": [
       "(144, 7)"
      ]
     },
     "execution_count": 213,
     "metadata": {},
     "output_type": "execute_result"
    }
   ],
   "source": [
    "data.shape"
   ]
  },
  {
   "cell_type": "code",
   "execution_count": 214,
   "metadata": {
    "colab": {
     "base_uri": "https://localhost:8080/"
    },
    "id": "TroNaFLE0Toq",
    "outputId": "2e3b8d3c-80cb-4016-da77-b7c259e9e73e"
   },
   "outputs": [
    {
     "name": "stdout",
     "output_type": "stream",
     "text": [
      "Размер тренировочного набора данных: (110, 6), \n",
      "Размер тестового набора данных: (29, 6)\n"
     ]
    }
   ],
   "source": [
    "train_size = 110\n",
    "\n",
    "# отступ теста от тренировки\n",
    "bias = 5\n",
    "\n",
    "# делим\n",
    "train_data = data.iloc[:train_size][features + [target]]\n",
    "val_data = data.iloc[train_size + bias:][features + [target]]\n",
    "\n",
    "print(f'Размер тренировочного набора данных: {train_data.shape}, \\n'\n",
    "      f'Размер тестового набора данных: {val_data.shape}')"
   ]
  },
  {
   "cell_type": "code",
   "execution_count": 215,
   "metadata": {
    "colab": {
     "base_uri": "https://localhost:8080/",
     "height": 204
    },
    "id": "-xdgw7iVX1Ox",
    "outputId": "94a13b9f-e1a9-4f55-c74f-4e2617c56828"
   },
   "outputs": [
    {
     "data": {
      "text/html": [
       "\n",
       "  <div id=\"df-d39afec3-1bf8-4fb9-b352-c9eecdc5c4b8\">\n",
       "    <div class=\"colab-df-container\">\n",
       "      <div>\n",
       "<style scoped>\n",
       "    .dataframe tbody tr th:only-of-type {\n",
       "        vertical-align: middle;\n",
       "    }\n",
       "\n",
       "    .dataframe tbody tr th {\n",
       "        vertical-align: top;\n",
       "    }\n",
       "\n",
       "    .dataframe thead th {\n",
       "        text-align: right;\n",
       "    }\n",
       "</style>\n",
       "<table border=\"1\" class=\"dataframe\">\n",
       "  <thead>\n",
       "    <tr style=\"text-align: right;\">\n",
       "      <th></th>\n",
       "      <th>month</th>\n",
       "      <th>year</th>\n",
       "      <th>day_of_week</th>\n",
       "      <th>quarter</th>\n",
       "      <th>day_of_year</th>\n",
       "      <th>Passengers</th>\n",
       "    </tr>\n",
       "  </thead>\n",
       "  <tbody>\n",
       "    <tr>\n",
       "      <th>0</th>\n",
       "      <td>-1.551749</td>\n",
       "      <td>-1.547132</td>\n",
       "      <td>0.985399</td>\n",
       "      <td>-1.308154</td>\n",
       "      <td>-1.545565</td>\n",
       "      <td>112</td>\n",
       "    </tr>\n",
       "    <tr>\n",
       "      <th>1</th>\n",
       "      <td>-1.264871</td>\n",
       "      <td>-1.547132</td>\n",
       "      <td>-1.031232</td>\n",
       "      <td>-1.308154</td>\n",
       "      <td>-1.253302</td>\n",
       "      <td>118</td>\n",
       "    </tr>\n",
       "    <tr>\n",
       "      <th>2</th>\n",
       "      <td>-0.977993</td>\n",
       "      <td>-1.547132</td>\n",
       "      <td>-1.031232</td>\n",
       "      <td>-1.308154</td>\n",
       "      <td>-0.989323</td>\n",
       "      <td>132</td>\n",
       "    </tr>\n",
       "    <tr>\n",
       "      <th>3</th>\n",
       "      <td>-0.691115</td>\n",
       "      <td>-1.547132</td>\n",
       "      <td>0.481241</td>\n",
       "      <td>-0.419901</td>\n",
       "      <td>-0.697060</td>\n",
       "      <td>129</td>\n",
       "    </tr>\n",
       "    <tr>\n",
       "      <th>4</th>\n",
       "      <td>-0.404237</td>\n",
       "      <td>-1.547132</td>\n",
       "      <td>1.489557</td>\n",
       "      <td>-0.419901</td>\n",
       "      <td>-0.414225</td>\n",
       "      <td>121</td>\n",
       "    </tr>\n",
       "  </tbody>\n",
       "</table>\n",
       "</div>\n",
       "      <button class=\"colab-df-convert\" onclick=\"convertToInteractive('df-d39afec3-1bf8-4fb9-b352-c9eecdc5c4b8')\"\n",
       "              title=\"Convert this dataframe to an interactive table.\"\n",
       "              style=\"display:none;\">\n",
       "        \n",
       "  <svg xmlns=\"http://www.w3.org/2000/svg\" height=\"24px\"viewBox=\"0 0 24 24\"\n",
       "       width=\"24px\">\n",
       "    <path d=\"M0 0h24v24H0V0z\" fill=\"none\"/>\n",
       "    <path d=\"M18.56 5.44l.94 2.06.94-2.06 2.06-.94-2.06-.94-.94-2.06-.94 2.06-2.06.94zm-11 1L8.5 8.5l.94-2.06 2.06-.94-2.06-.94L8.5 2.5l-.94 2.06-2.06.94zm10 10l.94 2.06.94-2.06 2.06-.94-2.06-.94-.94-2.06-.94 2.06-2.06.94z\"/><path d=\"M17.41 7.96l-1.37-1.37c-.4-.4-.92-.59-1.43-.59-.52 0-1.04.2-1.43.59L10.3 9.45l-7.72 7.72c-.78.78-.78 2.05 0 2.83L4 21.41c.39.39.9.59 1.41.59.51 0 1.02-.2 1.41-.59l7.78-7.78 2.81-2.81c.8-.78.8-2.07 0-2.86zM5.41 20L4 18.59l7.72-7.72 1.47 1.35L5.41 20z\"/>\n",
       "  </svg>\n",
       "      </button>\n",
       "      \n",
       "  <style>\n",
       "    .colab-df-container {\n",
       "      display:flex;\n",
       "      flex-wrap:wrap;\n",
       "      gap: 12px;\n",
       "    }\n",
       "\n",
       "    .colab-df-convert {\n",
       "      background-color: #E8F0FE;\n",
       "      border: none;\n",
       "      border-radius: 50%;\n",
       "      cursor: pointer;\n",
       "      display: none;\n",
       "      fill: #1967D2;\n",
       "      height: 32px;\n",
       "      padding: 0 0 0 0;\n",
       "      width: 32px;\n",
       "    }\n",
       "\n",
       "    .colab-df-convert:hover {\n",
       "      background-color: #E2EBFA;\n",
       "      box-shadow: 0px 1px 2px rgba(60, 64, 67, 0.3), 0px 1px 3px 1px rgba(60, 64, 67, 0.15);\n",
       "      fill: #174EA6;\n",
       "    }\n",
       "\n",
       "    [theme=dark] .colab-df-convert {\n",
       "      background-color: #3B4455;\n",
       "      fill: #D2E3FC;\n",
       "    }\n",
       "\n",
       "    [theme=dark] .colab-df-convert:hover {\n",
       "      background-color: #434B5C;\n",
       "      box-shadow: 0px 1px 3px 1px rgba(0, 0, 0, 0.15);\n",
       "      filter: drop-shadow(0px 1px 2px rgba(0, 0, 0, 0.3));\n",
       "      fill: #FFFFFF;\n",
       "    }\n",
       "  </style>\n",
       "\n",
       "      <script>\n",
       "        const buttonEl =\n",
       "          document.querySelector('#df-d39afec3-1bf8-4fb9-b352-c9eecdc5c4b8 button.colab-df-convert');\n",
       "        buttonEl.style.display =\n",
       "          google.colab.kernel.accessAllowed ? 'block' : 'none';\n",
       "\n",
       "        async function convertToInteractive(key) {\n",
       "          const element = document.querySelector('#df-d39afec3-1bf8-4fb9-b352-c9eecdc5c4b8');\n",
       "          const dataTable =\n",
       "            await google.colab.kernel.invokeFunction('convertToInteractive',\n",
       "                                                     [key], {});\n",
       "          if (!dataTable) return;\n",
       "\n",
       "          const docLinkHtml = 'Like what you see? Visit the ' +\n",
       "            '<a target=\"_blank\" href=https://colab.research.google.com/notebooks/data_table.ipynb>data table notebook</a>'\n",
       "            + ' to learn more about interactive tables.';\n",
       "          element.innerHTML = '';\n",
       "          dataTable['output_type'] = 'display_data';\n",
       "          await google.colab.output.renderOutput(dataTable, element);\n",
       "          const docLink = document.createElement('div');\n",
       "          docLink.innerHTML = docLinkHtml;\n",
       "          element.appendChild(docLink);\n",
       "        }\n",
       "      </script>\n",
       "    </div>\n",
       "  </div>\n",
       "  "
      ],
      "text/plain": [
       "      month      year  day_of_week   quarter  day_of_year  Passengers\n",
       "0 -1.551749 -1.547132     0.985399 -1.308154    -1.545565         112\n",
       "1 -1.264871 -1.547132    -1.031232 -1.308154    -1.253302         118\n",
       "2 -0.977993 -1.547132    -1.031232 -1.308154    -0.989323         132\n",
       "3 -0.691115 -1.547132     0.481241 -0.419901    -0.697060         129\n",
       "4 -0.404237 -1.547132     1.489557 -0.419901    -0.414225         121"
      ]
     },
     "execution_count": 215,
     "metadata": {},
     "output_type": "execute_result"
    }
   ],
   "source": [
    "scaler = StandardScaler()\n",
    "\n",
    "train_data[features] = scaler.fit_transform(train_data[features])\n",
    "val_data[features] = scaler.transform(val_data[features])\n",
    "\n",
    "train_data.head()"
   ]
  },
  {
   "cell_type": "code",
   "execution_count": 216,
   "metadata": {
    "id": "NNpNwGcgmbJB"
   },
   "outputs": [],
   "source": [
    "# длина истории\n",
    "x_len = 8\n",
    "\n",
    "# горизонт предсказания\n",
    "future = 1\n",
    "\n",
    "# параметры модели для обучения\n",
    "learning_rate = 0.001\n",
    "batch_size = 32\n",
    "epochs = 10"
   ]
  },
  {
   "cell_type": "code",
   "execution_count": 217,
   "metadata": {
    "colab": {
     "base_uri": "https://localhost:8080/"
    },
    "id": "3g6cyrnL2cVx",
    "outputId": "0c27e7a6-5b96-463b-a212-73c3e165618f"
   },
   "outputs": [
    {
     "name": "stdout",
     "output_type": "stream",
     "text": [
      "9 119\n",
      "20 124\n"
     ]
    }
   ],
   "source": [
    "start = x_len + future\n",
    "end = start + train_size\n",
    "\n",
    "print(start, end)\n",
    "\n",
    "X_train = train_data[features].values\n",
    "y_train = data.iloc[start:end][target].values\n",
    "\n",
    "\n",
    "x_end = len(val_data) - x_len - future\n",
    "label_start = len(train_data) + bias + x_len + future\n",
    "print(x_end, label_start)\n",
    "\n",
    "X_val = val_data.iloc[:x_end][features].values\n",
    "y_val = data.iloc[label_start:][target].values"
   ]
  },
  {
   "cell_type": "code",
   "execution_count": 218,
   "metadata": {
    "colab": {
     "base_uri": "https://localhost:8080/"
    },
    "id": "qFYE2GGu2cYV",
    "outputId": "6b8f7a5a-19c1-41a6-f1a7-cd8145f5fc29"
   },
   "outputs": [
    {
     "data": {
      "text/plain": [
       "((110, 5), (110,), (20, 5), (20,))"
      ]
     },
     "execution_count": 218,
     "metadata": {},
     "output_type": "execute_result"
    }
   ],
   "source": [
    "X_train.shape, y_train.shape, X_val.shape, y_val.shape"
   ]
  },
  {
   "cell_type": "code",
   "execution_count": 219,
   "metadata": {
    "colab": {
     "base_uri": "https://localhost:8080/",
     "height": 350
    },
    "id": "WQbtLmRO2cbM",
    "outputId": "707aaa1c-13ea-4d7f-b0cf-e47307d872fa"
   },
   "outputs": [
    {
     "data": {
      "image/png": "[encoded data removed]",
      "text/plain": [
       "<Figure size 720x360 with 1 Axes>"
      ]
     },
     "metadata": {
      "needs_background": "light"
     },
     "output_type": "display_data"
    }
   ],
   "source": [
    "plt.figure(figsize=(10, 5))\n",
    "plt.plot(data.index[x_len:y_train.shape[0]+x_len],y_train[:])\n",
    "plt.plot(data.index[y_train.shape[0]+x_len+bias+future:],y_val[:])\n",
    "plt.grid('on')\n",
    "plt.xlabel('t, дни')\n",
    "plt.ylabel('К-во пассажиров')\n",
    "plt.title('Пассажиропоток')\n",
    "plt.show()"
   ]
  },
  {
   "cell_type": "markdown",
   "metadata": {
    "id": "2nrGgan2Cyib"
   },
   "source": [
    "На графике видно, что кривая изменения пассажиропотока изменяется стабильно циклично, следовательно, процессе предсказания не должен оказаться слишком сложным"
   ]
  },
  {
   "cell_type": "code",
   "execution_count": 220,
   "metadata": {
    "id": "LjrOMQBlmrUa"
   },
   "outputs": [],
   "source": [
    "dataset_train = timeseries_dataset_from_array(\n",
    "    X_train,\n",
    "    y_train,\n",
    "    sequence_length=x_len,\n",
    "    sampling_rate=1,\n",
    "    batch_size=batch_size,\n",
    ")\n",
    "\n",
    "dataset_val = timeseries_dataset_from_array(\n",
    "    X_val,\n",
    "    y_val,\n",
    "    sequence_length=x_len,\n",
    "    sampling_rate=1,\n",
    "    batch_size=batch_size,\n",
    ")"
   ]
  },
  {
   "cell_type": "code",
   "execution_count": 221,
   "metadata": {
    "colab": {
     "base_uri": "https://localhost:8080/"
    },
    "id": "FMLlActQmrW4",
    "outputId": "12e5d8b1-3a8d-49eb-ba5b-a20c78dcb132"
   },
   "outputs": [
    {
     "name": "stdout",
     "output_type": "stream",
     "text": [
      "Input shape: (32, 8, 5)\n",
      "tf.Tensor(\n",
      "[[-1.26487074 -1.54713187 -1.03123165 -1.30815427 -1.25330235]\n",
      " [-0.97799284 -1.54713187 -1.03123165 -1.30815427 -0.98932292]\n",
      " [-0.69111494 -1.54713187  0.48124144 -0.41990137 -0.69705998]\n",
      " [-0.40423704 -1.54713187  1.48955683 -0.41990137 -0.41422487]\n",
      " [-0.11735914 -1.54713187 -0.52707395 -0.41990137 -0.12196193]\n",
      " [ 0.16951876 -1.54713187  0.48124144  0.46835153  0.16087318]\n",
      " [ 0.45639666 -1.54713187 -1.53538934  0.46835153  0.45313612]\n",
      " [ 0.74327456 -1.54713187 -0.02291626  0.46835153  0.74539907]], shape=(8, 5), dtype=float64)\n",
      "Target shape: (32,)\n",
      "tf.Tensor(104, shape=(), dtype=int64)\n"
     ]
    }
   ],
   "source": [
    "for batch in dataset_train.take(1):\n",
    "    inputs, targets = batch\n",
    "    print(\"Input shape:\", inputs.shape)\n",
    "    print(inputs[1])\n",
    "    print(\"Target shape:\", targets.shape)\n",
    "    print(targets[1])"
   ]
  },
  {
   "cell_type": "markdown",
   "metadata": {
    "id": "7Yn8LpmQFXRE"
   },
   "source": [
    "Переходим к построению модели."
   ]
  },
  {
   "cell_type": "code",
   "execution_count": 222,
   "metadata": {
    "id": "pl575zT_mrZg"
   },
   "outputs": [],
   "source": [
    "# Сначала создадим полезную функцию и заготовку словаря для записи результатов\n",
    "\n",
    "results = {'model': [],\n",
    "           'train mae': [],\n",
    "           'test mae': []}\n",
    "\n",
    "def evaluate_model(model, train_data, val_data):\n",
    "  \n",
    "    early_stop = EarlyStopping(monitor='val_loss', \n",
    "                                 patience=5,\n",
    "                                 mode = 'auto',\n",
    "                                 min_delta = 1e-3)\n",
    "\n",
    "    model.compile(loss='mse', optimizer='adam', metrics=['mae'])\n",
    "\n",
    "    history = model.fit(train_data,\n",
    "                        epochs=epochs,\n",
    "                        validation_data=val_data,\n",
    "                        callbacks=[early_stop],\n",
    "                        verbose = 0)\n",
    "\n",
    "    train_mae = history.history['mae'][-1]\n",
    "    test_loss, test_mae = model.evaluate(val_data, verbose = 0)\n",
    "    print(f'MAE train: {train_mae:.4f},\\n'\n",
    "        f'MAE test: {test_mae:.4f}')\n",
    "    plt.figure(figsize=(10, 5))\n",
    "    plt.plot(history.history['mae'][1:], \n",
    "              label='Средняя абсолютная ошибка на обучающей выборке')\n",
    "    plt.plot(history.history['val_mae'][1:], \n",
    "              label='Средняя абсолютная ошибка на тестовой выборке')\n",
    "    plt.ylabel('Средняя ошибка')\n",
    "    plt.legend()\n",
    "    plt.show()\n",
    "\n",
    "    return train_mae, test_mae"
   ]
  },
  {
   "cell_type": "markdown",
   "metadata": {
    "id": "hyo95WzgQm3v"
   },
   "source": [
    "**SimpleRNN**"
   ]
  },
  {
   "cell_type": "code",
   "execution_count": 223,
   "metadata": {
    "colab": {
     "base_uri": "https://localhost:8080/",
     "height": 354
    },
    "id": "PJ6HIi5JmbOV",
    "outputId": "a9508b32-c25a-4ce3-89d5-ec29f650a116"
   },
   "outputs": [
    {
     "name": "stdout",
     "output_type": "stream",
     "text": [
      "MAE train: 153.3588,\n",
      "MAE test: 273.5703\n"
     ]
    },
    {
     "data": {
      "image/png": "[encoded data removed]",
      "text/plain": [
       "<Figure size 720x360 with 1 Axes>"
      ]
     },
     "metadata": {
      "needs_background": "light"
     },
     "output_type": "display_data"
    }
   ],
   "source": [
    "# Построим нейронную сеть\n",
    "\n",
    "model1 = Sequential()\n",
    "\n",
    "model1.add(SimpleRNN(64, input_shape=(inputs.shape[1], inputs.shape[2]),\n",
    "               return_sequences=True))\n",
    "model1.add(SimpleRNN(64, return_sequences=True))\n",
    "model1.add(Conv1D(32, 3, activation='linear'))\n",
    "model1.add(Conv1D(32, 1, activation='linear'))\n",
    "model1.add(Flatten())\n",
    "model1.add(Dense(28, activation='linear'))\n",
    "model1.add(Dense(1, activation='linear'))\n",
    "\n",
    "train_mae, test_mae = evaluate_model(model1, dataset_train, dataset_val)\n",
    "\n",
    "results['model'].append('model1 RNN')\n",
    "results['train mae'].append(train_mae)\n",
    "results['test mae'].append(test_mae)"
   ]
  },
  {
   "cell_type": "code",
   "execution_count": 224,
   "metadata": {
    "colab": {
     "base_uri": "https://localhost:8080/",
     "height": 354
    },
    "id": "DNjAkrciN3GY",
    "outputId": "260b7cbc-a003-49fd-d204-e75227ca4d83"
   },
   "outputs": [
    {
     "name": "stdout",
     "output_type": "stream",
     "text": [
      "MAE train: 64.6768,\n",
      "MAE test: 84.2111\n"
     ]
    },
    {
     "data": {
      "image/png": "[encoded data removed]",
      "text/plain": [
       "<Figure size 720x360 with 1 Axes>"
      ]
     },
     "metadata": {
      "needs_background": "light"
     },
     "output_type": "display_data"
    }
   ],
   "source": [
    "model2 = Sequential()\n",
    "\n",
    "model2.add(Bidirectional(\n",
    "    SimpleRNN(64, return_sequences=True), \n",
    "    input_shape=(inputs.shape[1], inputs.shape[2])))\n",
    "model2.add(Bidirectional(SimpleRNN(64, return_sequences=True)))\n",
    "model2.add(Conv1D(32, 3, activation='linear'))\n",
    "model2.add(Conv1D(32, 1, activation='linear'))\n",
    "model2.add(Flatten())\n",
    "model2.add(Dense(28, activation='linear'))\n",
    "model2.add(Dense(1, activation='linear'))\n",
    "\n",
    "train_mae, test_mae = evaluate_model(model2, dataset_train, dataset_val)\n",
    "\n",
    "results['model'].append('model2 RNN + Bidirectional')\n",
    "results['train mae'].append(train_mae)\n",
    "results['test mae'].append(test_mae)"
   ]
  },
  {
   "cell_type": "markdown",
   "metadata": {
    "id": "rIijZoSgQkud"
   },
   "source": [
    "**LSTM**"
   ]
  },
  {
   "cell_type": "code",
   "execution_count": 225,
   "metadata": {
    "colab": {
     "base_uri": "https://localhost:8080/",
     "height": 354
    },
    "id": "sQa4fIjPNvTu",
    "outputId": "5f6702c3-d2d3-47b8-89a6-1b9f9d810a41"
   },
   "outputs": [
    {
     "name": "stdout",
     "output_type": "stream",
     "text": [
      "MAE train: 133.4969,\n",
      "MAE test: 147.7658\n"
     ]
    },
    {
     "data": {
      "image/png": "[encoded data removed]",
      "text/plain": [
       "<Figure size 720x360 with 1 Axes>"
      ]
     },
     "metadata": {
      "needs_background": "light"
     },
     "output_type": "display_data"
    }
   ],
   "source": [
    "\n",
    "model3 = Sequential()\n",
    "\n",
    "model3.add(LSTM(64, input_shape=(inputs.shape[1], inputs.shape[2]), return_sequences=True))\n",
    "model3.add(LSTM(64, return_sequences=True))\n",
    "model3.add(Conv1D(32, 3, activation='linear'))\n",
    "model3.add(Conv1D(32, 1, activation='linear'))\n",
    "model3.add(Flatten())\n",
    "model3.add(Dense(28, activation='linear'))\n",
    "model3.add(Dense(1, activation='linear'))\n",
    "\n",
    "train_mae, test_mae = evaluate_model(model3, dataset_train, dataset_val)\n",
    "\n",
    "results['model'].append('model3 LSTM')\n",
    "results['train mae'].append(train_mae)\n",
    "results['test mae'].append(test_mae)"
   ]
  },
  {
   "cell_type": "code",
   "execution_count": 226,
   "metadata": {
    "colab": {
     "base_uri": "https://localhost:8080/",
     "height": 354
    },
    "id": "pfjd7-pdMHBD",
    "outputId": "f1ec5dc9-1ef8-4591-b379-a205db38cd30"
   },
   "outputs": [
    {
     "name": "stdout",
     "output_type": "stream",
     "text": [
      "MAE train: 92.5379,\n",
      "MAE test: 57.9372\n"
     ]
    },
    {
     "data": {
      "image/png": "[encoded data removed]",
      "text/plain": [
       "<Figure size 720x360 with 1 Axes>"
      ]
     },
     "metadata": {
      "needs_background": "light"
     },
     "output_type": "display_data"
    }
   ],
   "source": [
    "model4 = Sequential()\n",
    "\n",
    "model4.add(Bidirectional(\n",
    "    LSTM(64, return_sequences=True),\n",
    "    input_shape=(inputs.shape[1], inputs.shape[2])))\n",
    "model4.add(Bidirectional(LSTM(64, return_sequences=True)))\n",
    "model4.add(Conv1D(32, 3, activation='linear'))\n",
    "model4.add(Conv1D(32, 1, activation='linear'))\n",
    "model4.add(Flatten())\n",
    "model4.add(Dense(28, activation='linear'))\n",
    "model4.add(Dense(1, activation='linear'))\n",
    "\n",
    "train_mae, test_mae = evaluate_model(model4, dataset_train, dataset_val)\n",
    "\n",
    "results['model'].append('model4 LSTM+Bidirectional')\n",
    "results['train mae'].append(train_mae)\n",
    "results['test mae'].append(test_mae)"
   ]
  },
  {
   "cell_type": "markdown",
   "metadata": {
    "id": "-aCjRE6XQhxh"
   },
   "source": [
    "**GRU**"
   ]
  },
  {
   "cell_type": "code",
   "execution_count": 227,
   "metadata": {
    "colab": {
     "base_uri": "https://localhost:8080/",
     "height": 354
    },
    "id": "wP3adewWQhTE",
    "outputId": "2b3a569e-6a6e-44e6-a2d5-bdc314daf748"
   },
   "outputs": [
    {
     "name": "stdout",
     "output_type": "stream",
     "text": [
      "MAE train: 64.8070,\n",
      "MAE test: 37.7336\n"
     ]
    },
    {
     "data": {
      "image/png": "[encoded data removed]",
      "text/plain": [
       "<Figure size 720x360 with 1 Axes>"
      ]
     },
     "metadata": {
      "needs_background": "light"
     },
     "output_type": "display_data"
    }
   ],
   "source": [
    "\n",
    "model5 = Sequential()\n",
    "\n",
    "model5.add(GRU(64, return_sequences=True, input_shape=(inputs.shape[1], inputs.shape[2])))\n",
    "model5.add(GRU(64, return_sequences=True))\n",
    "model5.add(Conv1D(32, 3, activation='linear'))\n",
    "model5.add(Conv1D(32, 1, activation='linear'))\n",
    "model5.add(Flatten())\n",
    "model5.add(Dense(28, activation='linear'))\n",
    "model5.add(Dense(1, activation='linear'))\n",
    "\n",
    "train_mae, test_mae = evaluate_model(model5, dataset_train, dataset_val)\n",
    "\n",
    "results['model'].append('model5 GRU')\n",
    "results['train mae'].append(train_mae)\n",
    "results['test mae'].append(test_mae)"
   ]
  },
  {
   "cell_type": "code",
   "execution_count": 228,
   "metadata": {
    "colab": {
     "base_uri": "https://localhost:8080/",
     "height": 354
    },
    "id": "_5m6VLrMQbSa",
    "outputId": "f3e9c491-c83e-404b-bd9f-a39ea055bbb3"
   },
   "outputs": [
    {
     "name": "stdout",
     "output_type": "stream",
     "text": [
      "MAE train: 94.2939,\n",
      "MAE test: 45.6094\n"
     ]
    },
    {
     "data": {
      "image/png": "[encoded data removed]",
      "text/plain": [
       "<Figure size 720x360 with 1 Axes>"
      ]
     },
     "metadata": {
      "needs_background": "light"
     },
     "output_type": "display_data"
    }
   ],
   "source": [
    "model6 = Sequential()\n",
    "\n",
    "model6.add(Bidirectional(\n",
    "    GRU(64, return_sequences=True),\n",
    "    input_shape=(inputs.shape[1], inputs.shape[2])))\n",
    "model6.add(Bidirectional(GRU(64, return_sequences=True)))\n",
    "model6.add(Conv1D(32, 3, activation='linear'))\n",
    "model6.add(Conv1D(32, 1, activation='linear'))\n",
    "model6.add(Flatten())\n",
    "model6.add(Dense(28, activation='linear'))\n",
    "model6.add(Dense(1, activation='linear'))\n",
    "\n",
    "train_mae, test_mae = evaluate_model(model6, dataset_train, dataset_val)\n",
    "\n",
    "results['model'].append('model6 GRU+Bidirectional')\n",
    "results['train mae'].append(train_mae)\n",
    "results['test mae'].append(test_mae)"
   ]
  },
  {
   "cell_type": "code",
   "execution_count": 229,
   "metadata": {
    "colab": {
     "base_uri": "https://localhost:8080/"
    },
    "id": "BAZMBgnS7HbN",
    "outputId": "9f8e5877-0bc6-4ba9-bc7c-073d4d72d01c"
   },
   "outputs": [
    {
     "data": {
      "text/plain": [
       "{'model': ['model1 RNN',\n",
       "  'model2 RNN + Bidirectional',\n",
       "  'model3 LSTM',\n",
       "  'model4 LSTM+Bidirectional',\n",
       "  'model5 GRU',\n",
       "  'model6 GRU+Bidirectional'],\n",
       " 'test mae': [273.5702819824219,\n",
       "  84.21113586425781,\n",
       "  147.7658233642578,\n",
       "  57.93721008300781,\n",
       "  37.733638763427734,\n",
       "  45.609439849853516],\n",
       " 'train mae': [153.35877990722656,\n",
       "  64.67680358886719,\n",
       "  133.49693298339844,\n",
       "  92.53791809082031,\n",
       "  64.80695343017578,\n",
       "  94.29386901855469]}"
      ]
     },
     "execution_count": 229,
     "metadata": {},
     "output_type": "execute_result"
    }
   ],
   "source": [
    "results"
   ]
  },
  {
   "cell_type": "code",
   "execution_count": 230,
   "metadata": {
    "colab": {
     "base_uri": "https://localhost:8080/",
     "height": 235
    },
    "id": "jixgyxNsMyaN",
    "outputId": "91f8514e-2163-45eb-cac7-e75e5ccbacb0"
   },
   "outputs": [
    {
     "data": {
      "text/html": [
       "\n",
       "  <div id=\"df-e402016c-424b-4b70-9795-a4cde5d85282\">\n",
       "    <div class=\"colab-df-container\">\n",
       "      <div>\n",
       "<style scoped>\n",
       "    .dataframe tbody tr th:only-of-type {\n",
       "        vertical-align: middle;\n",
       "    }\n",
       "\n",
       "    .dataframe tbody tr th {\n",
       "        vertical-align: top;\n",
       "    }\n",
       "\n",
       "    .dataframe thead th {\n",
       "        text-align: right;\n",
       "    }\n",
       "</style>\n",
       "<table border=\"1\" class=\"dataframe\">\n",
       "  <thead>\n",
       "    <tr style=\"text-align: right;\">\n",
       "      <th></th>\n",
       "      <th>model</th>\n",
       "      <th>train mae</th>\n",
       "      <th>test mae</th>\n",
       "    </tr>\n",
       "  </thead>\n",
       "  <tbody>\n",
       "    <tr>\n",
       "      <th>0</th>\n",
       "      <td>model1 RNN</td>\n",
       "      <td>153.358780</td>\n",
       "      <td>273.570282</td>\n",
       "    </tr>\n",
       "    <tr>\n",
       "      <th>1</th>\n",
       "      <td>model2 RNN + Bidirectional</td>\n",
       "      <td>64.676804</td>\n",
       "      <td>84.211136</td>\n",
       "    </tr>\n",
       "    <tr>\n",
       "      <th>2</th>\n",
       "      <td>model3 LSTM</td>\n",
       "      <td>133.496933</td>\n",
       "      <td>147.765823</td>\n",
       "    </tr>\n",
       "    <tr>\n",
       "      <th>3</th>\n",
       "      <td>model4 LSTM+Bidirectional</td>\n",
       "      <td>92.537918</td>\n",
       "      <td>57.937210</td>\n",
       "    </tr>\n",
       "    <tr>\n",
       "      <th>4</th>\n",
       "      <td>model5 GRU</td>\n",
       "      <td>64.806953</td>\n",
       "      <td>37.733639</td>\n",
       "    </tr>\n",
       "    <tr>\n",
       "      <th>5</th>\n",
       "      <td>model6 GRU+Bidirectional</td>\n",
       "      <td>94.293869</td>\n",
       "      <td>45.609440</td>\n",
       "    </tr>\n",
       "  </tbody>\n",
       "</table>\n",
       "</div>\n",
       "      <button class=\"colab-df-convert\" onclick=\"convertToInteractive('df-e402016c-424b-4b70-9795-a4cde5d85282')\"\n",
       "              title=\"Convert this dataframe to an interactive table.\"\n",
       "              style=\"display:none;\">\n",
       "        \n",
       "  <svg xmlns=\"http://www.w3.org/2000/svg\" height=\"24px\"viewBox=\"0 0 24 24\"\n",
       "       width=\"24px\">\n",
       "    <path d=\"M0 0h24v24H0V0z\" fill=\"none\"/>\n",
       "    <path d=\"M18.56 5.44l.94 2.06.94-2.06 2.06-.94-2.06-.94-.94-2.06-.94 2.06-2.06.94zm-11 1L8.5 8.5l.94-2.06 2.06-.94-2.06-.94L8.5 2.5l-.94 2.06-2.06.94zm10 10l.94 2.06.94-2.06 2.06-.94-2.06-.94-.94-2.06-.94 2.06-2.06.94z\"/><path d=\"M17.41 7.96l-1.37-1.37c-.4-.4-.92-.59-1.43-.59-.52 0-1.04.2-1.43.59L10.3 9.45l-7.72 7.72c-.78.78-.78 2.05 0 2.83L4 21.41c.39.39.9.59 1.41.59.51 0 1.02-.2 1.41-.59l7.78-7.78 2.81-2.81c.8-.78.8-2.07 0-2.86zM5.41 20L4 18.59l7.72-7.72 1.47 1.35L5.41 20z\"/>\n",
       "  </svg>\n",
       "      </button>\n",
       "      \n",
       "  <style>\n",
       "    .colab-df-container {\n",
       "      display:flex;\n",
       "      flex-wrap:wrap;\n",
       "      gap: 12px;\n",
       "    }\n",
       "\n",
       "    .colab-df-convert {\n",
       "      background-color: #E8F0FE;\n",
       "      border: none;\n",
       "      border-radius: 50%;\n",
       "      cursor: pointer;\n",
       "      display: none;\n",
       "      fill: #1967D2;\n",
       "      height: 32px;\n",
       "      padding: 0 0 0 0;\n",
       "      width: 32px;\n",
       "    }\n",
       "\n",
       "    .colab-df-convert:hover {\n",
       "      background-color: #E2EBFA;\n",
       "      box-shadow: 0px 1px 2px rgba(60, 64, 67, 0.3), 0px 1px 3px 1px rgba(60, 64, 67, 0.15);\n",
       "      fill: #174EA6;\n",
       "    }\n",
       "\n",
       "    [theme=dark] .colab-df-convert {\n",
       "      background-color: #3B4455;\n",
       "      fill: #D2E3FC;\n",
       "    }\n",
       "\n",
       "    [theme=dark] .colab-df-convert:hover {\n",
       "      background-color: #434B5C;\n",
       "      box-shadow: 0px 1px 3px 1px rgba(0, 0, 0, 0.15);\n",
       "      filter: drop-shadow(0px 1px 2px rgba(0, 0, 0, 0.3));\n",
       "      fill: #FFFFFF;\n",
       "    }\n",
       "  </style>\n",
       "\n",
       "      <script>\n",
       "        const buttonEl =\n",
       "          document.querySelector('#df-e402016c-424b-4b70-9795-a4cde5d85282 button.colab-df-convert');\n",
       "        buttonEl.style.display =\n",
       "          google.colab.kernel.accessAllowed ? 'block' : 'none';\n",
       "\n",
       "        async function convertToInteractive(key) {\n",
       "          const element = document.querySelector('#df-e402016c-424b-4b70-9795-a4cde5d85282');\n",
       "          const dataTable =\n",
       "            await google.colab.kernel.invokeFunction('convertToInteractive',\n",
       "                                                     [key], {});\n",
       "          if (!dataTable) return;\n",
       "\n",
       "          const docLinkHtml = 'Like what you see? Visit the ' +\n",
       "            '<a target=\"_blank\" href=https://colab.research.google.com/notebooks/data_table.ipynb>data table notebook</a>'\n",
       "            + ' to learn more about interactive tables.';\n",
       "          element.innerHTML = '';\n",
       "          dataTable['output_type'] = 'display_data';\n",
       "          await google.colab.output.renderOutput(dataTable, element);\n",
       "          const docLink = document.createElement('div');\n",
       "          docLink.innerHTML = docLinkHtml;\n",
       "          element.appendChild(docLink);\n",
       "        }\n",
       "      </script>\n",
       "    </div>\n",
       "  </div>\n",
       "  "
      ],
      "text/plain": [
       "                        model   train mae    test mae\n",
       "0                  model1 RNN  153.358780  273.570282\n",
       "1  model2 RNN + Bidirectional   64.676804   84.211136\n",
       "2                 model3 LSTM  133.496933  147.765823\n",
       "3   model4 LSTM+Bidirectional   92.537918   57.937210\n",
       "4                  model5 GRU   64.806953   37.733639\n",
       "5    model6 GRU+Bidirectional   94.293869   45.609440"
      ]
     },
     "execution_count": 230,
     "metadata": {},
     "output_type": "execute_result"
    }
   ],
   "source": [
    "pd.DataFrame(results)"
   ]
  },
  {
   "cell_type": "markdown",
   "metadata": {
    "id": "NRtV_XptSRRf"
   },
   "source": [
    "Наилуший результат при равных базовых параметрах достигается моделью GRU (model 5). Попробуем ее улучшить подбором параметров."
   ]
  },
  {
   "cell_type": "code",
   "execution_count": 238,
   "metadata": {
    "colab": {
     "base_uri": "https://localhost:8080/",
     "height": 354
    },
    "id": "LC42v0vV70rt",
    "outputId": "ab2e57f3-5bed-4e55-fdcc-c78b01102db7"
   },
   "outputs": [
    {
     "name": "stdout",
     "output_type": "stream",
     "text": [
      "MAE train: 67.3123,\n",
      "MAE test: 85.6431\n"
     ]
    },
    {
     "data": {
      "image/png": "[encoded data removed]",
      "text/plain": [
       "<Figure size 720x360 with 1 Axes>"
      ]
     },
     "metadata": {
      "needs_background": "light"
     },
     "output_type": "display_data"
    }
   ],
   "source": [
    "# Увеличим количество скрытых состояний в слоях GRU, а также нейронов и каналов в полносвязных и конвалюционных слоях\n",
    "model7 = Sequential()\n",
    "\n",
    "model7.add(GRU(128, return_sequences=True, input_shape=(inputs.shape[1], inputs.shape[2])))\n",
    "model7.add(GRU(128, return_sequences=True))\n",
    "model7.add(Conv1D(64, 3, activation='linear'))\n",
    "model7.add(Conv1D(64, 1, activation='linear'))\n",
    "model7.add(GlobalMaxPooling1D()) #Сделаем MaxPooling вместо Flatten\n",
    "# model8.add(Flatten())\n",
    "\n",
    "model7.add(Dense(32, activation='linear'))\n",
    "model7.add(Dense(1, activation='linear'))\n",
    "\n",
    "train_mae, test_mae = evaluate_model(model7, dataset_train, dataset_val)"
   ]
  },
  {
   "cell_type": "code",
   "execution_count": 239,
   "metadata": {
    "colab": {
     "base_uri": "https://localhost:8080/"
    },
    "id": "JZsWU80PBmdY",
    "outputId": "63f990c3-5288-4132-af92-65386e0d04db"
   },
   "outputs": [
    {
     "name": "stdout",
     "output_type": "stream",
     "text": [
      "Model: \"sequential_144\"\n",
      "_________________________________________________________________\n",
      " Layer (type)                Output Shape              Param #   \n",
      "=================================================================\n",
      " gru_328 (GRU)               (None, 8, 128)            51840     \n",
      "                                                                 \n",
      " gru_329 (GRU)               (None, 8, 128)            99072     \n",
      "                                                                 \n",
      " conv1d_284 (Conv1D)         (None, 6, 64)             24640     \n",
      "                                                                 \n",
      " conv1d_285 (Conv1D)         (None, 6, 64)             4160      \n",
      "                                                                 \n",
      " global_max_pooling1d_2 (Glo  (None, 64)               0         \n",
      " balMaxPooling1D)                                                \n",
      "                                                                 \n",
      " dense_349 (Dense)           (None, 32)                2080      \n",
      "                                                                 \n",
      " dense_350 (Dense)           (None, 1)                 33        \n",
      "                                                                 \n",
      "=================================================================\n",
      "Total params: 181,825\n",
      "Trainable params: 181,825\n",
      "Non-trainable params: 0\n",
      "_________________________________________________________________\n"
     ]
    }
   ],
   "source": [
    "model7.summary()"
   ]
  },
  {
   "cell_type": "markdown",
   "metadata": {
    "id": "tPzQJF7h_3yT"
   },
   "source": [
    "Метрика ухудшилась, возможно следует увеличить количество слоев "
   ]
  },
  {
   "cell_type": "code",
   "execution_count": 240,
   "metadata": {
    "id": "4FO_m23d_cpi"
   },
   "outputs": [],
   "source": [
    "results['model'].append('model7 GRU more hidden')\n",
    "results['train mae'].append(train_mae)\n",
    "results['test mae'].append(test_mae)"
   ]
  },
  {
   "cell_type": "code",
   "execution_count": 248,
   "metadata": {
    "colab": {
     "base_uri": "https://localhost:8080/",
     "height": 354
    },
    "id": "NkBczZv0BdEm",
    "outputId": "8a988df1-f831-4a6b-973b-8ae8b99e6adb"
   },
   "outputs": [
    {
     "name": "stdout",
     "output_type": "stream",
     "text": [
      "MAE train: 120.0424,\n",
      "MAE test: 34.8876\n"
     ]
    },
    {
     "data": {
      "image/png": "[encoded data removed]",
      "text/plain": [
       "<Figure size 720x360 with 1 Axes>"
      ]
     },
     "metadata": {
      "needs_background": "light"
     },
     "output_type": "display_data"
    }
   ],
   "source": [
    "# Увеличим количество рекурретных слоев\n",
    "\n",
    "# batch_size = 15 # уменьшили и результат стал лучше\n",
    "epochs = 7 # уменьшили \n",
    "\n",
    "model8 = Sequential()\n",
    "\n",
    "model8.add(GRU(128, return_sequences=True, input_shape=(inputs.shape[1], inputs.shape[2])))\n",
    "model8.add(GRU(64, return_sequences=True))\n",
    "model8.add(GRU(64, return_sequences=True))\n",
    "model8.add(GRU(64, return_sequences=True))\n",
    "\n",
    "model8.add(Conv1D(64, 3 , activation='linear'))\n",
    "model8.add(Conv1D(32, 1, activation='linear'))\n",
    "model8.add(Flatten())\n",
    "\n",
    "model8.add(Dense(64, activation='linear'))\n",
    "model8.add(Dense(32, activation='linear'))\n",
    "model8.add(Dense(1, activation='linear'))\n",
    "\n",
    "train_mae, test_mae = evaluate_model(model8, dataset_train, dataset_val)"
   ]
  },
  {
   "cell_type": "markdown",
   "metadata": {
    "id": "tRedfREwD4-7"
   },
   "source": [
    "Отлично! С увеличением количества скрытых состояний, ошибка стала еще меньше, однако есть сильное переобучение."
   ]
  },
  {
   "cell_type": "code",
   "execution_count": 249,
   "metadata": {
    "id": "5qWhs7LKDJOQ"
   },
   "outputs": [],
   "source": [
    "results['model'].append('model8 GRU more Rlayers')\n",
    "results['train mae'].append(train_mae)\n",
    "results['test mae'].append(test_mae)"
   ]
  },
  {
   "cell_type": "code",
   "execution_count": 251,
   "metadata": {
    "colab": {
     "base_uri": "https://localhost:8080/",
     "height": 354
    },
    "id": "xX4EeBLkGTVT",
    "outputId": "baa0f411-2a2b-4ba9-ec2d-d1841740916b"
   },
   "outputs": [
    {
     "name": "stdout",
     "output_type": "stream",
     "text": [
      "MAE train: 44.0717,\n",
      "MAE test: 44.4946\n"
     ]
    },
    {
     "data": {
      "image/png": "[encoded data removed]",
      "text/plain": [
       "<Figure size 720x360 with 1 Axes>"
      ]
     },
     "metadata": {
      "needs_background": "light"
     },
     "output_type": "display_data"
    }
   ],
   "source": [
    "# Эксперимент - Попробуем реализовать сразу два типа рекурретных слоев\n",
    "\n",
    "model9 = Sequential()\n",
    "\n",
    "model9.add(GRU(64, return_sequences=True, input_shape=(inputs.shape[1], inputs.shape[2])))\n",
    "model9.add(GRU(64, return_sequences=True))\n",
    "# model9.add(GRU(64, return_sequences=True))\n",
    "model9.add(Bidirectional(LSTM(64, return_sequences=True)))\n",
    "model9.add(Bidirectional(LSTM(64, return_sequences=True)))\n",
    "\n",
    "model9.add(Conv1D(32, 3 , activation='linear'))\n",
    "model9.add(Conv1D(16, 1, activation='linear'))\n",
    "model9.add(Flatten())\n",
    "\n",
    "model9.add(Dense(64, activation='linear'))\n",
    "model9.add(Dense(32, activation='linear'))\n",
    "model9.add(Dense(1, activation='linear'))\n",
    "\n",
    "train_mae, test_mae = evaluate_model(model9, dataset_train, dataset_val)"
   ]
  },
  {
   "cell_type": "code",
   "execution_count": 252,
   "metadata": {
    "id": "7Lnm0N04J0K4"
   },
   "outputs": [],
   "source": [
    "results['model'].append('model10 GRU + LSTM')\n",
    "results['train mae'].append(train_mae)\n",
    "results['test mae'].append(test_mae)"
   ]
  },
  {
   "cell_type": "code",
   "execution_count": 264,
   "metadata": {
    "id": "fnWdfE_Oh3XA"
   },
   "outputs": [],
   "source": [
    "res = pd.DataFrame(results)"
   ]
  },
  {
   "cell_type": "code",
   "execution_count": 263,
   "metadata": {
    "colab": {
     "base_uri": "https://localhost:8080/",
     "height": 328
    },
    "id": "48yzbehO1h6D",
    "outputId": "6f3b4ae4-1107-4210-98de-0b111cc76197"
   },
   "outputs": [
    {
     "data": {
      "text/html": [
       "\n",
       "  <div id=\"df-eb5523d8-a246-4e45-8e6a-882ce0d1fc3a\">\n",
       "    <div class=\"colab-df-container\">\n",
       "      <div>\n",
       "<style scoped>\n",
       "    .dataframe tbody tr th:only-of-type {\n",
       "        vertical-align: middle;\n",
       "    }\n",
       "\n",
       "    .dataframe tbody tr th {\n",
       "        vertical-align: top;\n",
       "    }\n",
       "\n",
       "    .dataframe thead th {\n",
       "        text-align: right;\n",
       "    }\n",
       "</style>\n",
       "<table border=\"1\" class=\"dataframe\">\n",
       "  <thead>\n",
       "    <tr style=\"text-align: right;\">\n",
       "      <th></th>\n",
       "      <th>model</th>\n",
       "      <th>train mae</th>\n",
       "      <th>test mae</th>\n",
       "    </tr>\n",
       "  </thead>\n",
       "  <tbody>\n",
       "    <tr>\n",
       "      <th>0</th>\n",
       "      <td>model1 RNN</td>\n",
       "      <td>153.358780</td>\n",
       "      <td>273.570282</td>\n",
       "    </tr>\n",
       "    <tr>\n",
       "      <th>1</th>\n",
       "      <td>model2 RNN + Bidirectional</td>\n",
       "      <td>64.676804</td>\n",
       "      <td>84.211136</td>\n",
       "    </tr>\n",
       "    <tr>\n",
       "      <th>2</th>\n",
       "      <td>model3 LSTM</td>\n",
       "      <td>133.496933</td>\n",
       "      <td>147.765823</td>\n",
       "    </tr>\n",
       "    <tr>\n",
       "      <th>3</th>\n",
       "      <td>model4 LSTM+Bidirectional</td>\n",
       "      <td>92.537918</td>\n",
       "      <td>57.937210</td>\n",
       "    </tr>\n",
       "    <tr>\n",
       "      <th>4</th>\n",
       "      <td>model5 GRU</td>\n",
       "      <td>64.806953</td>\n",
       "      <td>37.733639</td>\n",
       "    </tr>\n",
       "    <tr>\n",
       "      <th>5</th>\n",
       "      <td>model6 GRU+Bidirectional</td>\n",
       "      <td>94.293869</td>\n",
       "      <td>45.609440</td>\n",
       "    </tr>\n",
       "    <tr>\n",
       "      <th>6</th>\n",
       "      <td>model7 GRU more hidden</td>\n",
       "      <td>67.312263</td>\n",
       "      <td>85.643112</td>\n",
       "    </tr>\n",
       "    <tr>\n",
       "      <th>7</th>\n",
       "      <td>model8 GRU more Rlayers</td>\n",
       "      <td>120.042351</td>\n",
       "      <td>34.887627</td>\n",
       "    </tr>\n",
       "    <tr>\n",
       "      <th>8</th>\n",
       "      <td>model10 GRU + LSTM</td>\n",
       "      <td>44.071659</td>\n",
       "      <td>44.494637</td>\n",
       "    </tr>\n",
       "  </tbody>\n",
       "</table>\n",
       "</div>\n",
       "      <button class=\"colab-df-convert\" onclick=\"convertToInteractive('df-eb5523d8-a246-4e45-8e6a-882ce0d1fc3a')\"\n",
       "              title=\"Convert this dataframe to an interactive table.\"\n",
       "              style=\"display:none;\">\n",
       "        \n",
       "  <svg xmlns=\"http://www.w3.org/2000/svg\" height=\"24px\"viewBox=\"0 0 24 24\"\n",
       "       width=\"24px\">\n",
       "    <path d=\"M0 0h24v24H0V0z\" fill=\"none\"/>\n",
       "    <path d=\"M18.56 5.44l.94 2.06.94-2.06 2.06-.94-2.06-.94-.94-2.06-.94 2.06-2.06.94zm-11 1L8.5 8.5l.94-2.06 2.06-.94-2.06-.94L8.5 2.5l-.94 2.06-2.06.94zm10 10l.94 2.06.94-2.06 2.06-.94-2.06-.94-.94-2.06-.94 2.06-2.06.94z\"/><path d=\"M17.41 7.96l-1.37-1.37c-.4-.4-.92-.59-1.43-.59-.52 0-1.04.2-1.43.59L10.3 9.45l-7.72 7.72c-.78.78-.78 2.05 0 2.83L4 21.41c.39.39.9.59 1.41.59.51 0 1.02-.2 1.41-.59l7.78-7.78 2.81-2.81c.8-.78.8-2.07 0-2.86zM5.41 20L4 18.59l7.72-7.72 1.47 1.35L5.41 20z\"/>\n",
       "  </svg>\n",
       "      </button>\n",
       "      \n",
       "  <style>\n",
       "    .colab-df-container {\n",
       "      display:flex;\n",
       "      flex-wrap:wrap;\n",
       "      gap: 12px;\n",
       "    }\n",
       "\n",
       "    .colab-df-convert {\n",
       "      background-color: #E8F0FE;\n",
       "      border: none;\n",
       "      border-radius: 50%;\n",
       "      cursor: pointer;\n",
       "      display: none;\n",
       "      fill: #1967D2;\n",
       "      height: 32px;\n",
       "      padding: 0 0 0 0;\n",
       "      width: 32px;\n",
       "    }\n",
       "\n",
       "    .colab-df-convert:hover {\n",
       "      background-color: #E2EBFA;\n",
       "      box-shadow: 0px 1px 2px rgba(60, 64, 67, 0.3), 0px 1px 3px 1px rgba(60, 64, 67, 0.15);\n",
       "      fill: #174EA6;\n",
       "    }\n",
       "\n",
       "    [theme=dark] .colab-df-convert {\n",
       "      background-color: #3B4455;\n",
       "      fill: #D2E3FC;\n",
       "    }\n",
       "\n",
       "    [theme=dark] .colab-df-convert:hover {\n",
       "      background-color: #434B5C;\n",
       "      box-shadow: 0px 1px 3px 1px rgba(0, 0, 0, 0.15);\n",
       "      filter: drop-shadow(0px 1px 2px rgba(0, 0, 0, 0.3));\n",
       "      fill: #FFFFFF;\n",
       "    }\n",
       "  </style>\n",
       "\n",
       "      <script>\n",
       "        const buttonEl =\n",
       "          document.querySelector('#df-eb5523d8-a246-4e45-8e6a-882ce0d1fc3a button.colab-df-convert');\n",
       "        buttonEl.style.display =\n",
       "          google.colab.kernel.accessAllowed ? 'block' : 'none';\n",
       "\n",
       "        async function convertToInteractive(key) {\n",
       "          const element = document.querySelector('#df-eb5523d8-a246-4e45-8e6a-882ce0d1fc3a');\n",
       "          const dataTable =\n",
       "            await google.colab.kernel.invokeFunction('convertToInteractive',\n",
       "                                                     [key], {});\n",
       "          if (!dataTable) return;\n",
       "\n",
       "          const docLinkHtml = 'Like what you see? Visit the ' +\n",
       "            '<a target=\"_blank\" href=https://colab.research.google.com/notebooks/data_table.ipynb>data table notebook</a>'\n",
       "            + ' to learn more about interactive tables.';\n",
       "          element.innerHTML = '';\n",
       "          dataTable['output_type'] = 'display_data';\n",
       "          await google.colab.output.renderOutput(dataTable, element);\n",
       "          const docLink = document.createElement('div');\n",
       "          docLink.innerHTML = docLinkHtml;\n",
       "          element.appendChild(docLink);\n",
       "        }\n",
       "      </script>\n",
       "    </div>\n",
       "  </div>\n",
       "  "
      ],
      "text/plain": [
       "                        model   train mae    test mae\n",
       "0                  model1 RNN  153.358780  273.570282\n",
       "1  model2 RNN + Bidirectional   64.676804   84.211136\n",
       "2                 model3 LSTM  133.496933  147.765823\n",
       "3   model4 LSTM+Bidirectional   92.537918   57.937210\n",
       "4                  model5 GRU   64.806953   37.733639\n",
       "5    model6 GRU+Bidirectional   94.293869   45.609440\n",
       "6      model7 GRU more hidden   67.312263   85.643112\n",
       "7     model8 GRU more Rlayers  120.042351   34.887627\n",
       "8          model10 GRU + LSTM   44.071659   44.494637"
      ]
     },
     "execution_count": 263,
     "metadata": {},
     "output_type": "execute_result"
    }
   ],
   "source": [
    "res"
   ]
  },
  {
   "cell_type": "markdown",
   "metadata": {
    "id": "N6i_tv3Tjjxn"
   },
   "source": [
    "**Вывод:** Наилучший результат получился у модели с использованием GRU. Улучшить результат помогло:  \n",
    "* подбор оптимальных параметров обучения (epochs). \n",
    "* увеличение количества рекурретных слоев \n",
    "* подбор оптимального количества скрытых состояний. \n",
    "  \n",
    "Лучшей стала модель 8\n",
    "  \n",
    "Дополнительно был проведен эксперимент с моделью, где рекурретные слои состояли из GRU и LSTM - результат получился неплохой."
   ]
  }
 ],
 "metadata": {
  "accelerator": "GPU",
  "colab": {
   "name": "HW5_2_fonal.ipynb\"",
   "provenance": []
  },
  "kernelspec": {
   "display_name": "Python 3",
   "language": "python",
   "name": "python3"
  },
  "language_info": {
   "codemirror_mode": {
    "name": "ipython",
    "version": 3
   },
   "file_extension": ".py",
   "mimetype": "text/x-python",
   "name": "python",
   "nbconvert_exporter": "python",
   "pygments_lexer": "ipython3",
   "version": "3.9.2"
  }
 },
 "nbformat": 4,
 "nbformat_minor": 1
}
