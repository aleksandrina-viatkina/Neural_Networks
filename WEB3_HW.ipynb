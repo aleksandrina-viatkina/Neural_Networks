{
 "cells": [
  {
   "cell_type": "markdown",
   "metadata": {
    "id": "r0H-EGmVHfOA"
   },
   "source": [
    "<h1>Домашнее задание к вебинару 3<h1>"
   ]
  },
  {
   "cell_type": "markdown",
   "metadata": {
    "id": "FsyYomZGHi8P"
   },
   "source": [
    "#### Задание 1. Постройте нейронную сеть (берем несложную полносвязную сеть, меняем число слоев, число нейронов, типы активации, тип оптимизатора) на датасете from sklearn.datasets import load_boston."
   ]
  },
  {
   "cell_type": "code",
   "execution_count": 190,
   "metadata": {
    "id": "kTd5JCukHtgx"
   },
   "outputs": [],
   "source": [
    "import pandas as pd\n",
    "import numpy as np\n",
    "import matplotlib.pyplot as plt\n",
    "\n",
    "from sklearn.datasets import load_boston\n",
    "from sklearn.model_selection import train_test_split\n",
    "from sklearn.pipeline import Pipeline, make_pipeline, FeatureUnion\n",
    "from sklearn.preprocessing import StandardScaler, OneHotEncoder\n",
    "from sklearn.base import BaseEstimator, TransformerMixin\n",
    "from sklearn.metrics import r2_score\n",
    "\n",
    "\n",
    "import warnings\n",
    "warnings.filterwarnings('ignore')"
   ]
  },
  {
   "cell_type": "code",
   "execution_count": 265,
   "metadata": {
    "colab": {
     "base_uri": "https://localhost:8080/",
     "height": 85
    },
    "id": "49XwSwNcJncV",
    "outputId": "9f36332d-50d8-4bf9-a4ac-44c7243820c0"
   },
   "outputs": [
    {
     "data": {
      "text/plain": [
       "(354, 13)"
      ]
     },
     "metadata": {},
     "output_type": "display_data"
    },
    {
     "data": {
      "text/plain": [
       "(152, 13)"
      ]
     },
     "metadata": {},
     "output_type": "display_data"
    },
    {
     "data": {
      "text/plain": [
       "(354,)"
      ]
     },
     "metadata": {},
     "output_type": "display_data"
    },
    {
     "data": {
      "text/plain": [
       "(152,)"
      ]
     },
     "metadata": {},
     "output_type": "display_data"
    }
   ],
   "source": [
    "X, y = load_boston(return_X_y=True)\n",
    "\n",
    "X =  pd.DataFrame(X, columns=load_boston().feature_names)\n",
    "\n",
    "X_train, X_test, y_train, y_test = train_test_split(X, y, test_size=0.3, random_state=42)\n",
    "display(X_train.shape, X_test.shape, y_train.shape, y_test.shape)"
   ]
  },
  {
   "cell_type": "code",
   "execution_count": 266,
   "metadata": {
    "colab": {
     "base_uri": "https://localhost:8080/"
    },
    "id": "XlJiwq7VJneo",
    "outputId": "a6aac645-cc0c-4d9d-bcad-3e6ed0c06d0e"
   },
   "outputs": [
    {
     "data": {
      "text/plain": [
       "Index(['CRIM', 'ZN', 'INDUS', 'CHAS', 'NOX', 'RM', 'AGE', 'DIS', 'RAD', 'TAX',\n",
       "       'PTRATIO', 'B', 'LSTAT'],\n",
       "      dtype='object')"
      ]
     },
     "execution_count": 266,
     "metadata": {},
     "output_type": "execute_result"
    }
   ],
   "source": [
    "X.columns"
   ]
  },
  {
   "cell_type": "code",
   "execution_count": 267,
   "metadata": {
    "colab": {
     "base_uri": "https://localhost:8080/",
     "height": 173
    },
    "id": "QfbEf4K_Jng7",
    "outputId": "7f1fbe18-39e3-453a-ed38-47456785590e"
   },
   "outputs": [
    {
     "data": {
      "text/html": [
       "\n",
       "  <div id=\"df-a0be7285-d0ac-4a56-8afd-d5e86b6806f0\">\n",
       "    <div class=\"colab-df-container\">\n",
       "      <div>\n",
       "<style scoped>\n",
       "    .dataframe tbody tr th:only-of-type {\n",
       "        vertical-align: middle;\n",
       "    }\n",
       "\n",
       "    .dataframe tbody tr th {\n",
       "        vertical-align: top;\n",
       "    }\n",
       "\n",
       "    .dataframe thead th {\n",
       "        text-align: right;\n",
       "    }\n",
       "</style>\n",
       "<table border=\"1\" class=\"dataframe\">\n",
       "  <thead>\n",
       "    <tr style=\"text-align: right;\">\n",
       "      <th></th>\n",
       "      <th>CRIM</th>\n",
       "      <th>ZN</th>\n",
       "      <th>INDUS</th>\n",
       "      <th>CHAS</th>\n",
       "      <th>NOX</th>\n",
       "      <th>RM</th>\n",
       "      <th>AGE</th>\n",
       "      <th>DIS</th>\n",
       "      <th>RAD</th>\n",
       "      <th>TAX</th>\n",
       "      <th>PTRATIO</th>\n",
       "      <th>B</th>\n",
       "      <th>LSTAT</th>\n",
       "    </tr>\n",
       "  </thead>\n",
       "  <tbody>\n",
       "    <tr>\n",
       "      <th>5</th>\n",
       "      <td>0.02985</td>\n",
       "      <td>0.0</td>\n",
       "      <td>2.18</td>\n",
       "      <td>0.0</td>\n",
       "      <td>0.458</td>\n",
       "      <td>6.430</td>\n",
       "      <td>58.7</td>\n",
       "      <td>6.0622</td>\n",
       "      <td>3.0</td>\n",
       "      <td>222.0</td>\n",
       "      <td>18.7</td>\n",
       "      <td>394.12</td>\n",
       "      <td>5.21</td>\n",
       "    </tr>\n",
       "    <tr>\n",
       "      <th>116</th>\n",
       "      <td>0.13158</td>\n",
       "      <td>0.0</td>\n",
       "      <td>10.01</td>\n",
       "      <td>0.0</td>\n",
       "      <td>0.547</td>\n",
       "      <td>6.176</td>\n",
       "      <td>72.5</td>\n",
       "      <td>2.7301</td>\n",
       "      <td>6.0</td>\n",
       "      <td>432.0</td>\n",
       "      <td>17.8</td>\n",
       "      <td>393.30</td>\n",
       "      <td>12.04</td>\n",
       "    </tr>\n",
       "    <tr>\n",
       "      <th>45</th>\n",
       "      <td>0.17142</td>\n",
       "      <td>0.0</td>\n",
       "      <td>6.91</td>\n",
       "      <td>0.0</td>\n",
       "      <td>0.448</td>\n",
       "      <td>5.682</td>\n",
       "      <td>33.8</td>\n",
       "      <td>5.1004</td>\n",
       "      <td>3.0</td>\n",
       "      <td>233.0</td>\n",
       "      <td>17.9</td>\n",
       "      <td>396.90</td>\n",
       "      <td>10.21</td>\n",
       "    </tr>\n",
       "    <tr>\n",
       "      <th>16</th>\n",
       "      <td>1.05393</td>\n",
       "      <td>0.0</td>\n",
       "      <td>8.14</td>\n",
       "      <td>0.0</td>\n",
       "      <td>0.538</td>\n",
       "      <td>5.935</td>\n",
       "      <td>29.3</td>\n",
       "      <td>4.4986</td>\n",
       "      <td>4.0</td>\n",
       "      <td>307.0</td>\n",
       "      <td>21.0</td>\n",
       "      <td>386.85</td>\n",
       "      <td>6.58</td>\n",
       "    </tr>\n",
       "  </tbody>\n",
       "</table>\n",
       "</div>\n",
       "      <button class=\"colab-df-convert\" onclick=\"convertToInteractive('df-a0be7285-d0ac-4a56-8afd-d5e86b6806f0')\"\n",
       "              title=\"Convert this dataframe to an interactive table.\"\n",
       "              style=\"display:none;\">\n",
       "        \n",
       "  <svg xmlns=\"http://www.w3.org/2000/svg\" height=\"24px\"viewBox=\"0 0 24 24\"\n",
       "       width=\"24px\">\n",
       "    <path d=\"M0 0h24v24H0V0z\" fill=\"none\"/>\n",
       "    <path d=\"M18.56 5.44l.94 2.06.94-2.06 2.06-.94-2.06-.94-.94-2.06-.94 2.06-2.06.94zm-11 1L8.5 8.5l.94-2.06 2.06-.94-2.06-.94L8.5 2.5l-.94 2.06-2.06.94zm10 10l.94 2.06.94-2.06 2.06-.94-2.06-.94-.94-2.06-.94 2.06-2.06.94z\"/><path d=\"M17.41 7.96l-1.37-1.37c-.4-.4-.92-.59-1.43-.59-.52 0-1.04.2-1.43.59L10.3 9.45l-7.72 7.72c-.78.78-.78 2.05 0 2.83L4 21.41c.39.39.9.59 1.41.59.51 0 1.02-.2 1.41-.59l7.78-7.78 2.81-2.81c.8-.78.8-2.07 0-2.86zM5.41 20L4 18.59l7.72-7.72 1.47 1.35L5.41 20z\"/>\n",
       "  </svg>\n",
       "      </button>\n",
       "      \n",
       "  <style>\n",
       "    .colab-df-container {\n",
       "      display:flex;\n",
       "      flex-wrap:wrap;\n",
       "      gap: 12px;\n",
       "    }\n",
       "\n",
       "    .colab-df-convert {\n",
       "      background-color: #E8F0FE;\n",
       "      border: none;\n",
       "      border-radius: 50%;\n",
       "      cursor: pointer;\n",
       "      display: none;\n",
       "      fill: #1967D2;\n",
       "      height: 32px;\n",
       "      padding: 0 0 0 0;\n",
       "      width: 32px;\n",
       "    }\n",
       "\n",
       "    .colab-df-convert:hover {\n",
       "      background-color: #E2EBFA;\n",
       "      box-shadow: 0px 1px 2px rgba(60, 64, 67, 0.3), 0px 1px 3px 1px rgba(60, 64, 67, 0.15);\n",
       "      fill: #174EA6;\n",
       "    }\n",
       "\n",
       "    [theme=dark] .colab-df-convert {\n",
       "      background-color: #3B4455;\n",
       "      fill: #D2E3FC;\n",
       "    }\n",
       "\n",
       "    [theme=dark] .colab-df-convert:hover {\n",
       "      background-color: #434B5C;\n",
       "      box-shadow: 0px 1px 3px 1px rgba(0, 0, 0, 0.15);\n",
       "      filter: drop-shadow(0px 1px 2px rgba(0, 0, 0, 0.3));\n",
       "      fill: #FFFFFF;\n",
       "    }\n",
       "  </style>\n",
       "\n",
       "      <script>\n",
       "        const buttonEl =\n",
       "          document.querySelector('#df-a0be7285-d0ac-4a56-8afd-d5e86b6806f0 button.colab-df-convert');\n",
       "        buttonEl.style.display =\n",
       "          google.colab.kernel.accessAllowed ? 'block' : 'none';\n",
       "\n",
       "        async function convertToInteractive(key) {\n",
       "          const element = document.querySelector('#df-a0be7285-d0ac-4a56-8afd-d5e86b6806f0');\n",
       "          const dataTable =\n",
       "            await google.colab.kernel.invokeFunction('convertToInteractive',\n",
       "                                                     [key], {});\n",
       "          if (!dataTable) return;\n",
       "\n",
       "          const docLinkHtml = 'Like what you see? Visit the ' +\n",
       "            '<a target=\"_blank\" href=https://colab.research.google.com/notebooks/data_table.ipynb>data table notebook</a>'\n",
       "            + ' to learn more about interactive tables.';\n",
       "          element.innerHTML = '';\n",
       "          dataTable['output_type'] = 'display_data';\n",
       "          await google.colab.output.renderOutput(dataTable, element);\n",
       "          const docLink = document.createElement('div');\n",
       "          docLink.innerHTML = docLinkHtml;\n",
       "          element.appendChild(docLink);\n",
       "        }\n",
       "      </script>\n",
       "    </div>\n",
       "  </div>\n",
       "  "
      ],
      "text/plain": [
       "        CRIM   ZN  INDUS  CHAS    NOX  ...  RAD    TAX  PTRATIO       B  LSTAT\n",
       "5    0.02985  0.0   2.18   0.0  0.458  ...  3.0  222.0     18.7  394.12   5.21\n",
       "116  0.13158  0.0  10.01   0.0  0.547  ...  6.0  432.0     17.8  393.30  12.04\n",
       "45   0.17142  0.0   6.91   0.0  0.448  ...  3.0  233.0     17.9  396.90  10.21\n",
       "16   1.05393  0.0   8.14   0.0  0.538  ...  4.0  307.0     21.0  386.85   6.58\n",
       "\n",
       "[4 rows x 13 columns]"
      ]
     },
     "execution_count": 267,
     "metadata": {},
     "output_type": "execute_result"
    }
   ],
   "source": [
    "X_train.head(4)"
   ]
  },
  {
   "cell_type": "code",
   "execution_count": 268,
   "metadata": {
    "colab": {
     "base_uri": "https://localhost:8080/"
    },
    "id": "_sRRb8rTJnjh",
    "outputId": "1121be97-0fe5-4611-a674-536eb3a7d953"
   },
   "outputs": [
    {
     "name": "stdout",
     "output_type": "stream",
     "text": [
      "Number of unique names by columns\n",
      "CRIM: 353\n",
      "ZN: 23\n",
      "INDUS: 69\n",
      "CHAS: 2\n",
      "NOX: 80\n",
      "RM: 323\n",
      "AGE: 274\n",
      "DIS: 301\n",
      "RAD: 9\n",
      "TAX: 61\n",
      "PTRATIO: 43\n",
      "B: 253\n",
      "LSTAT: 327\n"
     ]
    }
   ],
   "source": [
    "print('Number of unique names by columns')\n",
    "for column in X_train.columns:\n",
    "  print(f'{column}: {X_train[column].nunique()}')"
   ]
  },
  {
   "cell_type": "code",
   "execution_count": 311,
   "metadata": {
    "id": "KQW45cl9PzPA"
   },
   "outputs": [],
   "source": [
    "class ColSelector(BaseEstimator, TransformerMixin):\n",
    "    def __init__(self, col):\n",
    "        self.col = col\n",
    "\n",
    "    def fit(self, X, y=None):\n",
    "        return self\n",
    "\n",
    "    def transform(self, X):\n",
    "        return X[self.col]\n",
    "\n",
    "class CatSelector(BaseEstimator, TransformerMixin):\n",
    "    def __init__(self, col):\n",
    "        self.col = col\n",
    "\n",
    "    def fit(self, X, y=None):\n",
    "        return self\n",
    "\n",
    "    def transform(self, X):\n",
    "        return X[[self.col]]"
   ]
  },
  {
   "cell_type": "code",
   "execution_count": 310,
   "metadata": {
    "id": "zhUX5H6Aokh1"
   },
   "outputs": [],
   "source": [
    "# Age - категориальный признак, который можно закодировать порядковыми номерами, далее стандартизируем эти номера,\n",
    "# поскольку значений возраста очень много\n",
    "class AgeCoding(BaseEstimator, TransformerMixin):\n",
    "    def __init__(self, col):\n",
    "        self.col = col\n",
    "\n",
    "    def fit(self, X, y=None):\n",
    "        return self\n",
    "\n",
    "    def transform(self, X):\n",
    "        X['age_code'] == 0\n",
    "        num_code_age = 0\n",
    "        for age in X[self.col].sort_values().unique():\n",
    "            X.loc[X[self.col] == age, 'age_code'] == num_code_age\n",
    "        return X[['age_code']]"
   ]
  },
  {
   "cell_type": "code",
   "execution_count": 314,
   "metadata": {
    "id": "PAtdZ_oXpKiG"
   },
   "outputs": [],
   "source": [
    "age_coder = Pipeline([\n",
    "                      ('selector', CatSelector(\"AGE\")),\n",
    "                      ('age_coding', AgeCoding('AGE')),\n",
    "                      ('scaler', StandardScaler())\n",
    "])"
   ]
  },
  {
   "cell_type": "code",
   "execution_count": 315,
   "metadata": {
    "id": "YfXNtgnnVKL-"
   },
   "outputs": [],
   "source": [
    "scaler_transform =  Pipeline([\n",
    "                ('selector', ColSelector(X.columns)),\n",
    "                ('standard', StandardScaler())\n",
    "            ])"
   ]
  },
  {
   "cell_type": "code",
   "execution_count": 317,
   "metadata": {
    "id": "jl1yVNm_qiVi"
   },
   "outputs": [],
   "source": [
    "transformer = FeatureUnion([('cat_transformer', age_coder),\n",
    "                     ('num_transformer', num_transformer)])"
   ]
  },
  {
   "cell_type": "code",
   "execution_count": 318,
   "metadata": {
    "id": "JZWzUTJOXNYc"
   },
   "outputs": [],
   "source": [
    "X_tr = transformer.fit_transform(X_train)\n",
    "X_tst = transformer.transform(X_test)"
   ]
  },
  {
   "cell_type": "code",
   "execution_count": 319,
   "metadata": {
    "colab": {
     "base_uri": "https://localhost:8080/"
    },
    "id": "mxLX0sA-XNbk",
    "outputId": "5c9e7f88-1843-4756-e765-c6e35b0204c2"
   },
   "outputs": [
    {
     "data": {
      "text/plain": [
       "((354, 13), (152, 13))"
      ]
     },
     "execution_count": 319,
     "metadata": {},
     "output_type": "execute_result"
    }
   ],
   "source": [
    "X_tr.shape, X_tst.shape"
   ]
  },
  {
   "cell_type": "code",
   "execution_count": 320,
   "metadata": {
    "colab": {
     "base_uri": "https://localhost:8080/",
     "height": 350
    },
    "id": "jFDL-MTBcpNH",
    "outputId": "90c69c58-2be7-4958-84b8-5d34dd6627b2"
   },
   "outputs": [
    {
     "data": {
      "image/png": "[encoded data removed]",
      "text/plain": [
       "<Figure size 720x360 with 1 Axes>"
      ]
     },
     "metadata": {
      "needs_background": "light"
     },
     "output_type": "display_data"
    }
   ],
   "source": [
    "from seaborn import distplot\n",
    "plt.figure(figsize=(10, 5))\n",
    "distplot(y)\n",
    "plt.grid()\n",
    "\n",
    "plt.xlabel('Цена жилья')\n",
    "plt.ylabel('Количество наблюдений')\n",
    "plt.title('График распределения целевой переменной')\n",
    "plt.show()"
   ]
  },
  {
   "cell_type": "markdown",
   "metadata": {
    "id": "Q0dHSwtNdxP7"
   },
   "source": [
    "Очевидны небольшие выбросы в правой части графика."
   ]
  },
  {
   "cell_type": "markdown",
   "metadata": {
    "id": "BoeUZHdZccGb"
   },
   "source": [
    "Переходим к построению нейронной сети. В данном случае мы решаем задачу регрессии (важно при выборе функции активации)"
   ]
  },
  {
   "cell_type": "code",
   "execution_count": 297,
   "metadata": {
    "id": "cMhKamQ9hsul"
   },
   "outputs": [],
   "source": [
    "import tensorflow as tf\n",
    "\n",
    "from tensorflow.keras.models import Sequential\n",
    "from tensorflow.keras.layers import Input, Flatten, Dense\n",
    "from tensorflow.keras.utils import to_categorical\n",
    "from tensorflow.keras.optimizers import Adam\n",
    "from tensorflow.keras.losses import MeanSquaredError"
   ]
  },
  {
   "cell_type": "code",
   "execution_count": 399,
   "metadata": {
    "id": "ArtGghphcbFs"
   },
   "outputs": [],
   "source": [
    "my_nn = Sequential([\n",
    "    Dense(70, activation='relu', input_shape=(13,)), \n",
    "    Dense(60, activation='linear'), \n",
    "    Dense(40, activation='relu'), \n",
    "    Dense(1, activation='relu')\n",
    "])\n",
    "\n",
    "my_nn.compile(optimizer=Adam(),\n",
    "              loss = MeanSquaredError(),\n",
    "              metrics = [tf.keras.metrics.MeanSquaredError()])\n",
    "\n",
    "history = my_nn.fit(X_tr, y_train,\n",
    "                    epochs=50,\n",
    "                    batch_size=10,\n",
    "                    validation_data=(X_tst, y_test),\n",
    "                    verbose = 0)\n"
   ]
  },
  {
   "cell_type": "code",
   "execution_count": 400,
   "metadata": {
    "colab": {
     "base_uri": "https://localhost:8080/"
    },
    "id": "aqI0BL5oiASO",
    "outputId": "0a88c4eb-8e55-4307-fa6a-89c65e26279b"
   },
   "outputs": [
    {
     "name": "stdout",
     "output_type": "stream",
     "text": [
      "Model: \"sequential_33\"\n",
      "_________________________________________________________________\n",
      " Layer (type)                Output Shape              Param #   \n",
      "=================================================================\n",
      " dense_133 (Dense)           (None, 70)                980       \n",
      "                                                                 \n",
      " dense_134 (Dense)           (None, 60)                4260      \n",
      "                                                                 \n",
      " dense_135 (Dense)           (None, 40)                2440      \n",
      "                                                                 \n",
      " dense_136 (Dense)           (None, 1)                 41        \n",
      "                                                                 \n",
      "=================================================================\n",
      "Total params: 7,721\n",
      "Trainable params: 7,721\n",
      "Non-trainable params: 0\n",
      "_________________________________________________________________\n"
     ]
    }
   ],
   "source": [
    "my_nn.summary()"
   ]
  },
  {
   "cell_type": "code",
   "execution_count": 401,
   "metadata": {
    "colab": {
     "base_uri": "https://localhost:8080/",
     "height": 350
    },
    "id": "jpMZuO_ecbua",
    "outputId": "f8662b7a-950f-4e21-8dae-893635774ccf"
   },
   "outputs": [
    {
     "data": {
      "image/png": "[encoded data removed]",
      "text/plain": [
       "<Figure size 720x360 with 1 Axes>"
      ]
     },
     "metadata": {
      "needs_background": "light"
     },
     "output_type": "display_data"
    }
   ],
   "source": [
    "plt.figure(figsize=(10,5))\n",
    "plt.plot(history.history['val_mean_squared_error'], label='val', c='blue')\n",
    "plt.plot(history.history['mean_squared_error'], label='train', c='green')\n",
    "plt.legend()\n",
    "plt.xlabel('epoch')\n",
    "plt.ylabel('MSE')\n",
    "plt.title('Динамика MSE по эпохам')\n",
    "plt.grid()\n",
    "plt.show()"
   ]
  },
  {
   "cell_type": "markdown",
   "metadata": {
    "id": "gB7D9HZYj-fF"
   },
   "source": [
    "Видна динамика уменьшения ошибки"
   ]
  },
  {
   "cell_type": "code",
   "execution_count": 402,
   "metadata": {
    "colab": {
     "base_uri": "https://localhost:8080/"
    },
    "id": "XNw6sW5QcbIA",
    "outputId": "88b15607-dfd1-4c83-c6c7-e8283b2229ef"
   },
   "outputs": [
    {
     "data": {
      "text/plain": [
       "array([[27.025982],\n",
       "       [36.218582],\n",
       "       [16.761774]], dtype=float32)"
      ]
     },
     "execution_count": 402,
     "metadata": {},
     "output_type": "execute_result"
    }
   ],
   "source": [
    "y_pred = my_nn.predict(X_tst) \n",
    "y_pred[:3] # на выходе двумерный массив"
   ]
  },
  {
   "cell_type": "code",
   "execution_count": 403,
   "metadata": {
    "colab": {
     "base_uri": "https://localhost:8080/"
    },
    "id": "rSYcyEsSkIRL",
    "outputId": "7cc56ca2-38dc-4396-9c02-1e484a6129a0"
   },
   "outputs": [
    {
     "data": {
      "text/plain": [
       "array([27.025982, 36.218582, 16.761774], dtype=float32)"
      ]
     },
     "execution_count": 403,
     "metadata": {},
     "output_type": "execute_result"
    }
   ],
   "source": [
    "y_pred = y_pred.reshape(-1,) #перевод в одномерный массив\n",
    "y_pred[:3]"
   ]
  },
  {
   "cell_type": "code",
   "execution_count": 404,
   "metadata": {
    "colab": {
     "base_uri": "https://localhost:8080/"
    },
    "id": "i1jeKC_RkdYd",
    "outputId": "1b8833ed-c624-4e14-e21d-1764a8d5c3cd"
   },
   "outputs": [
    {
     "name": "stdout",
     "output_type": "stream",
     "text": [
      "R2 score: 0.8509443741676739\n"
     ]
    }
   ],
   "source": [
    "# Расчет метрики R2\n",
    "print(f\"R2 score: {r2_score(y_test, y_pred)}\")"
   ]
  },
  {
   "cell_type": "markdown",
   "metadata": {
    "id": "r0Sk7cKzHjEu"
   },
   "source": [
    "#### Задание 2. Постройте 10-15 вариантов разных нейронных сетей и сведите результаты их работы в таблицу. Опишите, какого результата вы добились от нейросети? Что помогло вам улучшить ее точность?"
   ]
  },
  {
   "cell_type": "code",
   "execution_count": 571,
   "metadata": {
    "id": "9cD_fU4AHsSZ"
   },
   "outputs": [],
   "source": [
    "# Пропишем словарь - заготовку\n",
    "models_evaluation = {'model No':[],\n",
    "                     'neuron 1st hidden layer quantity': [],\n",
    "                     'number of epochs': [],\n",
    "                     'optimizer': [],\n",
    "                     'train r2 score': [],\n",
    "                     'val r2 score': [],\n",
    "                     'mse': [],\n",
    "                     'val mse': []}"
   ]
  },
  {
   "cell_type": "code",
   "execution_count": 572,
   "metadata": {
    "id": "upZvX0ws00AF"
   },
   "outputs": [],
   "source": [
    "def eval_model(X_train, y_train, epoch, val_data = (X_tst, y_test)):\n",
    "    h = model.fit(X_tr, y_train, epochs=epoch, validation_data = val_data, verbose=0)\n",
    "    test_loss, test_r2 = model.evaluate(X_tst, y_test, verbose=0)\n",
    "    r2_tr = r2_score(y_train, model.predict(X_tr).reshape(-1, ))\n",
    "    r2_val = r2_score(y_test, model.predict(X_tst).reshape(-1, ))\n",
    "\n",
    "    mse_tr = h.history[\"mean_squared_error\"][-1]\n",
    "    mse_val = h.history[\"val_mean_squared_error\"][-1]\n",
    "\n",
    "    print(f'\\tMSE на трейне : {mse_tr:.4f};\\n'\n",
    "          f'\\tMSE на валидационной выборке : {mse_val:.4f};\\n'\n",
    "          f'\\tR2 score на трейне :  {r2_tr:.4f};\\n'\n",
    "          f'\\tR2 score на валидационной выборке ; {r2_val:.4f}')\n",
    "    \n",
    "    return mse_tr, mse_val, r2_tr, r2_val"
   ]
  },
  {
   "cell_type": "markdown",
   "metadata": {
    "id": "1x8FrERF0kNH"
   },
   "source": [
    "Сначала изучим влияние на метрики количества нейронов первого внутреннего слоя и числа эпох. Количество слоев дополнительно исследовать не будем - я его подобрала в первом задании. Изучим другие параметры на одной структуре сети"
   ]
  },
  {
   "cell_type": "code",
   "execution_count": 573,
   "metadata": {
    "colab": {
     "base_uri": "https://localhost:8080/"
    },
    "id": "SnXE59wP0F-D",
    "outputId": "21d0d395-0456-4dc3-cebc-a996391a2006"
   },
   "outputs": [
    {
     "name": "stdout",
     "output_type": "stream",
     "text": [
      "Количество нейронов в первом внутреннем слое - 60, Количество эпох - 30:\n",
      "\tMSE на трейне : 12.6151;\n",
      "\tMSE на валидационной выборке : 14.2160;\n",
      "\tR2 score на трейне :  0.8587;\n",
      "\tR2 score на валидационной выборке ; 0.8061\n",
      "**************************************************\n",
      "Количество нейронов в первом внутреннем слое - 60, Количество эпох - 50:\n",
      "\tMSE на трейне : 9.4852;\n",
      "\tMSE на валидационной выборке : 12.3959;\n",
      "\tR2 score на трейне :  0.8880;\n",
      "\tR2 score на валидационной выборке ; 0.8302\n",
      "**************************************************\n",
      "Количество нейронов в первом внутреннем слое - 60, Количество эпох - 100:\n",
      "\tMSE на трейне : 6.5416;\n",
      "\tMSE на валидационной выборке : 10.7068;\n",
      "\tR2 score на трейне :  0.9276;\n",
      "\tR2 score на валидационной выборке ; 0.8536\n",
      "**************************************************\n",
      "Количество нейронов в первом внутреннем слое - 100, Количество эпох - 30:\n",
      "\tMSE на трейне : 12.8730;\n",
      "\tMSE на валидационной выборке : 14.9631;\n",
      "\tR2 score на трейне :  0.8582;\n",
      "\tR2 score на валидационной выборке ; 0.7975\n",
      "**************************************************\n",
      "Количество нейронов в первом внутреннем слое - 100, Количество эпох - 50:\n",
      "\tMSE на трейне : 9.5842;\n",
      "\tMSE на валидационной выборке : 13.3308;\n",
      "\tR2 score на трейне :  0.8874;\n",
      "\tR2 score на валидационной выборке ; 0.8172\n",
      "**************************************************\n",
      "Количество нейронов в первом внутреннем слое - 100, Количество эпох - 100:\n",
      "\tMSE на трейне : 6.6778;\n",
      "\tMSE на валидационной выборке : 11.9051;\n",
      "\tR2 score на трейне :  0.9202;\n",
      "\tR2 score на валидационной выборке ; 0.8365\n",
      "**************************************************\n",
      "Количество нейронов в первом внутреннем слое - 150, Количество эпох - 30:\n",
      "\tMSE на трейне : 11.1030;\n",
      "\tMSE на валидационной выборке : 12.2322;\n",
      "\tR2 score на трейне :  0.8843;\n",
      "\tR2 score на валидационной выборке ; 0.8326\n",
      "**************************************************\n",
      "Количество нейронов в первом внутреннем слое - 150, Количество эпох - 50:\n",
      "\tMSE на трейне : 6.7934;\n",
      "\tMSE на валидационной выборке : 11.4242;\n",
      "\tR2 score на трейне :  0.9254;\n",
      "\tR2 score на валидационной выборке ; 0.8439\n",
      "**************************************************\n",
      "Количество нейронов в первом внутреннем слое - 150, Количество эпох - 100:\n",
      "\tMSE на трейне : 3.8833;\n",
      "\tMSE на валидационной выборке : 11.1768;\n",
      "\tR2 score на трейне :  0.9376;\n",
      "\tR2 score на валидационной выборке ; 0.8470\n",
      "**************************************************\n",
      "Количество нейронов в первом внутреннем слое - 200, Количество эпох - 30:\n",
      "\tMSE на трейне : 11.1383;\n",
      "\tMSE на валидационной выборке : 12.0014;\n",
      "\tR2 score на трейне :  0.8886;\n",
      "\tR2 score на валидационной выборке ; 0.8356\n",
      "**************************************************\n",
      "Количество нейронов в первом внутреннем слое - 200, Количество эпох - 50:\n",
      "\tMSE на трейне : 6.4141;\n",
      "\tMSE на валидационной выборке : 10.9945;\n",
      "\tR2 score на трейне :  0.9315;\n",
      "\tR2 score на валидационной выборке ; 0.8505\n",
      "**************************************************\n",
      "Количество нейронов в первом внутреннем слое - 200, Количество эпох - 100:\n",
      "\tMSE на трейне : 3.3594;\n",
      "\tMSE на валидационной выборке : 11.3113;\n",
      "\tR2 score на трейне :  0.9506;\n",
      "\tR2 score на валидационной выборке ; 0.8454\n",
      "**************************************************\n"
     ]
    }
   ],
   "source": [
    "neurons  = [60, 100, 150, 200]\n",
    "epochs = [30, 50, 100]\n",
    "\n",
    "\n",
    "number_of_model = 1\n",
    "\n",
    "for neuron in neurons:\n",
    "    for epoch in epochs:\n",
    "\n",
    "        model = Sequential([Dense(neuron, activation='relu', input_shape=(13,)),\n",
    "                            Dense(int(neuron/1.3), activation='linear'),\n",
    "                            Dense(int(neuron/1.5), activation='relu'),\n",
    "                            Dense(1, activation='relu')])\n",
    "\n",
    "        model.compile(optimizer = 'adam',\n",
    "                      loss = MeanSquaredError(),\n",
    "                      metrics =[tf.keras.losses.MeanSquaredError()])\n",
    "\n",
    "        print(f'Количество нейронов в первом внутреннем слое - {neuron}, '\n",
    "              f'Количество эпох - {epoch}:')\n",
    "\n",
    "        mse_tr, mse_val, r2_tr, r2_val = eval_model(X_tr, y_train, epoch)\n",
    "        print('*' * 50)\n",
    "\n",
    "        models_evaluation['model No'].append(f'model_{number_of_model}')\n",
    "        models_evaluation['neuron 1st hidden layer quantity'].append(neuron)\n",
    "        models_evaluation['number of epochs'].append(epoch)\n",
    "        models_evaluation['optimizer'].append('Adam')\n",
    "        models_evaluation['train r2 score'].append(r2_tr)\n",
    "        models_evaluation['val r2 score'].append(r2_val)\n",
    "        models_evaluation['mse'].append(f'{mse_tr:.4f}')\n",
    "        models_evaluation['val mse'].append(f'{mse_val:.4f}')\n",
    "\n",
    "\n",
    "        number_of_model+=1"
   ]
  },
  {
   "cell_type": "code",
   "execution_count": 574,
   "metadata": {
    "id": "VR3IL6BI9MWD"
   },
   "outputs": [],
   "source": [
    "best_ind = np.argmax(models_evaluation['val r2 score'])"
   ]
  },
  {
   "cell_type": "code",
   "execution_count": 575,
   "metadata": {
    "colab": {
     "base_uri": "https://localhost:8080/"
    },
    "id": "YjSIkjeS9bgD",
    "outputId": "959c3bd6-65ce-40a2-e3e5-627a4426cbbd"
   },
   "outputs": [
    {
     "name": "stdout",
     "output_type": "stream",
     "text": [
      "Лучшее количество нейронов: 60\n",
      "Лучшее количество эпох: 100\n",
      "Лучшее значение r2 на тестовых данных: 0.8536\n",
      "Значение r2 на тренировочных данных: 0.9276\n"
     ]
    }
   ],
   "source": [
    "print(f\"Лучшее количество нейронов: {models_evaluation['neuron 1st hidden layer quantity'][best_ind]}\\n\"\n",
    "      f\"Лучшее количество эпох: {models_evaluation['number of epochs'][best_ind]}\\n\"\n",
    "      f\"Лучшее значение r2 на тестовых данных: {models_evaluation['val r2 score'][best_ind]:.4f}\\n\"\n",
    "      f\"Значение r2 на тренировочных данных: {models_evaluation['train r2 score'][best_ind]:.4f}\")"
   ]
  },
  {
   "cell_type": "markdown",
   "metadata": {
    "id": "L84t4zAoLpK1"
   },
   "source": [
    "Хоть метрика и высокая, хотя есть и переобучение. Посмотрим все результаты"
   ]
  },
  {
   "cell_type": "code",
   "execution_count": 576,
   "metadata": {
    "colab": {
     "base_uri": "https://localhost:8080/",
     "height": 421
    },
    "id": "GNta2Wk6H8ES",
    "outputId": "96bc9f70-dc23-4180-fa15-854309715c79"
   },
   "outputs": [
    {
     "data": {
      "text/html": [
       "\n",
       "  <div id=\"df-674a01ef-f17c-440e-bfbb-da776b2a6d8f\">\n",
       "    <div class=\"colab-df-container\">\n",
       "      <div>\n",
       "<style scoped>\n",
       "    .dataframe tbody tr th:only-of-type {\n",
       "        vertical-align: middle;\n",
       "    }\n",
       "\n",
       "    .dataframe tbody tr th {\n",
       "        vertical-align: top;\n",
       "    }\n",
       "\n",
       "    .dataframe thead th {\n",
       "        text-align: right;\n",
       "    }\n",
       "</style>\n",
       "<table border=\"1\" class=\"dataframe\">\n",
       "  <thead>\n",
       "    <tr style=\"text-align: right;\">\n",
       "      <th></th>\n",
       "      <th>model No</th>\n",
       "      <th>neuron 1st hidden layer quantity</th>\n",
       "      <th>number of epochs</th>\n",
       "      <th>optimizer</th>\n",
       "      <th>train r2 score</th>\n",
       "      <th>val r2 score</th>\n",
       "      <th>mse</th>\n",
       "      <th>val mse</th>\n",
       "    </tr>\n",
       "  </thead>\n",
       "  <tbody>\n",
       "    <tr>\n",
       "      <th>0</th>\n",
       "      <td>model_1</td>\n",
       "      <td>60</td>\n",
       "      <td>30</td>\n",
       "      <td>Adam</td>\n",
       "      <td>0.858671</td>\n",
       "      <td>0.806050</td>\n",
       "      <td>12.6151</td>\n",
       "      <td>14.2160</td>\n",
       "    </tr>\n",
       "    <tr>\n",
       "      <th>1</th>\n",
       "      <td>model_2</td>\n",
       "      <td>60</td>\n",
       "      <td>50</td>\n",
       "      <td>Adam</td>\n",
       "      <td>0.888027</td>\n",
       "      <td>0.830244</td>\n",
       "      <td>9.4852</td>\n",
       "      <td>12.3959</td>\n",
       "    </tr>\n",
       "    <tr>\n",
       "      <th>2</th>\n",
       "      <td>model_3</td>\n",
       "      <td>60</td>\n",
       "      <td>100</td>\n",
       "      <td>Adam</td>\n",
       "      <td>0.927589</td>\n",
       "      <td>0.853647</td>\n",
       "      <td>6.5416</td>\n",
       "      <td>10.7068</td>\n",
       "    </tr>\n",
       "    <tr>\n",
       "      <th>3</th>\n",
       "      <td>model_4</td>\n",
       "      <td>100</td>\n",
       "      <td>30</td>\n",
       "      <td>Adam</td>\n",
       "      <td>0.858164</td>\n",
       "      <td>0.797544</td>\n",
       "      <td>12.8730</td>\n",
       "      <td>14.9631</td>\n",
       "    </tr>\n",
       "    <tr>\n",
       "      <th>4</th>\n",
       "      <td>model_5</td>\n",
       "      <td>100</td>\n",
       "      <td>50</td>\n",
       "      <td>Adam</td>\n",
       "      <td>0.887421</td>\n",
       "      <td>0.817172</td>\n",
       "      <td>9.5842</td>\n",
       "      <td>13.3308</td>\n",
       "    </tr>\n",
       "    <tr>\n",
       "      <th>5</th>\n",
       "      <td>model_6</td>\n",
       "      <td>100</td>\n",
       "      <td>100</td>\n",
       "      <td>Adam</td>\n",
       "      <td>0.920204</td>\n",
       "      <td>0.836541</td>\n",
       "      <td>6.6778</td>\n",
       "      <td>11.9051</td>\n",
       "    </tr>\n",
       "    <tr>\n",
       "      <th>6</th>\n",
       "      <td>model_7</td>\n",
       "      <td>150</td>\n",
       "      <td>30</td>\n",
       "      <td>Adam</td>\n",
       "      <td>0.884305</td>\n",
       "      <td>0.832585</td>\n",
       "      <td>11.1030</td>\n",
       "      <td>12.2322</td>\n",
       "    </tr>\n",
       "    <tr>\n",
       "      <th>7</th>\n",
       "      <td>model_8</td>\n",
       "      <td>150</td>\n",
       "      <td>50</td>\n",
       "      <td>Adam</td>\n",
       "      <td>0.925395</td>\n",
       "      <td>0.843858</td>\n",
       "      <td>6.7934</td>\n",
       "      <td>11.4242</td>\n",
       "    </tr>\n",
       "    <tr>\n",
       "      <th>8</th>\n",
       "      <td>model_9</td>\n",
       "      <td>150</td>\n",
       "      <td>100</td>\n",
       "      <td>Adam</td>\n",
       "      <td>0.937570</td>\n",
       "      <td>0.847025</td>\n",
       "      <td>3.8833</td>\n",
       "      <td>11.1768</td>\n",
       "    </tr>\n",
       "    <tr>\n",
       "      <th>9</th>\n",
       "      <td>model_10</td>\n",
       "      <td>200</td>\n",
       "      <td>30</td>\n",
       "      <td>Adam</td>\n",
       "      <td>0.888633</td>\n",
       "      <td>0.835583</td>\n",
       "      <td>11.1383</td>\n",
       "      <td>12.0014</td>\n",
       "    </tr>\n",
       "    <tr>\n",
       "      <th>10</th>\n",
       "      <td>model_11</td>\n",
       "      <td>200</td>\n",
       "      <td>50</td>\n",
       "      <td>Adam</td>\n",
       "      <td>0.931541</td>\n",
       "      <td>0.850464</td>\n",
       "      <td>6.4141</td>\n",
       "      <td>10.9945</td>\n",
       "    </tr>\n",
       "    <tr>\n",
       "      <th>11</th>\n",
       "      <td>model_12</td>\n",
       "      <td>200</td>\n",
       "      <td>100</td>\n",
       "      <td>Adam</td>\n",
       "      <td>0.950635</td>\n",
       "      <td>0.845437</td>\n",
       "      <td>3.3594</td>\n",
       "      <td>11.3113</td>\n",
       "    </tr>\n",
       "  </tbody>\n",
       "</table>\n",
       "</div>\n",
       "      <button class=\"colab-df-convert\" onclick=\"convertToInteractive('df-674a01ef-f17c-440e-bfbb-da776b2a6d8f')\"\n",
       "              title=\"Convert this dataframe to an interactive table.\"\n",
       "              style=\"display:none;\">\n",
       "        \n",
       "  <svg xmlns=\"http://www.w3.org/2000/svg\" height=\"24px\"viewBox=\"0 0 24 24\"\n",
       "       width=\"24px\">\n",
       "    <path d=\"M0 0h24v24H0V0z\" fill=\"none\"/>\n",
       "    <path d=\"M18.56 5.44l.94 2.06.94-2.06 2.06-.94-2.06-.94-.94-2.06-.94 2.06-2.06.94zm-11 1L8.5 8.5l.94-2.06 2.06-.94-2.06-.94L8.5 2.5l-.94 2.06-2.06.94zm10 10l.94 2.06.94-2.06 2.06-.94-2.06-.94-.94-2.06-.94 2.06-2.06.94z\"/><path d=\"M17.41 7.96l-1.37-1.37c-.4-.4-.92-.59-1.43-.59-.52 0-1.04.2-1.43.59L10.3 9.45l-7.72 7.72c-.78.78-.78 2.05 0 2.83L4 21.41c.39.39.9.59 1.41.59.51 0 1.02-.2 1.41-.59l7.78-7.78 2.81-2.81c.8-.78.8-2.07 0-2.86zM5.41 20L4 18.59l7.72-7.72 1.47 1.35L5.41 20z\"/>\n",
       "  </svg>\n",
       "      </button>\n",
       "      \n",
       "  <style>\n",
       "    .colab-df-container {\n",
       "      display:flex;\n",
       "      flex-wrap:wrap;\n",
       "      gap: 12px;\n",
       "    }\n",
       "\n",
       "    .colab-df-convert {\n",
       "      background-color: #E8F0FE;\n",
       "      border: none;\n",
       "      border-radius: 50%;\n",
       "      cursor: pointer;\n",
       "      display: none;\n",
       "      fill: #1967D2;\n",
       "      height: 32px;\n",
       "      padding: 0 0 0 0;\n",
       "      width: 32px;\n",
       "    }\n",
       "\n",
       "    .colab-df-convert:hover {\n",
       "      background-color: #E2EBFA;\n",
       "      box-shadow: 0px 1px 2px rgba(60, 64, 67, 0.3), 0px 1px 3px 1px rgba(60, 64, 67, 0.15);\n",
       "      fill: #174EA6;\n",
       "    }\n",
       "\n",
       "    [theme=dark] .colab-df-convert {\n",
       "      background-color: #3B4455;\n",
       "      fill: #D2E3FC;\n",
       "    }\n",
       "\n",
       "    [theme=dark] .colab-df-convert:hover {\n",
       "      background-color: #434B5C;\n",
       "      box-shadow: 0px 1px 3px 1px rgba(0, 0, 0, 0.15);\n",
       "      filter: drop-shadow(0px 1px 2px rgba(0, 0, 0, 0.3));\n",
       "      fill: #FFFFFF;\n",
       "    }\n",
       "  </style>\n",
       "\n",
       "      <script>\n",
       "        const buttonEl =\n",
       "          document.querySelector('#df-674a01ef-f17c-440e-bfbb-da776b2a6d8f button.colab-df-convert');\n",
       "        buttonEl.style.display =\n",
       "          google.colab.kernel.accessAllowed ? 'block' : 'none';\n",
       "\n",
       "        async function convertToInteractive(key) {\n",
       "          const element = document.querySelector('#df-674a01ef-f17c-440e-bfbb-da776b2a6d8f');\n",
       "          const dataTable =\n",
       "            await google.colab.kernel.invokeFunction('convertToInteractive',\n",
       "                                                     [key], {});\n",
       "          if (!dataTable) return;\n",
       "\n",
       "          const docLinkHtml = 'Like what you see? Visit the ' +\n",
       "            '<a target=\"_blank\" href=https://colab.research.google.com/notebooks/data_table.ipynb>data table notebook</a>'\n",
       "            + ' to learn more about interactive tables.';\n",
       "          element.innerHTML = '';\n",
       "          dataTable['output_type'] = 'display_data';\n",
       "          await google.colab.output.renderOutput(dataTable, element);\n",
       "          const docLink = document.createElement('div');\n",
       "          docLink.innerHTML = docLinkHtml;\n",
       "          element.appendChild(docLink);\n",
       "        }\n",
       "      </script>\n",
       "    </div>\n",
       "  </div>\n",
       "  "
      ],
      "text/plain": [
       "    model No  neuron 1st hidden layer quantity  ...      mse  val mse\n",
       "0    model_1                                60  ...  12.6151  14.2160\n",
       "1    model_2                                60  ...   9.4852  12.3959\n",
       "2    model_3                                60  ...   6.5416  10.7068\n",
       "3    model_4                               100  ...  12.8730  14.9631\n",
       "4    model_5                               100  ...   9.5842  13.3308\n",
       "5    model_6                               100  ...   6.6778  11.9051\n",
       "6    model_7                               150  ...  11.1030  12.2322\n",
       "7    model_8                               150  ...   6.7934  11.4242\n",
       "8    model_9                               150  ...   3.8833  11.1768\n",
       "9   model_10                               200  ...  11.1383  12.0014\n",
       "10  model_11                               200  ...   6.4141  10.9945\n",
       "11  model_12                               200  ...   3.3594  11.3113\n",
       "\n",
       "[12 rows x 8 columns]"
      ]
     },
     "execution_count": 576,
     "metadata": {},
     "output_type": "execute_result"
    }
   ],
   "source": [
    "pd.DataFrame(models_evaluation, \n",
    "             columns = models_evaluation.keys())"
   ]
  },
  {
   "cell_type": "markdown",
   "metadata": {
    "id": "s2voY19WMCPh"
   },
   "source": [
    "Итаr, наилучший результат дает модель 3, будем использовать ее параметры\n",
    "\n",
    "\n",
    "   \n",
    "     \n",
    "       \n",
    "Теперь изучим влияние на результат разных оптимизаторов."
   ]
  },
  {
   "cell_type": "code",
   "execution_count": 596,
   "metadata": {
    "colab": {
     "base_uri": "https://localhost:8080/"
    },
    "id": "t2EXl8QA8SZq",
    "outputId": "b4fe2358-d938-4330-de9d-3ffe18c687dc"
   },
   "outputs": [
    {
     "name": "stdout",
     "output_type": "stream",
     "text": [
      "Оптимайзер SGD:\n",
      "\tMSE на трейне : 5.0214;\n",
      "\tMSE на валидационной выборке : 10.7185;\n",
      "\tR2 score на трейне :  0.9393;\n",
      "\tR2 score на валидационной выборке ; 0.8530\n",
      "**************************************************\n",
      "Оптимайзер RMSprop:\n",
      "\tMSE на трейне : 5.5664;\n",
      "\tMSE на валидационной выборке : 12.2455;\n",
      "\tR2 score на трейне :  0.9236;\n",
      "\tR2 score на валидационной выборке ; 0.8318\n",
      "**************************************************\n",
      "Оптимайзер Adam:\n",
      "\tMSE на трейне : 6.9373;\n",
      "\tMSE на валидационной выборке : 12.3611;\n",
      "\tR2 score на трейне :  0.9211;\n",
      "\tR2 score на валидационной выборке ; 0.8318\n",
      "**************************************************\n",
      "Оптимайзер Nadam:\n",
      "\tMSE на трейне : 6.4034;\n",
      "\tMSE на валидационной выборке : 10.8322;\n",
      "\tR2 score на трейне :  0.9223;\n",
      "\tR2 score на валидационной выборке ; 0.8524\n",
      "**************************************************\n"
     ]
    }
   ],
   "source": [
    "tf.random.set_seed(42)\n",
    "\n",
    "lr = 1e-3\n",
    "\n",
    "for optim in [tf.keras.optimizers.SGD(learning_rate=lr),\n",
    "              tf.keras.optimizers.RMSprop(learning_rate=lr),\n",
    "              tf.keras.optimizers.Adam(learning_rate=lr),\n",
    "              tf.keras.optimizers.Nadam(learning_rate=lr)]:\n",
    "              \n",
    "              \n",
    "    model = Sequential([Dense(60, activation='relu', input_shape=(13,)),\n",
    "                      Dense(50, activation='linear'),\n",
    "                      Dense(40, activation='relu'),\n",
    "                      Dense(1, activation='relu')])\n",
    "    \n",
    "    model.compile(optimizer=optim,\n",
    "                  loss= MeanSquaredError(),\n",
    "                  metrics=[tf.keras.losses.MeanSquaredError()])\n",
    "\n",
    "    print(f'Оптимайзер {type(optim).__name__}:')\n",
    "\n",
    "    mse_tr, mse_val, r2_tr, r2_val = eval_model(X_tr, y_train, epoch = 100)\n",
    "    print('*' * 50)\n",
    "\n",
    "    models_evaluation['model No'].append(f'model_{number_of_model}')\n",
    "    models_evaluation['neuron 1st hidden layer quantity'].append(neuron)\n",
    "    models_evaluation['number of epochs'].append(epoch)\n",
    "    models_evaluation['optimizer'].append(f\"{type(optim).__name__}\")\n",
    "    models_evaluation['train r2 score'].append(r2_tr)\n",
    "    models_evaluation['val r2 score'].append(r2_val)\n",
    "    models_evaluation['mse'].append(f'{mse_tr:.4f}')\n",
    "    models_evaluation['val mse'].append(f'{mse_val:.4f}')\n",
    "\n",
    "\n",
    "    number_of_model+=1"
   ]
  },
  {
   "cell_type": "code",
   "execution_count": 597,
   "metadata": {
    "colab": {
     "base_uri": "https://localhost:8080/"
    },
    "id": "qeNLX8YVA97i",
    "outputId": "9259f624-5f2a-4241-bb1e-969355c81dc0"
   },
   "outputs": [
    {
     "name": "stdout",
     "output_type": "stream",
     "text": [
      "Лучшее количество нейронов: 60\n",
      "Лучшее количество эпох: 100\n",
      "Лучший оптимизатор: Adam\n",
      "Лучшее значение r2 на тестовых данных: 0.8536\n",
      "\n"
     ]
    }
   ],
   "source": [
    "best_ind = np.argmax(models_evaluation['val r2 score'])\n",
    "print(f\"Лучшее количество нейронов: {models_evaluation['neuron 1st hidden layer quantity'][best_ind]}\\n\"\n",
    "      f\"Лучшее количество эпох: {models_evaluation['number of epochs'][best_ind]}\\n\"\n",
    "      f\"Лучший оптимизатор: {models_evaluation['optimizer'][best_ind]}\\n\"\n",
    "      f\"Лучшее значение r2 на тестовых данных: {models_evaluation['val r2 score'][best_ind]:.4f}\\n\")"
   ]
  },
  {
   "cell_type": "code",
   "execution_count": 598,
   "metadata": {
    "colab": {
     "base_uri": "https://localhost:8080/",
     "height": 545
    },
    "id": "t3fKAwU8IcI0",
    "outputId": "44c4abb5-c1dd-4840-f3d8-a07978bcc56a"
   },
   "outputs": [
    {
     "data": {
      "text/html": [
       "\n",
       "  <div id=\"df-0634a47d-31d9-4488-850c-1fcba3c7dfbb\">\n",
       "    <div class=\"colab-df-container\">\n",
       "      <div>\n",
       "<style scoped>\n",
       "    .dataframe tbody tr th:only-of-type {\n",
       "        vertical-align: middle;\n",
       "    }\n",
       "\n",
       "    .dataframe tbody tr th {\n",
       "        vertical-align: top;\n",
       "    }\n",
       "\n",
       "    .dataframe thead th {\n",
       "        text-align: right;\n",
       "    }\n",
       "</style>\n",
       "<table border=\"1\" class=\"dataframe\">\n",
       "  <thead>\n",
       "    <tr style=\"text-align: right;\">\n",
       "      <th></th>\n",
       "      <th>model No</th>\n",
       "      <th>neuron 1st hidden layer quantity</th>\n",
       "      <th>number of epochs</th>\n",
       "      <th>optimizer</th>\n",
       "      <th>train r2 score</th>\n",
       "      <th>val r2 score</th>\n",
       "      <th>mse</th>\n",
       "      <th>val mse</th>\n",
       "    </tr>\n",
       "  </thead>\n",
       "  <tbody>\n",
       "    <tr>\n",
       "      <th>0</th>\n",
       "      <td>model_1</td>\n",
       "      <td>60</td>\n",
       "      <td>30</td>\n",
       "      <td>Adam</td>\n",
       "      <td>0.858671</td>\n",
       "      <td>0.806050</td>\n",
       "      <td>12.6151</td>\n",
       "      <td>14.2160</td>\n",
       "    </tr>\n",
       "    <tr>\n",
       "      <th>1</th>\n",
       "      <td>model_2</td>\n",
       "      <td>60</td>\n",
       "      <td>50</td>\n",
       "      <td>Adam</td>\n",
       "      <td>0.888027</td>\n",
       "      <td>0.830244</td>\n",
       "      <td>9.4852</td>\n",
       "      <td>12.3959</td>\n",
       "    </tr>\n",
       "    <tr>\n",
       "      <th>2</th>\n",
       "      <td>model_3</td>\n",
       "      <td>60</td>\n",
       "      <td>100</td>\n",
       "      <td>Adam</td>\n",
       "      <td>0.927589</td>\n",
       "      <td>0.853647</td>\n",
       "      <td>6.5416</td>\n",
       "      <td>10.7068</td>\n",
       "    </tr>\n",
       "    <tr>\n",
       "      <th>3</th>\n",
       "      <td>model_4</td>\n",
       "      <td>100</td>\n",
       "      <td>30</td>\n",
       "      <td>Adam</td>\n",
       "      <td>0.858164</td>\n",
       "      <td>0.797544</td>\n",
       "      <td>12.8730</td>\n",
       "      <td>14.9631</td>\n",
       "    </tr>\n",
       "    <tr>\n",
       "      <th>4</th>\n",
       "      <td>model_5</td>\n",
       "      <td>100</td>\n",
       "      <td>50</td>\n",
       "      <td>Adam</td>\n",
       "      <td>0.887421</td>\n",
       "      <td>0.817172</td>\n",
       "      <td>9.5842</td>\n",
       "      <td>13.3308</td>\n",
       "    </tr>\n",
       "    <tr>\n",
       "      <th>5</th>\n",
       "      <td>model_6</td>\n",
       "      <td>100</td>\n",
       "      <td>100</td>\n",
       "      <td>Adam</td>\n",
       "      <td>0.920204</td>\n",
       "      <td>0.836541</td>\n",
       "      <td>6.6778</td>\n",
       "      <td>11.9051</td>\n",
       "    </tr>\n",
       "    <tr>\n",
       "      <th>6</th>\n",
       "      <td>model_7</td>\n",
       "      <td>150</td>\n",
       "      <td>30</td>\n",
       "      <td>Adam</td>\n",
       "      <td>0.884305</td>\n",
       "      <td>0.832585</td>\n",
       "      <td>11.1030</td>\n",
       "      <td>12.2322</td>\n",
       "    </tr>\n",
       "    <tr>\n",
       "      <th>7</th>\n",
       "      <td>model_8</td>\n",
       "      <td>150</td>\n",
       "      <td>50</td>\n",
       "      <td>Adam</td>\n",
       "      <td>0.925395</td>\n",
       "      <td>0.843858</td>\n",
       "      <td>6.7934</td>\n",
       "      <td>11.4242</td>\n",
       "    </tr>\n",
       "    <tr>\n",
       "      <th>8</th>\n",
       "      <td>model_9</td>\n",
       "      <td>150</td>\n",
       "      <td>100</td>\n",
       "      <td>Adam</td>\n",
       "      <td>0.937570</td>\n",
       "      <td>0.847025</td>\n",
       "      <td>3.8833</td>\n",
       "      <td>11.1768</td>\n",
       "    </tr>\n",
       "    <tr>\n",
       "      <th>9</th>\n",
       "      <td>model_10</td>\n",
       "      <td>200</td>\n",
       "      <td>30</td>\n",
       "      <td>Adam</td>\n",
       "      <td>0.888633</td>\n",
       "      <td>0.835583</td>\n",
       "      <td>11.1383</td>\n",
       "      <td>12.0014</td>\n",
       "    </tr>\n",
       "    <tr>\n",
       "      <th>10</th>\n",
       "      <td>model_11</td>\n",
       "      <td>200</td>\n",
       "      <td>50</td>\n",
       "      <td>Adam</td>\n",
       "      <td>0.931541</td>\n",
       "      <td>0.850464</td>\n",
       "      <td>6.4141</td>\n",
       "      <td>10.9945</td>\n",
       "    </tr>\n",
       "    <tr>\n",
       "      <th>11</th>\n",
       "      <td>model_12</td>\n",
       "      <td>200</td>\n",
       "      <td>100</td>\n",
       "      <td>Adam</td>\n",
       "      <td>0.950635</td>\n",
       "      <td>0.845437</td>\n",
       "      <td>3.3594</td>\n",
       "      <td>11.3113</td>\n",
       "    </tr>\n",
       "    <tr>\n",
       "      <th>12</th>\n",
       "      <td>model_13</td>\n",
       "      <td>200</td>\n",
       "      <td>100</td>\n",
       "      <td>SGD</td>\n",
       "      <td>0.939285</td>\n",
       "      <td>0.853015</td>\n",
       "      <td>5.0214</td>\n",
       "      <td>10.7185</td>\n",
       "    </tr>\n",
       "    <tr>\n",
       "      <th>13</th>\n",
       "      <td>model_14</td>\n",
       "      <td>200</td>\n",
       "      <td>100</td>\n",
       "      <td>RMSprop</td>\n",
       "      <td>0.923625</td>\n",
       "      <td>0.831821</td>\n",
       "      <td>5.5664</td>\n",
       "      <td>12.2455</td>\n",
       "    </tr>\n",
       "    <tr>\n",
       "      <th>14</th>\n",
       "      <td>model_15</td>\n",
       "      <td>200</td>\n",
       "      <td>100</td>\n",
       "      <td>Adam</td>\n",
       "      <td>0.921118</td>\n",
       "      <td>0.831800</td>\n",
       "      <td>6.9373</td>\n",
       "      <td>12.3611</td>\n",
       "    </tr>\n",
       "    <tr>\n",
       "      <th>15</th>\n",
       "      <td>model_16</td>\n",
       "      <td>200</td>\n",
       "      <td>100</td>\n",
       "      <td>Nadam</td>\n",
       "      <td>0.922266</td>\n",
       "      <td>0.852363</td>\n",
       "      <td>6.4034</td>\n",
       "      <td>10.8322</td>\n",
       "    </tr>\n",
       "  </tbody>\n",
       "</table>\n",
       "</div>\n",
       "      <button class=\"colab-df-convert\" onclick=\"convertToInteractive('df-0634a47d-31d9-4488-850c-1fcba3c7dfbb')\"\n",
       "              title=\"Convert this dataframe to an interactive table.\"\n",
       "              style=\"display:none;\">\n",
       "        \n",
       "  <svg xmlns=\"http://www.w3.org/2000/svg\" height=\"24px\"viewBox=\"0 0 24 24\"\n",
       "       width=\"24px\">\n",
       "    <path d=\"M0 0h24v24H0V0z\" fill=\"none\"/>\n",
       "    <path d=\"M18.56 5.44l.94 2.06.94-2.06 2.06-.94-2.06-.94-.94-2.06-.94 2.06-2.06.94zm-11 1L8.5 8.5l.94-2.06 2.06-.94-2.06-.94L8.5 2.5l-.94 2.06-2.06.94zm10 10l.94 2.06.94-2.06 2.06-.94-2.06-.94-.94-2.06-.94 2.06-2.06.94z\"/><path d=\"M17.41 7.96l-1.37-1.37c-.4-.4-.92-.59-1.43-.59-.52 0-1.04.2-1.43.59L10.3 9.45l-7.72 7.72c-.78.78-.78 2.05 0 2.83L4 21.41c.39.39.9.59 1.41.59.51 0 1.02-.2 1.41-.59l7.78-7.78 2.81-2.81c.8-.78.8-2.07 0-2.86zM5.41 20L4 18.59l7.72-7.72 1.47 1.35L5.41 20z\"/>\n",
       "  </svg>\n",
       "      </button>\n",
       "      \n",
       "  <style>\n",
       "    .colab-df-container {\n",
       "      display:flex;\n",
       "      flex-wrap:wrap;\n",
       "      gap: 12px;\n",
       "    }\n",
       "\n",
       "    .colab-df-convert {\n",
       "      background-color: #E8F0FE;\n",
       "      border: none;\n",
       "      border-radius: 50%;\n",
       "      cursor: pointer;\n",
       "      display: none;\n",
       "      fill: #1967D2;\n",
       "      height: 32px;\n",
       "      padding: 0 0 0 0;\n",
       "      width: 32px;\n",
       "    }\n",
       "\n",
       "    .colab-df-convert:hover {\n",
       "      background-color: #E2EBFA;\n",
       "      box-shadow: 0px 1px 2px rgba(60, 64, 67, 0.3), 0px 1px 3px 1px rgba(60, 64, 67, 0.15);\n",
       "      fill: #174EA6;\n",
       "    }\n",
       "\n",
       "    [theme=dark] .colab-df-convert {\n",
       "      background-color: #3B4455;\n",
       "      fill: #D2E3FC;\n",
       "    }\n",
       "\n",
       "    [theme=dark] .colab-df-convert:hover {\n",
       "      background-color: #434B5C;\n",
       "      box-shadow: 0px 1px 3px 1px rgba(0, 0, 0, 0.15);\n",
       "      filter: drop-shadow(0px 1px 2px rgba(0, 0, 0, 0.3));\n",
       "      fill: #FFFFFF;\n",
       "    }\n",
       "  </style>\n",
       "\n",
       "      <script>\n",
       "        const buttonEl =\n",
       "          document.querySelector('#df-0634a47d-31d9-4488-850c-1fcba3c7dfbb button.colab-df-convert');\n",
       "        buttonEl.style.display =\n",
       "          google.colab.kernel.accessAllowed ? 'block' : 'none';\n",
       "\n",
       "        async function convertToInteractive(key) {\n",
       "          const element = document.querySelector('#df-0634a47d-31d9-4488-850c-1fcba3c7dfbb');\n",
       "          const dataTable =\n",
       "            await google.colab.kernel.invokeFunction('convertToInteractive',\n",
       "                                                     [key], {});\n",
       "          if (!dataTable) return;\n",
       "\n",
       "          const docLinkHtml = 'Like what you see? Visit the ' +\n",
       "            '<a target=\"_blank\" href=https://colab.research.google.com/notebooks/data_table.ipynb>data table notebook</a>'\n",
       "            + ' to learn more about interactive tables.';\n",
       "          element.innerHTML = '';\n",
       "          dataTable['output_type'] = 'display_data';\n",
       "          await google.colab.output.renderOutput(dataTable, element);\n",
       "          const docLink = document.createElement('div');\n",
       "          docLink.innerHTML = docLinkHtml;\n",
       "          element.appendChild(docLink);\n",
       "        }\n",
       "      </script>\n",
       "    </div>\n",
       "  </div>\n",
       "  "
      ],
      "text/plain": [
       "    model No  neuron 1st hidden layer quantity  ...      mse  val mse\n",
       "0    model_1                                60  ...  12.6151  14.2160\n",
       "1    model_2                                60  ...   9.4852  12.3959\n",
       "2    model_3                                60  ...   6.5416  10.7068\n",
       "3    model_4                               100  ...  12.8730  14.9631\n",
       "4    model_5                               100  ...   9.5842  13.3308\n",
       "5    model_6                               100  ...   6.6778  11.9051\n",
       "6    model_7                               150  ...  11.1030  12.2322\n",
       "7    model_8                               150  ...   6.7934  11.4242\n",
       "8    model_9                               150  ...   3.8833  11.1768\n",
       "9   model_10                               200  ...  11.1383  12.0014\n",
       "10  model_11                               200  ...   6.4141  10.9945\n",
       "11  model_12                               200  ...   3.3594  11.3113\n",
       "12  model_13                               200  ...   5.0214  10.7185\n",
       "13  model_14                               200  ...   5.5664  12.2455\n",
       "14  model_15                               200  ...   6.9373  12.3611\n",
       "15  model_16                               200  ...   6.4034  10.8322\n",
       "\n",
       "[16 rows x 8 columns]"
      ]
     },
     "execution_count": 598,
     "metadata": {},
     "output_type": "execute_result"
    }
   ],
   "source": [
    "result = pd.DataFrame(models_evaluation,\n",
    "             columns = models_evaluation.keys())\n",
    "result"
   ]
  },
  {
   "cell_type": "markdown",
   "metadata": {
    "id": "BvtsDfPfGtE5"
   },
   "source": [
    "**ВЫВОДЫ**. \n",
    "  \n",
    "Наилучший оптимизатор однозначно  **Adam** и это было предсказуемо.   \n",
    "\n",
    "В задании 1 я подобрала **оптимальное количество слоев** (задача была не сильно усложнять нейронную сеть, в данном случае это и не потребовалось, дальнейшее увеличение слоев переобучало модель) и **комбинацию из функций активации**, чтобы метрика выросла настолько , насколько в данном случае возможно.\n",
    "\n",
    "\n",
    "Также, результат существенно улучшила предварительная **стандартизация** признаков. \n",
    "\n",
    "С остальными параметрами следует работать осторожно, важно найти оптимальное количество, после которого будет расти переобучение, что для нас крайне нежелательно.   \n",
    "\n",
    "Изучая разные значения **количества нейронов и эпох**, я пришла к выводу, что их **увеличение положительно влияет на метрику**, однако растет также и переобучение (метрика на трейне начинает расти гораздо быстрее, а на тесте меняется незначительно), поэтому однозначное увеличение по принципу \"чем выше, тем лучше\" здесь не подойдет. \n",
    "\n",
    "\n",
    "В итоге, мне удалось достичь оптимальных значения, и наилучшая модель - **model_3**. \n",
    "\n",
    "\n"
   ]
  },
  {
   "cell_type": "code",
   "execution_count": 662,
   "metadata": {
    "colab": {
     "base_uri": "https://localhost:8080/",
     "height": 458
    },
    "id": "faZ47ZbcSKBr",
    "outputId": "35777bac-91cb-46e3-eb08-9ce87041f6e1"
   },
   "outputs": [
    {
     "data": {
      "image/png": "[encoded data removed]",
      "text/plain": [
       "<Figure size 864x504 with 2 Axes>"
      ]
     },
     "metadata": {
      "needs_background": "light"
     },
     "output_type": "display_data"
    }
   ],
   "source": [
    "fig, ax = plt.subplots(1, 2, figsize=(12, 7))\n",
    "plt.subplots_adjust(wspace=0.2)\n",
    "\n",
    "# plt.figure(figsize = (40,5))\n",
    "ax[0].set_title('r2 score vs epochs')\n",
    "ax[0].set_xlabel('epochs')\n",
    "ax[0].set_ylabel('r2')\n",
    "ax[0].plot(result.groupby('number of epochs')['val r2 score'].max())\n",
    "ax[0].plot(result.groupby('number of epochs')['train r2 score'].max())\n",
    "\n",
    "ax[1].set_title('r2 score vs neuron numb')\n",
    "ax[1].set_xlabel('neurons')\n",
    "ax[1].set_ylabel('r2')\n",
    "ax[1].plot(result.groupby('neuron 1st hidden layer quantity')['val r2 score'].max())\n",
    "ax[1].plot(result.groupby('neuron 1st hidden layer quantity')['train r2 score'].max())\n",
    "plt.show()"
   ]
  }
 ],
 "metadata": {
  "accelerator": "GPU",
  "colab": {
   "name": "WEB3_HW.ipynb",
   "provenance": []
  },
  "kernelspec": {
   "display_name": "Python 3",
   "language": "python",
   "name": "python3"
  },
  "language_info": {
   "codemirror_mode": {
    "name": "ipython",
    "version": 3
   },
   "file_extension": ".py",
   "mimetype": "text/x-python",
   "name": "python",
   "nbconvert_exporter": "python",
   "pygments_lexer": "ipython3",
   "version": "3.9.2"
  }
 },
 "nbformat": 4,
 "nbformat_minor": 1
}
