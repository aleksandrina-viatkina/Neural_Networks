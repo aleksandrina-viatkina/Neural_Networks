{
 "cells": [
  {
   "cell_type": "markdown",
   "metadata": {
    "id": "5NqD7bjvBMh2"
   },
   "source": [
    "<h1>Домашнее задание к вебинару 4<h1>"
   ]
  },
  {
   "cell_type": "markdown",
   "metadata": {
    "id": "wou4B08xCMaK"
   },
   "source": [
    "##### **Задание 1**. Обучить рукописную сверточную нейронную сеть (с падением размера ядра свертки и последовательностью блоков свертка-пулинг (conv-pool)-(conv-pool)-...) на датасете cifar-10"
   ]
  },
  {
   "cell_type": "code",
   "execution_count": 1,
   "metadata": {
    "id": "h3UqohOqERa8"
   },
   "outputs": [],
   "source": [
    "import numpy as np\n",
    "import pandas as pd\n",
    "import matplotlib.pyplot as plt\n",
    "\n",
    "from tensorflow.keras.models import Sequential, Model\n",
    "from tensorflow.keras.layers import Conv2D, Dense, MaxPooling2D, BatchNormalization, Dropout, Flatten, Activation, Input\n",
    "from tensorflow.keras.preprocessing.image import ImageDataGenerator\n",
    "from tensorflow.keras.losses import CategoricalCrossentropy\n",
    "from tensorflow.keras.utils import to_categorical\n",
    "from tensorflow.keras.optimizers import Adam\n",
    "from tensorflow.keras.datasets import cifar10"
   ]
  },
  {
   "cell_type": "code",
   "execution_count": 2,
   "metadata": {
    "colab": {
     "base_uri": "https://localhost:8080/"
    },
    "id": "gMul-MZDAmNR",
    "outputId": "e8de63a1-951f-4060-d93f-e351b9add5bc"
   },
   "outputs": [
    {
     "name": "stdout",
     "output_type": "stream",
     "text": [
      "Downloading data from https://www.cs.toronto.edu/~kriz/cifar-10-python.tar.gz\n",
      "170500096/170498071 [==============================] - 3s 0us/step\n",
      "170508288/170498071 [==============================] - 3s 0us/step\n",
      "X_train shape: (50000, 32, 32, 3)\n",
      "50000 тренировочные данные\n",
      "10000 тестовые данные\n"
     ]
    }
   ],
   "source": [
    "#Загрузка данных cifar10 и подготовка данных\n",
    "# разделение тренировочной и тестовой выборки\n",
    "(X_train, y_train_labels), (X_test, y_test_labels) = cifar10.load_data()\n",
    "print('X_train shape:', X_train.shape)\n",
    "print(X_train.shape[0], 'тренировочные данные')\n",
    "print(X_test.shape[0], 'тестовые данные')\n"
   ]
  },
  {
   "cell_type": "code",
   "execution_count": 3,
   "metadata": {
    "id": "f4Xblz_DZ1M0"
   },
   "outputs": [],
   "source": [
    "classes=['самолет', 'автомобиль', 'птица', 'кот', 'олень', 'собака', 'лягушка', 'лошадь', 'корабль', 'грузовик']"
   ]
  },
  {
   "cell_type": "code",
   "execution_count": 4,
   "metadata": {
    "colab": {
     "base_uri": "https://localhost:8080/"
    },
    "id": "TZiizJ0nJXRI",
    "outputId": "1ad74f5a-de40-4cb2-a6d4-a04921a11f06"
   },
   "outputs": [
    {
     "data": {
      "text/plain": [
       "array([[6],\n",
       "       [9],\n",
       "       [9],\n",
       "       [4],\n",
       "       [1]], dtype=uint8)"
      ]
     },
     "execution_count": 4,
     "metadata": {},
     "output_type": "execute_result"
    }
   ],
   "source": [
    "y_train_labels[:5]"
   ]
  },
  {
   "cell_type": "code",
   "execution_count": 5,
   "metadata": {
    "id": "3E7anRm3Hpho"
   },
   "outputs": [],
   "source": [
    "#Преобразование данных\n",
    "# преобразование матрицы чисел 0-9 в бинарную матрицу чисел 0-1\n",
    "y_train = to_categorical(y_train_labels)\n",
    "y_test = to_categorical(y_test_labels)\n",
    "\n",
    "\n",
    "X_train = X_train / 255.0\n",
    "X_test = X_test / 255.0"
   ]
  },
  {
   "cell_type": "code",
   "execution_count": 6,
   "metadata": {
    "colab": {
     "base_uri": "https://localhost:8080/"
    },
    "id": "4929Nx-fJhBv",
    "outputId": "b8a7db4b-3ba5-4518-f0b2-e978091d30e1"
   },
   "outputs": [
    {
     "data": {
      "text/plain": [
       "array([[0., 0., 0., 0., 0., 0., 1., 0., 0., 0.],\n",
       "       [0., 0., 0., 0., 0., 0., 0., 0., 0., 1.],\n",
       "       [0., 0., 0., 0., 0., 0., 0., 0., 0., 1.],\n",
       "       [0., 0., 0., 0., 1., 0., 0., 0., 0., 0.],\n",
       "       [0., 1., 0., 0., 0., 0., 0., 0., 0., 0.]], dtype=float32)"
      ]
     },
     "execution_count": 6,
     "metadata": {},
     "output_type": "execute_result"
    }
   ],
   "source": [
    "y_train[:5]"
   ]
  },
  {
   "cell_type": "code",
   "execution_count": 7,
   "metadata": {
    "id": "ETZjCSAlRChr"
   },
   "outputs": [],
   "source": [
    "num_classes = len(y_train[1])"
   ]
  },
  {
   "cell_type": "code",
   "execution_count": 8,
   "metadata": {
    "colab": {
     "base_uri": "https://localhost:8080/",
     "height": 281
    },
    "id": "LubiYdjwL-1m",
    "outputId": "436c7e93-1021-40de-d651-2f6c1c367d57"
   },
   "outputs": [
    {
     "data": {
      "image/png": "[encoded data removed]",
      "text/plain": [
       "<Figure size 432x288 with 1 Axes>"
      ]
     },
     "metadata": {
      "needs_background": "light"
     },
     "output_type": "display_data"
    }
   ],
   "source": [
    "# Визуализируем картинку из тестового набора данных\n",
    "N = 140\n",
    "\n",
    "plt.title(f'Это {classes[np.argmax(y_test[N,:])]}')\n",
    "plt.imshow(X_test[N][:,:,:])\n",
    "plt.show()"
   ]
  },
  {
   "cell_type": "code",
   "execution_count": 9,
   "metadata": {
    "id": "wslHWfqMrvWr"
   },
   "outputs": [],
   "source": [
    "batch_size = 200\n",
    "epochs=20\n",
    "\n",
    "results = {'model': [],\n",
    "           'conv layers': [],\n",
    "           'max filters': [],\n",
    "           'train acc': [],\n",
    "           'test acc': []}"
   ]
  },
  {
   "cell_type": "code",
   "execution_count": 10,
   "metadata": {
    "id": "ZybWmQiyYKzA"
   },
   "outputs": [],
   "source": [
    "# конфигурирование слоев нейросети\n",
    "model = Sequential()\n",
    "\n",
    "# слои нейросети отвественные за свертку и max-pooling\n",
    "#слой 1\n",
    "model.add(Conv2D(8, (3, 3), padding='same',\n",
    "                 input_shape=X_train.shape[1:]))\n",
    "model.add(Activation('relu'))\n",
    "model.add(Dropout(0.25))\n",
    "\n",
    "#слой 2\n",
    "model.add(Conv2D(16, (3, 3)))\n",
    "model.add(Activation('relu'))\n",
    "model.add(MaxPooling2D(pool_size=(2, 2)))\n",
    "model.add(Dropout(0.25))\n",
    "\n",
    "\n",
    "# полносвязные слои нейронной сети\n",
    "model.add(Flatten())\n",
    "model.add(Dense(100))\n",
    "model.add(Activation('relu'))\n",
    "model.add(Dropout(0.5))\n",
    "\n",
    "model.add(Dense(70))\n",
    "model.add(Activation('relu'))\n",
    "model.add(Dropout(0.5))\n",
    "model.add(Dense(num_classes))\n",
    "model.add(Activation('softmax'))\n",
    "\n",
    "\n",
    "model.compile(optimizer = Adam(),\n",
    "              loss = CategoricalCrossentropy(),\n",
    "              metrics = ['accuracy']\n",
    "              )\n",
    "\n",
    "history = model.fit(X_train, y_train,\n",
    "                    epochs=epochs,\n",
    "                    batch_size=batch_size,\n",
    "                    validation_data=(X_test, y_test),\n",
    "                    verbose = 0)\n",
    "\n"
   ]
  },
  {
   "cell_type": "code",
   "execution_count": 11,
   "metadata": {
    "colab": {
     "base_uri": "https://localhost:8080/"
    },
    "id": "19UJqgMswDrF",
    "outputId": "b97f1adc-d2c7-486f-bf90-eb75c09c88ed"
   },
   "outputs": [
    {
     "name": "stdout",
     "output_type": "stream",
     "text": [
      "Model: \"sequential\"\n",
      "_________________________________________________________________\n",
      " Layer (type)                Output Shape              Param #   \n",
      "=================================================================\n",
      " conv2d (Conv2D)             (None, 32, 32, 8)         224       \n",
      "                                                                 \n",
      " activation (Activation)     (None, 32, 32, 8)         0         \n",
      "                                                                 \n",
      " dropout (Dropout)           (None, 32, 32, 8)         0         \n",
      "                                                                 \n",
      " conv2d_1 (Conv2D)           (None, 30, 30, 16)        1168      \n",
      "                                                                 \n",
      " activation_1 (Activation)   (None, 30, 30, 16)        0         \n",
      "                                                                 \n",
      " max_pooling2d (MaxPooling2D  (None, 15, 15, 16)       0         \n",
      " )                                                               \n",
      "                                                                 \n",
      " dropout_1 (Dropout)         (None, 15, 15, 16)        0         \n",
      "                                                                 \n",
      " flatten (Flatten)           (None, 3600)              0         \n",
      "                                                                 \n",
      " dense (Dense)               (None, 100)               360100    \n",
      "                                                                 \n",
      " activation_2 (Activation)   (None, 100)               0         \n",
      "                                                                 \n",
      " dropout_2 (Dropout)         (None, 100)               0         \n",
      "                                                                 \n",
      " dense_1 (Dense)             (None, 70)                7070      \n",
      "                                                                 \n",
      " activation_3 (Activation)   (None, 70)                0         \n",
      "                                                                 \n",
      " dropout_3 (Dropout)         (None, 70)                0         \n",
      "                                                                 \n",
      " dense_2 (Dense)             (None, 10)                710       \n",
      "                                                                 \n",
      " activation_4 (Activation)   (None, 10)                0         \n",
      "                                                                 \n",
      "=================================================================\n",
      "Total params: 369,272\n",
      "Trainable params: 369,272\n",
      "Non-trainable params: 0\n",
      "_________________________________________________________________\n"
     ]
    }
   ],
   "source": [
    "model.summary()"
   ]
  },
  {
   "cell_type": "code",
   "execution_count": 12,
   "metadata": {
    "id": "d2qCMDhArEn6"
   },
   "outputs": [],
   "source": [
    "def show_accuracy(model, X_test, y_test):\n",
    "    train_acc = history.history['accuracy'][-1]\n",
    "    test_loss, test_acc = model.evaluate(X_test, y_test, verbose = 0)\n",
    "    print(f'Accuracy train: {train_acc:.4f},\\n'\n",
    "        f'Accuracy test: {test_acc:.4f}')\n",
    "  \n",
    "    return train_acc, test_acc"
   ]
  },
  {
   "cell_type": "code",
   "execution_count": 13,
   "metadata": {
    "colab": {
     "base_uri": "https://localhost:8080/"
    },
    "id": "WKmKJsU-v8ta",
    "outputId": "ed41ef1e-7248-4a3d-b649-c7543f5724bb"
   },
   "outputs": [
    {
     "name": "stdout",
     "output_type": "stream",
     "text": [
      "Accuracy train: 0.5439,\n",
      "Accuracy test: 0.6145\n"
     ]
    }
   ],
   "source": [
    "train_acc, test_acc = show_accuracy(model, X_test, y_test)"
   ]
  },
  {
   "cell_type": "code",
   "execution_count": 14,
   "metadata": {
    "id": "eNl5q_FYv76B"
   },
   "outputs": [],
   "source": [
    "results['model'].append('model_baselne')\n",
    "results['conv layers'].append('2')\n",
    "results['max filters'].append('32')\n",
    "results['train acc'].append(train_acc)\n",
    "results['test acc'].append(test_acc)"
   ]
  },
  {
   "cell_type": "code",
   "execution_count": 15,
   "metadata": {
    "id": "eqmwkQEmf7h1"
   },
   "outputs": [],
   "source": [
    "N=140\n",
    "\n",
    "y_pred_probs = model.predict(X_test[N][None])\n",
    "y_pred = np.argmax(y_pred_probs)"
   ]
  },
  {
   "cell_type": "code",
   "execution_count": 16,
   "metadata": {
    "colab": {
     "base_uri": "https://localhost:8080/",
     "height": 281
    },
    "id": "-qr7RFHvguBW",
    "outputId": "8b9b28d9-e0de-4bdd-a60d-2a27995cbaa0"
   },
   "outputs": [
    {
     "data": {
      "image/png": "[encoded data removed]",
      "text/plain": [
       "<Figure size 432x288 with 1 Axes>"
      ]
     },
     "metadata": {
      "needs_background": "light"
     },
     "output_type": "display_data"
    }
   ],
   "source": [
    "plt.title(f'Объект классификцирован как {classes[y_pred]}, на самом деле это {classes[int(y_test_labels[N])]}')\n",
    "plt.imshow(X_test[N])\n",
    "plt.show()"
   ]
  },
  {
   "cell_type": "markdown",
   "metadata": {
    "id": "JS6FSZSrlH35"
   },
   "source": [
    "Модель получилась слабая! Будем ее дорабатывать"
   ]
  },
  {
   "cell_type": "markdown",
   "metadata": {
    "id": "ENAYL542hnb-"
   },
   "source": [
    "##### **Задание 2** Оценить рост точности при увеличении ширины сети (больше/меньше фильтров)"
   ]
  },
  {
   "cell_type": "code",
   "execution_count": 17,
   "metadata": {
    "id": "BvclvuK4YiRy"
   },
   "outputs": [],
   "source": [
    "def fit_model(model, X_train, y_train, X_test, y_test):\n",
    "    # Выполним компиляцию\n",
    "    model.compile(optimizer = Adam(),\n",
    "              loss = CategoricalCrossentropy(),\n",
    "              metrics = ['accuracy']\n",
    "              ) \n",
    "  \n",
    "  \n",
    "\n",
    "    history = model.fit(X_train, y_train,\n",
    "                    epochs=epochs,\n",
    "                    batch_size=batch_size,\n",
    "                    validation_data=(X_test, y_test),\n",
    "                    verbose = 0)\n",
    "  \n",
    "    return history\n"
   ]
  },
  {
   "cell_type": "code",
   "execution_count": 18,
   "metadata": {
    "colab": {
     "base_uri": "https://localhost:8080/"
    },
    "id": "k1UvSseLSw6K",
    "outputId": "a5776a4d-60c7-4696-c3c6-217a8d5c74fc"
   },
   "outputs": [
    {
     "name": "stdout",
     "output_type": "stream",
     "text": [
      "Accuracy train: 0.7590,\n",
      "Accuracy test: 0.6856\n"
     ]
    }
   ],
   "source": [
    "# конфигурирование слоев нейросети\n",
    "model1 = Sequential()\n",
    "\n",
    "# слои нейросети отвественные за свертку и max-pooling\n",
    "#слой 1\n",
    "model1.add(Conv2D(32, (3, 3), padding='same',\n",
    "                 input_shape=X_train.shape[1:]))\n",
    "model1.add(Activation('relu'))\n",
    "model1.add(MaxPooling2D(pool_size=(2, 2)))\n",
    "model1.add(BatchNormalization())\n",
    "model1.add(Dropout(0.5))\n",
    "\n",
    "#слой 2\n",
    "model1.add(Conv2D(64, (3, 3)))\n",
    "model1.add(Activation('relu'))\n",
    "model1.add(MaxPooling2D(pool_size=(2, 2)))\n",
    "model1.add(BatchNormalization())\n",
    "model1.add(Dropout(0.5))\n",
    "\n",
    "# линейные полносвязные слои\n",
    "model1.add(Flatten())\n",
    "model1.add(Dense(256))\n",
    "model1.add(Activation('relu'))\n",
    "model1.add(BatchNormalization())\n",
    "model1.add(Dropout(0.25))\n",
    "\n",
    "model1.add(Dense(128))\n",
    "model1.add(Activation('relu'))\n",
    "model1.add(BatchNormalization())\n",
    "model1.add(Dropout(0.25))\n",
    "\n",
    "model1.add(Dense(num_classes))\n",
    "model1.add(Activation('softmax'))\n",
    "\n",
    "history = fit_model(model1, X_train, y_train, X_test, y_test)\n",
    "train_acc, test_acc = show_accuracy(model1, X_test, y_test)"
   ]
  },
  {
   "cell_type": "code",
   "execution_count": 19,
   "metadata": {
    "id": "9gvtPnDCTE4i"
   },
   "outputs": [],
   "source": [
    "results['model'].append('model1')\n",
    "results['conv layers'].append('2')\n",
    "results['max filters'].append('64')\n",
    "results['train acc'].append(train_acc)\n",
    "results['test acc'].append(test_acc)"
   ]
  },
  {
   "cell_type": "code",
   "execution_count": 20,
   "metadata": {
    "colab": {
     "base_uri": "https://localhost:8080/"
    },
    "id": "7-OKSTYGjCIO",
    "outputId": "4e4d0b34-f07b-42f9-bcac-e54e379e91f8"
   },
   "outputs": [
    {
     "name": "stdout",
     "output_type": "stream",
     "text": [
      "Accuracy train: 0.9055,\n",
      "Accuracy test: 0.7269\n"
     ]
    }
   ],
   "source": [
    "# УВЕЛИЧИМ КОЛИЧЕСТВО КАНАЛОВ\n",
    "\n",
    "model2 = Sequential()\n",
    "\n",
    "# слои нейросети отвественные за свертку и max-pooling\n",
    "#слой 1\n",
    "model2.add(Conv2D(64, (3, 3), padding='same',\n",
    "                 input_shape=X_train.shape[1:]))\n",
    "model2.add(Activation('relu'))\n",
    "model2.add(Dropout(0.25))\n",
    "\n",
    "#слой 2\n",
    "model2.add(Conv2D(128, (3, 3)))\n",
    "model2.add(Activation('relu'))\n",
    "model2.add(MaxPooling2D(pool_size=(2, 2)))\n",
    "model2.add(Dropout(0.25))\n",
    "\n",
    "# полносвязные слои нейронной сети\n",
    "model2.add(Flatten())\n",
    "model2.add(Dense(128))\n",
    "model2.add(Activation('relu'))\n",
    "model2.add(BatchNormalization())\n",
    "model2.add(Dropout(0.25))\n",
    "\n",
    "model2.add(Dense(64))\n",
    "model2.add(Activation('relu'))\n",
    "model2.add(BatchNormalization())\n",
    "model2.add(Dropout(0.25))\n",
    "\n",
    "model2.add(Dense(num_classes))\n",
    "model2.add(Activation('softmax'))\n",
    "\n",
    "history = fit_model(model2, X_train, y_train, X_test, y_test)\n",
    "train_acc, test_acc = show_accuracy(model2, X_test, y_test)"
   ]
  },
  {
   "cell_type": "code",
   "execution_count": 21,
   "metadata": {
    "id": "DgkQ29mRBsal"
   },
   "outputs": [],
   "source": [
    "results['model'].append('model2')\n",
    "results['conv layers'].append('2')\n",
    "results['max filters'].append('128')\n",
    "results['train acc'].append(train_acc)\n",
    "results['test acc'].append(test_acc)"
   ]
  },
  {
   "cell_type": "markdown",
   "metadata": {
    "id": "eSVGfvh90MeG"
   },
   "source": [
    "С увеличением количества фильтров, метрика также увеличивается, однако сильное переобучение. Оставим пока максимум 128 фильтров и попробуем невелировать переобучение"
   ]
  },
  {
   "cell_type": "code",
   "execution_count": 22,
   "metadata": {
    "colab": {
     "base_uri": "https://localhost:8080/"
    },
    "id": "HyF94QAvjCK1",
    "outputId": "003f4139-926d-4ccf-8210-c199382ef40b"
   },
   "outputs": [
    {
     "name": "stdout",
     "output_type": "stream",
     "text": [
      "Accuracy train: 0.8254,\n",
      "Accuracy test: 0.7425\n"
     ]
    }
   ],
   "source": [
    "#ДОБАВИМ BATCH NORMALIZATION и увеличим количество нейронов линейных слоев\n",
    "\n",
    "# конфигурирование слоев нейросети\n",
    "model3 = Sequential()\n",
    "\n",
    "# слои нейросети отвественные за свертку и max-pooling\n",
    "# слой 1\n",
    "model3.add(Conv2D(64, (3, 3), padding='same',\n",
    "                 input_shape=X_train.shape[1:]))\n",
    "model3.add(Activation('relu'))\n",
    "model3.add(MaxPooling2D(pool_size=(2, 2)))\n",
    "model3.add(BatchNormalization())\n",
    "model3.add(Dropout(0.5))\n",
    "\n",
    "# слой 2\n",
    "model3.add(Conv2D(128, (3, 3)))\n",
    "model3.add(Activation('relu'))\n",
    "model3.add(MaxPooling2D(pool_size=(2, 2)))\n",
    "model3.add(BatchNormalization())\n",
    "model3.add(Dropout(0.5))\n",
    "\n",
    "# полносвязные линейные слои\n",
    "model3.add(Flatten())\n",
    "model3.add(Dense(256))\n",
    "model3.add(Activation('relu'))\n",
    "model3.add(BatchNormalization())\n",
    "model3.add(Dropout(0.25))\n",
    "\n",
    "model3.add(Dense(128))\n",
    "model3.add(Activation('relu'))\n",
    "model3.add(BatchNormalization())\n",
    "model3.add(Dropout(0.25))\n",
    "\n",
    "model3.add(Dense(num_classes))\n",
    "model3.add(Activation('softmax'))\n",
    "\n",
    "history = fit_model(model3, X_train, y_train, X_test, y_test)\n",
    "train_acc, test_acc = show_accuracy(model3, X_test, y_test)"
   ]
  },
  {
   "cell_type": "code",
   "execution_count": 23,
   "metadata": {
    "id": "YKonddFkB9dw"
   },
   "outputs": [],
   "source": [
    "results['model'].append('model3_added_batch_norm')\n",
    "results['conv layers'].append('2')\n",
    "results['max filters'].append('128')\n",
    "results['train acc'].append(train_acc)\n",
    "results['test acc'].append(test_acc)"
   ]
  },
  {
   "cell_type": "markdown",
   "metadata": {
    "id": "zZQgnCFrEub1"
   },
   "source": [
    "Нормализация (стандартизация) поспособствовала увеличению метрики. Однако переобучение сохранилось."
   ]
  },
  {
   "cell_type": "code",
   "execution_count": 24,
   "metadata": {
    "colab": {
     "base_uri": "https://localhost:8080/"
    },
    "id": "AxUvY-W7W9VP",
    "outputId": "4681545c-296b-4a42-ef9a-8cc85c6d091d"
   },
   "outputs": [
    {
     "name": "stdout",
     "output_type": "stream",
     "text": [
      "Accuracy train: 0.8842,\n",
      "Accuracy test: 0.7759\n"
     ]
    }
   ],
   "source": [
    "# ЕЩЕ УВЕЛИЧИМ КОЛИЧЕСТВО КАНАЛОВ \n",
    "\n",
    "# конфигурирование слоев нейросети\n",
    "model4 = Sequential()\n",
    "\n",
    "# слои нейросети отвественные за свертку и max-pooling\n",
    "#слой 1\n",
    "model4.add(Conv2D(128, (3, 3), padding='same',\n",
    "                 input_shape=X_train.shape[1:]))\n",
    "model4.add(Activation('relu'))\n",
    "model4.add(MaxPooling2D(pool_size=(2, 2)))\n",
    "model4.add(BatchNormalization())\n",
    "model4.add(Dropout(0.5))\n",
    "\n",
    "#слой 2\n",
    "model4.add(Conv2D(256, (3, 3)))\n",
    "model4.add(Activation('relu'))\n",
    "model4.add(MaxPooling2D(pool_size=(2, 2)))\n",
    "model4.add(BatchNormalization())\n",
    "model4.add(Dropout(0.5))\n",
    "\n",
    "# линейные полносвязные слои\n",
    "model4.add(Flatten())\n",
    "model4.add(Dense(256))\n",
    "model4.add(Activation('relu'))\n",
    "model4.add(BatchNormalization())\n",
    "model4.add(Dropout(0.25))\n",
    "\n",
    "model4.add(Dense(128))\n",
    "model4.add(Activation('relu'))\n",
    "model4.add(BatchNormalization())\n",
    "model4.add(Dropout(0.25))\n",
    "\n",
    "model4.add(Dense(num_classes))\n",
    "model4.add(Activation('softmax'))\n",
    "\n",
    "history = fit_model(model4, X_train, y_train, X_test, y_test)\n",
    "train_acc, test_acc = show_accuracy(model4, X_test, y_test)"
   ]
  },
  {
   "cell_type": "markdown",
   "metadata": {
    "id": "6X5CIozyzGU8"
   },
   "source": [
    "Метрика снова повысилась"
   ]
  },
  {
   "cell_type": "code",
   "execution_count": 25,
   "metadata": {
    "id": "m2XBU9AlE69T"
   },
   "outputs": [],
   "source": [
    "results['model'].append('model4')\n",
    "results['conv layers'].append('2')\n",
    "results['max filters'].append('256')\n",
    "results['train acc'].append(train_acc)\n",
    "results['test acc'].append(test_acc)"
   ]
  },
  {
   "cell_type": "code",
   "execution_count": 27,
   "metadata": {
    "colab": {
     "base_uri": "https://localhost:8080/"
    },
    "id": "J8dXUGGin-DF",
    "outputId": "7fe58efa-eaf3-4391-a221-2f9f45666f2d"
   },
   "outputs": [
    {
     "name": "stdout",
     "output_type": "stream",
     "text": [
      "Model: \"sequential_4\"\n",
      "_________________________________________________________________\n",
      " Layer (type)                Output Shape              Param #   \n",
      "=================================================================\n",
      " conv2d_8 (Conv2D)           (None, 32, 32, 128)       3584      \n",
      "                                                                 \n",
      " activation_20 (Activation)  (None, 32, 32, 128)       0         \n",
      "                                                                 \n",
      " max_pooling2d_6 (MaxPooling  (None, 16, 16, 128)      0         \n",
      " 2D)                                                             \n",
      "                                                                 \n",
      " batch_normalization_10 (Bat  (None, 16, 16, 128)      512       \n",
      " chNormalization)                                                \n",
      "                                                                 \n",
      " dropout_16 (Dropout)        (None, 16, 16, 128)       0         \n",
      "                                                                 \n",
      " conv2d_9 (Conv2D)           (None, 14, 14, 256)       295168    \n",
      "                                                                 \n",
      " activation_21 (Activation)  (None, 14, 14, 256)       0         \n",
      "                                                                 \n",
      " max_pooling2d_7 (MaxPooling  (None, 7, 7, 256)        0         \n",
      " 2D)                                                             \n",
      "                                                                 \n",
      " batch_normalization_11 (Bat  (None, 7, 7, 256)        1024      \n",
      " chNormalization)                                                \n",
      "                                                                 \n",
      " dropout_17 (Dropout)        (None, 7, 7, 256)         0         \n",
      "                                                                 \n",
      " flatten_4 (Flatten)         (None, 12544)             0         \n",
      "                                                                 \n",
      " dense_12 (Dense)            (None, 256)               3211520   \n",
      "                                                                 \n",
      " activation_22 (Activation)  (None, 256)               0         \n",
      "                                                                 \n",
      " batch_normalization_12 (Bat  (None, 256)              1024      \n",
      " chNormalization)                                                \n",
      "                                                                 \n",
      " dropout_18 (Dropout)        (None, 256)               0         \n",
      "                                                                 \n",
      " dense_13 (Dense)            (None, 128)               32896     \n",
      "                                                                 \n",
      " activation_23 (Activation)  (None, 128)               0         \n",
      "                                                                 \n",
      " batch_normalization_13 (Bat  (None, 128)              512       \n",
      " chNormalization)                                                \n",
      "                                                                 \n",
      " dropout_19 (Dropout)        (None, 128)               0         \n",
      "                                                                 \n",
      " dense_14 (Dense)            (None, 10)                1290      \n",
      "                                                                 \n",
      " activation_24 (Activation)  (None, 10)                0         \n",
      "                                                                 \n",
      "=================================================================\n",
      "Total params: 3,547,530\n",
      "Trainable params: 3,545,994\n",
      "Non-trainable params: 1,536\n",
      "_________________________________________________________________\n"
     ]
    }
   ],
   "source": [
    "model4.summary()"
   ]
  },
  {
   "cell_type": "markdown",
   "metadata": {
    "id": "jF3I5F_LlGzJ"
   },
   "source": [
    "Итак, с увеличением количества фильтров метрика на трейне увеличивается, однако, присутствует переобучение. Попробуем теперь увеличить количество сверточных слоев."
   ]
  },
  {
   "cell_type": "markdown",
   "metadata": {
    "id": "byiN91imjCU8"
   },
   "source": [
    "##### **Задание 3** Оценить рост точности при увеличении ширины сети (больше/меньше слоев)"
   ]
  },
  {
   "cell_type": "code",
   "execution_count": 29,
   "metadata": {
    "colab": {
     "base_uri": "https://localhost:8080/"
    },
    "id": "uZfozsCHg0XD",
    "outputId": "d4f48ee1-d7c9-4113-c672-7d1233963187"
   },
   "outputs": [
    {
     "name": "stdout",
     "output_type": "stream",
     "text": [
      "Accuracy train: 0.7296,\n",
      "Accuracy test: 0.7321\n"
     ]
    }
   ],
   "source": [
    "#УВЕЛИЧИМ КОЛИЧЕСТВО СВЕРТОЧНЫХ СЛОЕВ\n",
    "\n",
    "# конфигурирование слоев нейросети\n",
    "model5 = Sequential()\n",
    "\n",
    "# слои нейросети отвественные за свертку и max-pooling\n",
    "#слой 1\n",
    "model5.add(Conv2D(64, (3, 3), padding='same',\n",
    "                 input_shape=X_train.shape[1:]))\n",
    "model5.add(Activation('relu'))\n",
    "model5.add(MaxPooling2D(pool_size=(2, 2)))\n",
    "model5.add(BatchNormalization())\n",
    "model5.add(Dropout(0.5))\n",
    "\n",
    "\n",
    "#слой 2\n",
    "model5.add(Conv2D(128, (3, 3)))\n",
    "model5.add(Activation('relu'))\n",
    "model5.add(MaxPooling2D(pool_size=(2, 2)))\n",
    "model5.add(BatchNormalization())\n",
    "model5.add(Dropout(0.5))\n",
    "\n",
    "#слой 3\n",
    "model5.add(Conv2D(256, (3, 3)))\n",
    "model5.add(Activation('relu'))\n",
    "model5.add(MaxPooling2D(pool_size=(2, 2)))\n",
    "model5.add(BatchNormalization())\n",
    "model5.add(Dropout(0.5))\n",
    "\n",
    "# полносвязные линейные слои\n",
    "model5.add(Flatten())\n",
    "model5.add(Dense(256))\n",
    "model5.add(Activation('relu'))\n",
    "model5.add(BatchNormalization())\n",
    "model5.add(Dropout(0.25))\n",
    "\n",
    "model5.add(Dense(128))\n",
    "model5.add(Activation('relu'))\n",
    "model5.add(BatchNormalization())\n",
    "model5.add(Dropout(0.25))\n",
    "\n",
    "model5.add(Dense(num_classes))\n",
    "model5.add(Activation('softmax'))\n",
    "\n",
    "history = fit_model(model5, X_train, y_train, X_test, y_test)\n",
    "train_acc, test_acc = show_accuracy(model5, X_test, y_test)"
   ]
  },
  {
   "cell_type": "markdown",
   "metadata": {
    "id": "zpqBXOnz4qE9"
   },
   "source": [
    "Метрика чуть ухудщилась"
   ]
  },
  {
   "cell_type": "code",
   "execution_count": 30,
   "metadata": {
    "id": "W2A1WHlwjXj6"
   },
   "outputs": [],
   "source": [
    "results['model'].append('model5')\n",
    "results['conv layers'].append('3')\n",
    "results['max filters'].append('256')\n",
    "results['train acc'].append(train_acc)\n",
    "results['test acc'].append(test_acc)"
   ]
  },
  {
   "cell_type": "code",
   "execution_count": 32,
   "metadata": {
    "colab": {
     "base_uri": "https://localhost:8080/"
    },
    "id": "Xzkj8_gJnWwX",
    "outputId": "0ee1c2eb-9430-41cc-9647-21d7cd5b84a9"
   },
   "outputs": [
    {
     "name": "stdout",
     "output_type": "stream",
     "text": [
      "Model: \"sequential_6\"\n",
      "_________________________________________________________________\n",
      " Layer (type)                Output Shape              Param #   \n",
      "=================================================================\n",
      " conv2d_13 (Conv2D)          (None, 32, 32, 64)        1792      \n",
      "                                                                 \n",
      " activation_31 (Activation)  (None, 32, 32, 64)        0         \n",
      "                                                                 \n",
      " max_pooling2d_11 (MaxPoolin  (None, 16, 16, 64)       0         \n",
      " g2D)                                                            \n",
      "                                                                 \n",
      " batch_normalization_19 (Bat  (None, 16, 16, 64)       256       \n",
      " chNormalization)                                                \n",
      "                                                                 \n",
      " dropout_25 (Dropout)        (None, 16, 16, 64)        0         \n",
      "                                                                 \n",
      " conv2d_14 (Conv2D)          (None, 14, 14, 128)       73856     \n",
      "                                                                 \n",
      " activation_32 (Activation)  (None, 14, 14, 128)       0         \n",
      "                                                                 \n",
      " max_pooling2d_12 (MaxPoolin  (None, 7, 7, 128)        0         \n",
      " g2D)                                                            \n",
      "                                                                 \n",
      " batch_normalization_20 (Bat  (None, 7, 7, 128)        512       \n",
      " chNormalization)                                                \n",
      "                                                                 \n",
      " dropout_26 (Dropout)        (None, 7, 7, 128)         0         \n",
      "                                                                 \n",
      " conv2d_15 (Conv2D)          (None, 5, 5, 256)         295168    \n",
      "                                                                 \n",
      " activation_33 (Activation)  (None, 5, 5, 256)         0         \n",
      "                                                                 \n",
      " max_pooling2d_13 (MaxPoolin  (None, 2, 2, 256)        0         \n",
      " g2D)                                                            \n",
      "                                                                 \n",
      " batch_normalization_21 (Bat  (None, 2, 2, 256)        1024      \n",
      " chNormalization)                                                \n",
      "                                                                 \n",
      " dropout_27 (Dropout)        (None, 2, 2, 256)         0         \n",
      "                                                                 \n",
      " flatten_6 (Flatten)         (None, 1024)              0         \n",
      "                                                                 \n",
      " dense_18 (Dense)            (None, 256)               262400    \n",
      "                                                                 \n",
      " activation_34 (Activation)  (None, 256)               0         \n",
      "                                                                 \n",
      " batch_normalization_22 (Bat  (None, 256)              1024      \n",
      " chNormalization)                                                \n",
      "                                                                 \n",
      " dropout_28 (Dropout)        (None, 256)               0         \n",
      "                                                                 \n",
      " dense_19 (Dense)            (None, 128)               32896     \n",
      "                                                                 \n",
      " activation_35 (Activation)  (None, 128)               0         \n",
      "                                                                 \n",
      " batch_normalization_23 (Bat  (None, 128)              512       \n",
      " chNormalization)                                                \n",
      "                                                                 \n",
      " dropout_29 (Dropout)        (None, 128)               0         \n",
      "                                                                 \n",
      " dense_20 (Dense)            (None, 10)                1290      \n",
      "                                                                 \n",
      " activation_36 (Activation)  (None, 10)                0         \n",
      "                                                                 \n",
      "=================================================================\n",
      "Total params: 670,730\n",
      "Trainable params: 669,066\n",
      "Non-trainable params: 1,664\n",
      "_________________________________________________________________\n"
     ]
    }
   ],
   "source": [
    "model5.summary()"
   ]
  },
  {
   "cell_type": "code",
   "execution_count": 33,
   "metadata": {
    "colab": {
     "base_uri": "https://localhost:8080/"
    },
    "id": "ANPSHi79qpY6",
    "outputId": "8b76b408-459d-4dab-f304-93201d458647"
   },
   "outputs": [
    {
     "name": "stdout",
     "output_type": "stream",
     "text": [
      "Accuracy train: 0.7416,\n",
      "Accuracy test: 0.6940\n"
     ]
    }
   ],
   "source": [
    "# ПОПРОБУЕМ ТАКЖЕ ЗАМЕНИТЬ MaxPooling на AveragePooling\n",
    "\n",
    "from tensorflow.keras.layers import AveragePooling2D\n",
    "\n",
    "#УВЕЛИЧИМ КОЛИЧЕСТВО СВЕРТОЧНЫХ СЛОЕВ\n",
    "\n",
    "# конфигурирование слоев нейросети\n",
    "model6 = Sequential()\n",
    "\n",
    "# слои нейросети отвественные за свертку и max-pooling\n",
    "#слой 1\n",
    "model6.add(Conv2D(64, (3, 3), padding='same',\n",
    "                 input_shape=X_train.shape[1:]))\n",
    "model6.add(Activation('relu'))\n",
    "model6.add(AveragePooling2D(pool_size=(2, 2)))\n",
    "model6.add(BatchNormalization())\n",
    "model6.add(Dropout(0.5))\n",
    "\n",
    "\n",
    "#слой 2\n",
    "model6.add(Conv2D(128, (3, 3)))\n",
    "model6.add(Activation('relu'))\n",
    "model6.add(AveragePooling2D(pool_size=(2, 2)))\n",
    "model6.add(BatchNormalization())\n",
    "model6.add(Dropout(0.5))\n",
    "\n",
    "#слой 3\n",
    "model6.add(Conv2D(256, (3, 3)))\n",
    "model6.add(Activation('relu'))\n",
    "model6.add(AveragePooling2D(pool_size=(2, 2)))\n",
    "model6.add(BatchNormalization())\n",
    "model6.add(Dropout(0.5))\n",
    "\n",
    "# оставим два полносвязных слоя\n",
    "model6.add(Flatten())\n",
    "model6.add(Dense(512))\n",
    "model6.add(Activation('relu'))\n",
    "model6.add(BatchNormalization())\n",
    "model6.add(Dropout(0.50))\n",
    "\n",
    "model6.add(Dense(num_classes))\n",
    "model6.add(Activation('softmax'))\n",
    "\n",
    "history = fit_model(model6, X_train, y_train, X_test, y_test)\n",
    "train_acc, test_acc = show_accuracy(model6, X_test, y_test)"
   ]
  },
  {
   "cell_type": "code",
   "execution_count": 34,
   "metadata": {
    "id": "8R_MU3w3q0s_"
   },
   "outputs": [],
   "source": [
    "results['model'].append('model6 - AvPooling test')\n",
    "results['conv layers'].append('3')\n",
    "results['max filters'].append('256')\n",
    "results['train acc'].append(train_acc)\n",
    "results['test acc'].append(test_acc)"
   ]
  },
  {
   "cell_type": "code",
   "execution_count": 35,
   "metadata": {
    "colab": {
     "base_uri": "https://localhost:8080/",
     "height": 266
    },
    "id": "2k1rVh65ElP2",
    "outputId": "b11a7fb1-81a2-46f2-ec3b-d458de06e983"
   },
   "outputs": [
    {
     "data": {
      "text/html": [
       "\n",
       "  <div id=\"df-e751dc42-2b7d-4586-a852-3081424ef2e3\">\n",
       "    <div class=\"colab-df-container\">\n",
       "      <div>\n",
       "<style scoped>\n",
       "    .dataframe tbody tr th:only-of-type {\n",
       "        vertical-align: middle;\n",
       "    }\n",
       "\n",
       "    .dataframe tbody tr th {\n",
       "        vertical-align: top;\n",
       "    }\n",
       "\n",
       "    .dataframe thead th {\n",
       "        text-align: right;\n",
       "    }\n",
       "</style>\n",
       "<table border=\"1\" class=\"dataframe\">\n",
       "  <thead>\n",
       "    <tr style=\"text-align: right;\">\n",
       "      <th></th>\n",
       "      <th>model</th>\n",
       "      <th>conv layers</th>\n",
       "      <th>max filters</th>\n",
       "      <th>train acc</th>\n",
       "      <th>test acc</th>\n",
       "    </tr>\n",
       "  </thead>\n",
       "  <tbody>\n",
       "    <tr>\n",
       "      <th>0</th>\n",
       "      <td>model_baselne</td>\n",
       "      <td>2</td>\n",
       "      <td>32</td>\n",
       "      <td>0.54388</td>\n",
       "      <td>0.6145</td>\n",
       "    </tr>\n",
       "    <tr>\n",
       "      <th>1</th>\n",
       "      <td>model1</td>\n",
       "      <td>2</td>\n",
       "      <td>64</td>\n",
       "      <td>0.75896</td>\n",
       "      <td>0.6856</td>\n",
       "    </tr>\n",
       "    <tr>\n",
       "      <th>2</th>\n",
       "      <td>model2</td>\n",
       "      <td>2</td>\n",
       "      <td>128</td>\n",
       "      <td>0.90554</td>\n",
       "      <td>0.7269</td>\n",
       "    </tr>\n",
       "    <tr>\n",
       "      <th>3</th>\n",
       "      <td>model3_added_batch_norm</td>\n",
       "      <td>2</td>\n",
       "      <td>128</td>\n",
       "      <td>0.82538</td>\n",
       "      <td>0.7425</td>\n",
       "    </tr>\n",
       "    <tr>\n",
       "      <th>4</th>\n",
       "      <td>model4</td>\n",
       "      <td>2</td>\n",
       "      <td>256</td>\n",
       "      <td>0.88420</td>\n",
       "      <td>0.7759</td>\n",
       "    </tr>\n",
       "    <tr>\n",
       "      <th>5</th>\n",
       "      <td>model5</td>\n",
       "      <td>3</td>\n",
       "      <td>256</td>\n",
       "      <td>0.72962</td>\n",
       "      <td>0.7321</td>\n",
       "    </tr>\n",
       "    <tr>\n",
       "      <th>6</th>\n",
       "      <td>model6 - AvPooling test</td>\n",
       "      <td>3</td>\n",
       "      <td>256</td>\n",
       "      <td>0.74160</td>\n",
       "      <td>0.6940</td>\n",
       "    </tr>\n",
       "  </tbody>\n",
       "</table>\n",
       "</div>\n",
       "      <button class=\"colab-df-convert\" onclick=\"convertToInteractive('df-e751dc42-2b7d-4586-a852-3081424ef2e3')\"\n",
       "              title=\"Convert this dataframe to an interactive table.\"\n",
       "              style=\"display:none;\">\n",
       "        \n",
       "  <svg xmlns=\"http://www.w3.org/2000/svg\" height=\"24px\"viewBox=\"0 0 24 24\"\n",
       "       width=\"24px\">\n",
       "    <path d=\"M0 0h24v24H0V0z\" fill=\"none\"/>\n",
       "    <path d=\"M18.56 5.44l.94 2.06.94-2.06 2.06-.94-2.06-.94-.94-2.06-.94 2.06-2.06.94zm-11 1L8.5 8.5l.94-2.06 2.06-.94-2.06-.94L8.5 2.5l-.94 2.06-2.06.94zm10 10l.94 2.06.94-2.06 2.06-.94-2.06-.94-.94-2.06-.94 2.06-2.06.94z\"/><path d=\"M17.41 7.96l-1.37-1.37c-.4-.4-.92-.59-1.43-.59-.52 0-1.04.2-1.43.59L10.3 9.45l-7.72 7.72c-.78.78-.78 2.05 0 2.83L4 21.41c.39.39.9.59 1.41.59.51 0 1.02-.2 1.41-.59l7.78-7.78 2.81-2.81c.8-.78.8-2.07 0-2.86zM5.41 20L4 18.59l7.72-7.72 1.47 1.35L5.41 20z\"/>\n",
       "  </svg>\n",
       "      </button>\n",
       "      \n",
       "  <style>\n",
       "    .colab-df-container {\n",
       "      display:flex;\n",
       "      flex-wrap:wrap;\n",
       "      gap: 12px;\n",
       "    }\n",
       "\n",
       "    .colab-df-convert {\n",
       "      background-color: #E8F0FE;\n",
       "      border: none;\n",
       "      border-radius: 50%;\n",
       "      cursor: pointer;\n",
       "      display: none;\n",
       "      fill: #1967D2;\n",
       "      height: 32px;\n",
       "      padding: 0 0 0 0;\n",
       "      width: 32px;\n",
       "    }\n",
       "\n",
       "    .colab-df-convert:hover {\n",
       "      background-color: #E2EBFA;\n",
       "      box-shadow: 0px 1px 2px rgba(60, 64, 67, 0.3), 0px 1px 3px 1px rgba(60, 64, 67, 0.15);\n",
       "      fill: #174EA6;\n",
       "    }\n",
       "\n",
       "    [theme=dark] .colab-df-convert {\n",
       "      background-color: #3B4455;\n",
       "      fill: #D2E3FC;\n",
       "    }\n",
       "\n",
       "    [theme=dark] .colab-df-convert:hover {\n",
       "      background-color: #434B5C;\n",
       "      box-shadow: 0px 1px 3px 1px rgba(0, 0, 0, 0.15);\n",
       "      filter: drop-shadow(0px 1px 2px rgba(0, 0, 0, 0.3));\n",
       "      fill: #FFFFFF;\n",
       "    }\n",
       "  </style>\n",
       "\n",
       "      <script>\n",
       "        const buttonEl =\n",
       "          document.querySelector('#df-e751dc42-2b7d-4586-a852-3081424ef2e3 button.colab-df-convert');\n",
       "        buttonEl.style.display =\n",
       "          google.colab.kernel.accessAllowed ? 'block' : 'none';\n",
       "\n",
       "        async function convertToInteractive(key) {\n",
       "          const element = document.querySelector('#df-e751dc42-2b7d-4586-a852-3081424ef2e3');\n",
       "          const dataTable =\n",
       "            await google.colab.kernel.invokeFunction('convertToInteractive',\n",
       "                                                     [key], {});\n",
       "          if (!dataTable) return;\n",
       "\n",
       "          const docLinkHtml = 'Like what you see? Visit the ' +\n",
       "            '<a target=\"_blank\" href=https://colab.research.google.com/notebooks/data_table.ipynb>data table notebook</a>'\n",
       "            + ' to learn more about interactive tables.';\n",
       "          element.innerHTML = '';\n",
       "          dataTable['output_type'] = 'display_data';\n",
       "          await google.colab.output.renderOutput(dataTable, element);\n",
       "          const docLink = document.createElement('div');\n",
       "          docLink.innerHTML = docLinkHtml;\n",
       "          element.appendChild(docLink);\n",
       "        }\n",
       "      </script>\n",
       "    </div>\n",
       "  </div>\n",
       "  "
      ],
      "text/plain": [
       "                     model conv layers max filters  train acc  test acc\n",
       "0            model_baselne           2          32    0.54388    0.6145\n",
       "1                   model1           2          64    0.75896    0.6856\n",
       "2                   model2           2         128    0.90554    0.7269\n",
       "3  model3_added_batch_norm           2         128    0.82538    0.7425\n",
       "4                   model4           2         256    0.88420    0.7759\n",
       "5                   model5           3         256    0.72962    0.7321\n",
       "6  model6 - AvPooling test           3         256    0.74160    0.6940"
      ]
     },
     "execution_count": 35,
     "metadata": {},
     "output_type": "execute_result"
    }
   ],
   "source": [
    "pd.DataFrame(results)"
   ]
  },
  {
   "cell_type": "markdown",
   "metadata": {
    "id": "poaE1qUX3vk9"
   },
   "source": [
    "**Общий вывод:**  \n",
    "* при увеличении количества фильтров, точность предсказаний растет, однако растет и переобучение, поэтому увеличивать надо аккуратно, постоянно осуществляя мониторинг роста метрики\n",
    "* с увеличением количества сверточных слоев, метрика не показала увеличения в данной задаче.\n",
    "\n",
    "Дополнительно:  \n",
    "* Подбор количества скрытых линейных слоев (2 скрытых и один выходной). \n",
    "* Добавление Dropout (варьирование его размера), BatchNormalization, MaxPooling. \n",
    "    \n",
    "* AveragePooling ухудшил результат\n",
    "* Данные выводы подходят для конкретной задачи, в целом рекомендации для каждой задачи индивидуальны\n",
    "  \n",
    "Лучшую метрику на тесте с наименьшим переобучением дала модель model4"
   ]
  },
  {
   "cell_type": "code",
   "execution_count": null,
   "metadata": {
    "id": "lGPLzNUyFOHS"
   },
   "outputs": [],
   "source": []
  }
 ],
 "metadata": {
  "accelerator": "GPU",
  "colab": {
   "collapsed_sections": [],
   "name": "NN_HW4.ipynb",
   "provenance": []
  },
  "kernelspec": {
   "display_name": "Python 3",
   "language": "python",
   "name": "python3"
  },
  "language_info": {
   "codemirror_mode": {
    "name": "ipython",
    "version": 3
   },
   "file_extension": ".py",
   "mimetype": "text/x-python",
   "name": "python",
   "nbconvert_exporter": "python",
   "pygments_lexer": "ipython3",
   "version": "3.9.2"
  }
 },
 "nbformat": 4,
 "nbformat_minor": 1
}
